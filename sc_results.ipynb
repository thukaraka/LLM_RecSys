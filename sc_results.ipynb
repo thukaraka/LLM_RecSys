{
 "cells": [
  {
   "cell_type": "code",
   "id": "initial_id",
   "metadata": {
    "collapsed": true,
    "ExecuteTime": {
     "end_time": "2025-10-04T21:39:01.362189Z",
     "start_time": "2025-10-04T21:38:52.125726Z"
    }
   },
   "source": [
    "import re\n",
    "import json\n",
    "import pandas as pd\n",
    "from pathlib import Path\n",
    "from tqdm import tqdm\n",
    "\n",
    "# --- Regex Definitions ---\n",
    "# Matches '1. \"Title\" (1994) - Genre...' or similar\n",
    "RE_COMPLEX_NUMBERED_TITLE = re.compile(\n",
    "    r'^\\s*\\d+[.)]\\s+\"([^\"]+)\"\\s*\\((?P<year>\\d{4})\\).*$'\n",
    ")\n",
    "# MODIFIED: Made more robust to handle markdown bolding and non-quoted titles.\n",
    "# Captures the full \"Title (Year)\" format.\n",
    "RE_TITLE_AND_YEAR = re.compile(\n",
    "    r'^\\s*\\d+[.)]\\s*[\"\\'*]*((?:[^\\n\\r(]*?\\s*\\(\\d{4}\\))).*$', re.DOTALL\n",
    ")\n",
    "# MODIFIED: Made more robust to handle titles with/without quotes and markdown bolding\n",
    "RE_TITLE_ONLY = re.compile(\n",
    "    r'^\\s*\\d+[.)]\\s*[\"\\']?([^\"\\'(\\n]+?)\\s*[\"\\']?\\s*(?:[-–—].*)?$', re.DOTALL\n",
    ")\n",
    "RE_CLEAN_TITLE_ONLY = re.compile(r'^\\s*\\d+[.)]\\s*(?:\"?)(?P<title>[^\"(\\n]+)$', re.DOTALL)\n",
    "\n",
    "\n",
    "# --- Universal Helper Functions ---\n",
    "\n",
    "def clean_movie_title(title: str) -> str:\n",
    "    \"\"\"\n",
    "    Normalize movie titles to the 'Title (Year)' format, handling various imperfections.\n",
    "    \"\"\"\n",
    "    if not isinstance(title, str):\n",
    "        return None\n",
    "\n",
    "    # 1. Clean up surrounding quotes, whitespace, and markdown\n",
    "    title = title.strip().strip('\"').strip(\"'\")\n",
    "    if title.startswith('**') and title.endswith('**'):\n",
    "        title = title.strip('*')\n",
    "\n",
    "    # 2. Prioritize extracting the 'Title (Year)' format directly\n",
    "    match = re.search(r'(.+?\\s*\\(\\d{4}\\))', title)\n",
    "    if match:\n",
    "        # Standardize spacing, e.g., \"Title  (1995)\" -> \"Title (1995)\"\n",
    "        clean_title = match.group(1).strip()\n",
    "        return re.sub(r'\\s+\\(', ' (', clean_title)\n",
    "\n",
    "    # 3. Fallback: If no year is found, split by common delimiters (like '-')\n",
    "    # to remove trailing genres or other text (e.g., \"Pulp Fiction - Crime\")\n",
    "    title = re.split(r'\\s*[-–—]\\s*', title)[0].strip()\n",
    "    return title if title else None\n",
    "\n",
    "\n",
    "# --- Format-Specific Extraction Functions ---\n",
    "\n",
    "def extract_movies_from_json(response: str) -> list[str]:\n",
    "    \"\"\"\n",
    "    Extractor for JSON-formatted responses (Template B).\n",
    "    MODIFIED: Now strictly requires the presence of an opening bracket '['\n",
    "    to attempt extraction. If not found, it returns an empty list [].\n",
    "    \"\"\"\n",
    "    if not isinstance(response, str):\n",
    "        return []\n",
    "\n",
    "    movies = []\n",
    "\n",
    "    # Attempt 1: Full JSON Parse\n",
    "    try:\n",
    "        data = json.loads(response)\n",
    "        movies = data.get(\"recommendations\", [])\n",
    "        if not isinstance(movies, list):\n",
    "             movies = []\n",
    "    except json.JSONDecodeError:\n",
    "        # Attempt 2: Handle Truncated/Malformed JSON by finding quoted strings\n",
    "        # after the opening bracket '['.\n",
    "        bracket_match = re.search(r'\\[(.*)', response, re.DOTALL)\n",
    "        if bracket_match:\n",
    "            content = bracket_match.group(1)\n",
    "            # Find all double-quoted strings (the movie titles) within the content\n",
    "            movies = re.findall(r'\"([^\"]+)\"', content)\n",
    "\n",
    "    # CRITICAL CHANGE: If no movies were extracted AND no opening bracket was found,\n",
    "    # we return empty lists, fulfilling the user's request to \"assign empty values\"\n",
    "    # if the [ or ] structure is missing.\n",
    "    if not movies and '[' not in response:\n",
    "        return []\n",
    "\n",
    "    # NOTE: The previous safety net (Attempt 3: calling extract_movies_from_text_list)\n",
    "    # has been REMOVED to enforce the strict requirement.\n",
    "\n",
    "    cleaned_movies = [clean_movie_title(m) for m in movies if m]\n",
    "    return [m for m in cleaned_movies if m][:10] # Filter out Nones after cleaning\n",
    "\n",
    "\n",
    "def extract_movies_from_text_list(response: str) -> list[str]:\n",
    "    \"\"\"\n",
    "    Extractor for enumerated list responses (Templates A, C, etc.).\n",
    "    \"\"\"\n",
    "    if not isinstance(response, str):\n",
    "        return []\n",
    "\n",
    "    full_text = response.replace(\"\\\\n\", \"\\n\")\n",
    "    recommendations_markers = [\n",
    "        \"RECOMMENDATIONS:\", \"### Recommendations:\", \"### Top 10 Recommendations\",\n",
    "        \"Top 10 Recommendations:\", \"Here are my top 10 recommendations\"\n",
    "    ]\n",
    "    start_index = -1\n",
    "    marker_length = 0\n",
    "    for marker in recommendations_markers:\n",
    "        idx = full_text.lower().find(marker.lower())\n",
    "        if idx != -1 and (start_index == -1 or idx < start_index):\n",
    "            start_index = idx\n",
    "            marker_length = len(marker)\n",
    "\n",
    "    recommendation_text = full_text[start_index + marker_length:] if start_index != -1 else full_text\n",
    "    lines = recommendation_text.splitlines()\n",
    "\n",
    "    extracted = []\n",
    "    for line in lines:\n",
    "        line = line.strip()\n",
    "        if not line: continue\n",
    "\n",
    "        # New Check: Only process lines that start with a number (1., 2), filtering out non-list text\n",
    "        if not re.match(r'^\\s*\\d+[.)]', line):\n",
    "            continue\n",
    "\n",
    "        # 1. Complex: \"Title\" (1994) - Genre...\n",
    "        match_complex = RE_COMPLEX_NUMBERED_TITLE.match(line)\n",
    "        if match_complex:\n",
    "            title = match_complex.group(1).strip()\n",
    "            year = match_complex.group('year')\n",
    "            extracted.append(f\"{title} ({year})\")\n",
    "            continue\n",
    "\n",
    "        # 2. Standard: Title (Year) (Improved to catch titles like **\"Title (Year)\"**)\n",
    "        match_standard = RE_TITLE_AND_YEAR.match(line)\n",
    "        if match_standard:\n",
    "            extracted.append(match_standard.group(1).strip())\n",
    "            continue\n",
    "\n",
    "        # 3. Title Only\n",
    "        match_title_only = RE_TITLE_ONLY.match(line)\n",
    "        if match_title_only:\n",
    "            extracted.append(match_title_only.group(1).strip())\n",
    "            continue\n",
    "\n",
    "        # 4. Clean Title Only\n",
    "        match_clean_title_only = RE_CLEAN_TITLE_ONLY.match(line)\n",
    "        if match_clean_title_only:\n",
    "            extracted.append(match_clean_title_only.group('title').strip())\n",
    "            continue\n",
    "\n",
    "    movies = [clean_movie_title(m) for m in extracted if m]\n",
    "    return [m for m in movies if m][:10]\n",
    "\n",
    "\n",
    "# --- Main Execution Logic (Base Directory changed to match a common pattern) ---\n",
    "\n",
    "# NOTE: I've updated the base directory path to a more common placeholder.\n",
    "# Please ensure this matches your actual file structure: 'gpt_4.o_forC/results_sc' vs 'data/gpt_4o/results_sc'\n",
    "BASE_DIR = Path(\"data/gpt_4o_mini/results_sc\")\n",
    "all_rows = []\n",
    "\n",
    "if not BASE_DIR.exists():\n",
    "    print(f\"Error: Base directory '{BASE_DIR}' not found. Please ensure the path is correct.\")\n",
    "else:\n",
    "    for user_dir in tqdm(sorted(BASE_DIR.glob(\"user_*\")), desc=\"Processing Users\"):\n",
    "        try:\n",
    "            user_id = int(user_dir.name.split(\"_\")[1])\n",
    "        except (IndexError, ValueError):\n",
    "            continue\n",
    "\n",
    "        for template_set_dir in sorted(user_dir.iterdir()):\n",
    "            if not template_set_dir.is_dir(): continue\n",
    "            template_set = template_set_dir.name\n",
    "\n",
    "            for temp_dir in sorted(template_set_dir.glob(\"temp_*\")):\n",
    "                if not temp_dir.is_dir(): continue\n",
    "                try:\n",
    "                    temperature = float(temp_dir.name.replace(\"temp_\", \"\"))\n",
    "                except ValueError:\n",
    "                    continue\n",
    "\n",
    "                for json_file in temp_dir.glob(\"*.json\"):\n",
    "                    try:\n",
    "                        style, fairness = json_file.stem.split(\"__\")\n",
    "                    except ValueError:\n",
    "                        print(f\"Skipping file with unexpected name format: {json_file.name}\")\n",
    "                        continue\n",
    "\n",
    "                    with open(json_file, \"r\", encoding=\"utf-8\") as f:\n",
    "                        data = json.load(f)\n",
    "\n",
    "                    for sample in data.get(\"samples\", []):\n",
    "                        response = sample.get(\"response\", \"\")\n",
    "                        movies = []\n",
    "\n",
    "                        # --- LOGIC: Choose extractor based on template folder ---\n",
    "                        # Template B uses the strict JSON extractor that requires '[' for processing.\n",
    "                        if template_set.upper() == 'B':\n",
    "                            movies = extract_movies_from_json(response)\n",
    "                        else:\n",
    "                            # Other templates use the standard text list extractor\n",
    "                            movies = extract_movies_from_text_list(response)\n",
    "\n",
    "                        row = {\n",
    "                            \"user_id\": data.get(\"user_id\", user_id),\n",
    "                            \"template_set\": data.get(\"template_set\", template_set),\n",
    "                            \"style\": data.get(\"style\", style),\n",
    "                            \"fairness\": data.get(\"fairness\", fairness),\n",
    "                            \"temperature\": data.get(\"temperature\", temperature),\n",
    "                            \"sample_id\": sample.get(\"sample_id\"),\n",
    "                            \"raw_response\": response,\n",
    "                            \"recommended_movies\": movies,\n",
    "                            \"source_file\": json_file.name\n",
    "                        }\n",
    "                        all_rows.append(row)\n",
    "\n",
    "# Build the final DataFrame\n",
    "df_final = pd.DataFrame(all_rows)\n",
    "\n",
    "# Expand movie columns\n",
    "if not df_final.empty:\n",
    "    for i in range(10):\n",
    "        df_final[f\"movie_{i+1}\"] = df_final[\"recommended_movies\"].apply(\n",
    "            lambda x: x[i] if isinstance(x, list) and len(x) > i else None\n",
    "        )\n",
    "\n",
    "# Display final results\n",
    "print(\"\\n--- Final DataFrame ---\")\n",
    "if df_final.empty:\n",
    "    print(\"DataFrame is empty. No data was processed.\")\n",
    "else:\n",
    "    print(\"Final shape:\", df_final.shape)\n",
    "    print(\"\\nDataFrame Head:\")\n",
    "    print(df_final.head())\n",
    "    print(\"\\nColumns and Data Types:\")\n",
    "    print(df_final.info())"
   ],
   "outputs": [
    {
     "name": "stderr",
     "output_type": "stream",
     "text": [
      "Processing Users: 100%|██████████| 100/100 [00:04<00:00, 22.52it/s]\n"
     ]
    },
    {
     "name": "stdout",
     "output_type": "stream",
     "text": [
      "\n",
      "--- Final DataFrame ---\n",
      "Final shape: (24000, 19)\n",
      "\n",
      "DataFrame Head:\n",
      "   user_id template_set         style fairness  temperature  sample_id  \\\n",
      "0       10            B  few_shot_cot  neutral          0.2          1   \n",
      "1       10            B  few_shot_cot  neutral          0.2          2   \n",
      "2       10            B  few_shot_cot  neutral          0.2          3   \n",
      "3       10            B  few_shot_cot  neutral          0.2          4   \n",
      "4       10            B  few_shot_cot  neutral          0.2          5   \n",
      "\n",
      "                                        raw_response  \\\n",
      "0  {\"k\":10,\"recommendations\":[\"The Graduate (1967...   \n",
      "1  {\"k\":10,\"recommendations\":[\"The Graduate (1967...   \n",
      "2  {\"k\":10,\"recommendations\":[\"The Graduate (1967...   \n",
      "3  {\"k\":10,\"recommendations\":[\"The Graduate (1967...   \n",
      "4  {\"k\":10,\"recommendations\":[\"The Graduate (1967...   \n",
      "\n",
      "                                  recommended_movies  \\\n",
      "0  [The Graduate (1967), Chinatown (1974), Fargo ...   \n",
      "1  [The Graduate (1967), Fargo (1996), The Shawsh...   \n",
      "2  [The Graduate (1967), Fight Club (1999), The S...   \n",
      "3  [The Graduate (1967), Chinatown (1974), The Sh...   \n",
      "4  [The Graduate (1967), Chinatown (1974), The Sh...   \n",
      "\n",
      "                  source_file              movie_1            movie_2  \\\n",
      "0  few_shot_cot__neutral.json  The Graduate (1967)   Chinatown (1974)   \n",
      "1  few_shot_cot__neutral.json  The Graduate (1967)       Fargo (1996)   \n",
      "2  few_shot_cot__neutral.json  The Graduate (1967)  Fight Club (1999)   \n",
      "3  few_shot_cot__neutral.json  The Graduate (1967)   Chinatown (1974)   \n",
      "4  few_shot_cot__neutral.json  The Graduate (1967)   Chinatown (1974)   \n",
      "\n",
      "                           movie_3                          movie_4  \\\n",
      "0                     Fargo (1996)  The Shawshank Redemption (1994)   \n",
      "1  The Shawshank Redemption (1994)                Goodfellas (1990)   \n",
      "2  The Shawshank Redemption (1994)                Goodfellas (1990)   \n",
      "3  The Shawshank Redemption (1994)                Fight Club (1999)   \n",
      "4  The Shawshank Redemption (1994)                Fight Club (1999)   \n",
      "\n",
      "                           movie_5                 movie_6  \\\n",
      "0  The Silence of the Lambs (1991)       Goodfellas (1990)   \n",
      "1  The Silence of the Lambs (1991)       Fight Club (1999)   \n",
      "2  The Silence of the Lambs (1991)  American Beauty (1999)   \n",
      "3  The Silence of the Lambs (1991)       Goodfellas (1990)   \n",
      "4  The Silence of the Lambs (1991)       Goodfellas (1990)   \n",
      "\n",
      "                     movie_7                 movie_8  \\\n",
      "0  The Usual Suspects (1995)       Fight Club (1999)   \n",
      "1    The Big Lebowski (1998)  American Beauty (1999)   \n",
      "2       The Godfather (1972)       Casablanca (1942)   \n",
      "3          Casablanca (1942)    The Godfather (1972)   \n",
      "4       The Godfather (1972)       Casablanca (1942)   \n",
      "\n",
      "                                  movie_9                 movie_10  \n",
      "0                 The Big Lebowski (1998)   American Beauty (1999)  \n",
      "1               The Usual Suspects (1995)   The Sixth Sense (1999)  \n",
      "2                     Pulp Fiction (1994)  The Big Lebowski (1998)  \n",
      "3  One Flew Over the Cuckoo's Nest (1975)  The Big Lebowski (1998)  \n",
      "4                 The Big Lebowski (1998)             Fargo (1996)  \n",
      "\n",
      "Columns and Data Types:\n",
      "<class 'pandas.core.frame.DataFrame'>\n",
      "RangeIndex: 24000 entries, 0 to 23999\n",
      "Data columns (total 19 columns):\n",
      " #   Column              Non-Null Count  Dtype  \n",
      "---  ------              --------------  -----  \n",
      " 0   user_id             24000 non-null  int64  \n",
      " 1   template_set        24000 non-null  object \n",
      " 2   style               24000 non-null  object \n",
      " 3   fairness            24000 non-null  object \n",
      " 4   temperature         24000 non-null  float64\n",
      " 5   sample_id           24000 non-null  int64  \n",
      " 6   raw_response        24000 non-null  object \n",
      " 7   recommended_movies  24000 non-null  object \n",
      " 8   source_file         24000 non-null  object \n",
      " 9   movie_1             23977 non-null  object \n",
      " 10  movie_2             23975 non-null  object \n",
      " 11  movie_3             23971 non-null  object \n",
      " 12  movie_4             23970 non-null  object \n",
      " 13  movie_5             23966 non-null  object \n",
      " 14  movie_6             23962 non-null  object \n",
      " 15  movie_7             23955 non-null  object \n",
      " 16  movie_8             23950 non-null  object \n",
      " 17  movie_9             23946 non-null  object \n",
      " 18  movie_10            23916 non-null  object \n",
      "dtypes: float64(1), int64(2), object(16)\n",
      "memory usage: 3.5+ MB\n",
      "None\n"
     ]
    }
   ],
   "execution_count": 1
  },
  {
   "metadata": {
    "ExecuteTime": {
     "end_time": "2025-10-18T09:56:26.678220Z",
     "start_time": "2025-10-18T09:56:26.531988Z"
    }
   },
   "cell_type": "code",
   "source": "df_final.to_csv(\"mistral-7/results_sc/mistral_7_sc.csv\", index=False)",
   "id": "f710ba801ebb8e26",
   "outputs": [
    {
     "ename": "NameError",
     "evalue": "name 'df_final' is not defined",
     "output_type": "error",
     "traceback": [
      "\u001B[31m---------------------------------------------------------------------------\u001B[39m",
      "\u001B[31mNameError\u001B[39m                                 Traceback (most recent call last)",
      "\u001B[36mCell\u001B[39m\u001B[36m \u001B[39m\u001B[32mIn[175]\u001B[39m\u001B[32m, line 1\u001B[39m\n\u001B[32m----> \u001B[39m\u001B[32m1\u001B[39m \u001B[43mdf_final\u001B[49m.to_csv(\u001B[33m\"\u001B[39m\u001B[33mmistral-7/results_sc/mistral_7_sc.csv\u001B[39m\u001B[33m\"\u001B[39m, index=\u001B[38;5;28;01mFalse\u001B[39;00m)\n",
      "\u001B[31mNameError\u001B[39m: name 'df_final' is not defined"
     ]
    }
   ],
   "execution_count": 175
  },
  {
   "metadata": {
    "ExecuteTime": {
     "end_time": "2025-10-04T21:39:56.891101Z",
     "start_time": "2025-10-04T21:39:30.623049Z"
    }
   },
   "cell_type": "code",
   "source": [
    "import pandas as pd\n",
    "import re\n",
    "from itertools import combinations\n",
    "from tqdm import tqdm\n",
    "from rapidfuzz import fuzz\n",
    "\n",
    "# Regular expression to find and remove the (YYYY) year suffix\n",
    "# It captures the title part before the year (which might include spaces/punctuation)\n",
    "RE_YEAR = re.compile(r'\\s*\\(\\d{4}\\)\\s*$', re.UNICODE)\n",
    "\n",
    "def strip_year(title: str) -> str:\n",
    "    \"\"\"\n",
    "    Removes the '(YYYY)' year suffix and strips Markdown bolding ('**')\n",
    "    from a movie title for consistent comparison.\n",
    "    \"\"\"\n",
    "    if not title:\n",
    "        return \"\"\n",
    "\n",
    "    # 1. Remove the year suffix\n",
    "    cleaned_title = RE_YEAR.sub('', title).strip()\n",
    "\n",
    "    # 2. PATCH: Remove leading/trailing Markdown bolding (**)\n",
    "    if cleaned_title.startswith('**') and cleaned_title.endswith('**'):\n",
    "        cleaned_title = cleaned_title.strip('*').strip()\n",
    "\n",
    "    return cleaned_title.strip()\n",
    "\n",
    "# ── Fuzzy Jaccard Similarity (Updated) ── #\n",
    "def fuzzy_jaccard_similarity(list1, list2, threshold=80, verbose=False):\n",
    "    \"\"\"\n",
    "    Computes Fuzzy Jaccard Similarity after stripping the year and cleaning\n",
    "    formatting from titles, using a custom threshold of 80 for rapidfuzz.\n",
    "    \"\"\"\n",
    "    # 1. Strip years and clean formatting from all titles\n",
    "    list1_cleaned = [strip_year(t) for t in list1]\n",
    "    list2_cleaned = [strip_year(t) for t in list2]\n",
    "\n",
    "    matched_1, matched_2 = set(), set()\n",
    "\n",
    "    for i, t1 in enumerate(list1_cleaned):\n",
    "        for j, t2 in enumerate(list2_cleaned):\n",
    "            # Skip empty strings and already matched titles in list2\n",
    "            if not t1 or not t2 or j in matched_2:\n",
    "                continue\n",
    "\n",
    "            # Use token_sort_ratio for robust comparison against minor title differences\n",
    "            score = fuzz.token_sort_ratio(t1, t2)\n",
    "\n",
    "            if score >= threshold:\n",
    "                matched_1.add(i)\n",
    "                matched_2.add(j)\n",
    "                if verbose:\n",
    "                    # Use original titles for verbose output\n",
    "                    print(f\" Matched: {list1[i]} ≈ {list2[j]} (Score={score}, Cleaned: '{t1}' vs '{t2}')\")\n",
    "                break\n",
    "\n",
    "    intersection = len(matched_1)\n",
    "    # The union size is based on the original list lengths, as matched_1 and matched_2\n",
    "    # track indices of the original lists.\n",
    "    union = len(list1) + len(list2) - intersection\n",
    "\n",
    "    return intersection / union if union > 0 else 0.0\n",
    "\n",
    "\n",
    "# ── Step 1: Compute pairwise similarities ── #\n",
    "def compute_sample_similarities(df, threshold=80):\n",
    "    \"\"\"\n",
    "    Compute pairwise fuzzy Jaccard similarities between sample_id recommendation lists\n",
    "    for each (user_id, style, temperature), using the specified threshold.\n",
    "    \"\"\"\n",
    "    group_cols = [\"user_id\", \"style\", \"temperature\"]\n",
    "    results = []\n",
    "\n",
    "    for group_key, group_df in tqdm(df.groupby(group_cols), desc=\"Pairwise sample similarities\"):\n",
    "        # Ensure lists are parsed properly (handling potential string representation of lists)\n",
    "        recs = group_df.set_index(\"sample_id\")[\"recommended_movies\"].apply(\n",
    "            # Safely evaluate the string representation of a list/tuple if it's a string\n",
    "            lambda x: eval(x) if isinstance(x, str) and (x.startswith('[') or x.startswith('(')) else x\n",
    "        ).to_dict()\n",
    "\n",
    "        # Compute pairwise similarities between sample_ids\n",
    "        for s1, s2 in combinations(recs.keys(), 2):\n",
    "            # Pass the specified threshold to the similarity function\n",
    "            sim = fuzzy_jaccard_similarity(recs[s1], recs[s2], threshold=threshold)\n",
    "            results.append({\n",
    "                \"user_id\": group_key[0],\n",
    "                \"style\": group_key[1],\n",
    "                \"temperature\": group_key[2],\n",
    "                \"sample_id_1\": s1,\n",
    "                \"sample_id_2\": s2,\n",
    "                \"similarity\": sim\n",
    "            })\n",
    "\n",
    "    return pd.DataFrame(results)\n",
    "\n",
    "\n",
    "# ── Step 2: Average per user_id × style × temperature ── #\n",
    "def compute_user_avg(df_pairs):\n",
    "    return (\n",
    "        df_pairs.groupby([\"user_id\", \"style\", \"temperature\"])[\"similarity\"]\n",
    "        .mean()\n",
    "        .reset_index(name=\"avg_fuzzy_jaccard_similarity\")\n",
    "    )\n",
    "\n",
    "\n",
    "# ── Step 3: Average across users per style × temperature ── #\n",
    "def compute_global_avg(df_user_avg):\n",
    "    return (\n",
    "        df_user_avg.groupby([\"style\", \"temperature\"])[\"avg_fuzzy_jaccard_similarity\"]\n",
    "        .mean()\n",
    "        .reset_index()\n",
    "    )\n",
    "\n",
    "df_sim_pairs = compute_sample_similarities(df_sc_all)\n",
    "df_user_avg_sim = compute_user_avg(df_sim_pairs)\n",
    "df_global_avg_sim = compute_global_avg(df_user_avg_sim)\n"
   ],
   "id": "dd6cdce635bc3503",
   "outputs": [
    {
     "name": "stderr",
     "output_type": "stream",
     "text": [
      "Pairwise sample similarities: 100%|██████████| 1200/1200 [00:25<00:00, 47.13it/s]\n"
     ]
    }
   ],
   "execution_count": 3
  },
  {
   "metadata": {
    "ExecuteTime": {
     "end_time": "2025-10-04T14:08:40.621676Z",
     "start_time": "2025-10-04T14:08:40.607715Z"
    }
   },
   "cell_type": "code",
   "source": "df_global_avg_sim.head(100)",
   "id": "a8f949b398f79543",
   "outputs": [
    {
     "data": {
      "text/plain": [
       "            style  temperature  avg_fuzzy_jaccard_similarity\n",
       "0    few_shot_cot          0.2                      0.647751\n",
       "1    few_shot_cot          0.5                      0.474566\n",
       "2    few_shot_cot          0.7                      0.384184\n",
       "3    few_shot_cot          1.0                      0.247806\n",
       "4    few_shot_cot          1.2                      0.170483\n",
       "5    few_shot_cot          1.4                      0.105191\n",
       "6   zero_shot_cot          0.2                      0.522247\n",
       "7   zero_shot_cot          0.5                      0.460814\n",
       "8   zero_shot_cot          0.7                      0.423210\n",
       "9   zero_shot_cot          1.0                      0.352168\n",
       "10  zero_shot_cot          1.2                      0.294302\n",
       "11  zero_shot_cot          1.4                      0.230524"
      ],
      "text/html": [
       "<div>\n",
       "<style scoped>\n",
       "    .dataframe tbody tr th:only-of-type {\n",
       "        vertical-align: middle;\n",
       "    }\n",
       "\n",
       "    .dataframe tbody tr th {\n",
       "        vertical-align: top;\n",
       "    }\n",
       "\n",
       "    .dataframe thead th {\n",
       "        text-align: right;\n",
       "    }\n",
       "</style>\n",
       "<table border=\"1\" class=\"dataframe\">\n",
       "  <thead>\n",
       "    <tr style=\"text-align: right;\">\n",
       "      <th></th>\n",
       "      <th>style</th>\n",
       "      <th>temperature</th>\n",
       "      <th>avg_fuzzy_jaccard_similarity</th>\n",
       "    </tr>\n",
       "  </thead>\n",
       "  <tbody>\n",
       "    <tr>\n",
       "      <th>0</th>\n",
       "      <td>few_shot_cot</td>\n",
       "      <td>0.2</td>\n",
       "      <td>0.647751</td>\n",
       "    </tr>\n",
       "    <tr>\n",
       "      <th>1</th>\n",
       "      <td>few_shot_cot</td>\n",
       "      <td>0.5</td>\n",
       "      <td>0.474566</td>\n",
       "    </tr>\n",
       "    <tr>\n",
       "      <th>2</th>\n",
       "      <td>few_shot_cot</td>\n",
       "      <td>0.7</td>\n",
       "      <td>0.384184</td>\n",
       "    </tr>\n",
       "    <tr>\n",
       "      <th>3</th>\n",
       "      <td>few_shot_cot</td>\n",
       "      <td>1.0</td>\n",
       "      <td>0.247806</td>\n",
       "    </tr>\n",
       "    <tr>\n",
       "      <th>4</th>\n",
       "      <td>few_shot_cot</td>\n",
       "      <td>1.2</td>\n",
       "      <td>0.170483</td>\n",
       "    </tr>\n",
       "    <tr>\n",
       "      <th>5</th>\n",
       "      <td>few_shot_cot</td>\n",
       "      <td>1.4</td>\n",
       "      <td>0.105191</td>\n",
       "    </tr>\n",
       "    <tr>\n",
       "      <th>6</th>\n",
       "      <td>zero_shot_cot</td>\n",
       "      <td>0.2</td>\n",
       "      <td>0.522247</td>\n",
       "    </tr>\n",
       "    <tr>\n",
       "      <th>7</th>\n",
       "      <td>zero_shot_cot</td>\n",
       "      <td>0.5</td>\n",
       "      <td>0.460814</td>\n",
       "    </tr>\n",
       "    <tr>\n",
       "      <th>8</th>\n",
       "      <td>zero_shot_cot</td>\n",
       "      <td>0.7</td>\n",
       "      <td>0.423210</td>\n",
       "    </tr>\n",
       "    <tr>\n",
       "      <th>9</th>\n",
       "      <td>zero_shot_cot</td>\n",
       "      <td>1.0</td>\n",
       "      <td>0.352168</td>\n",
       "    </tr>\n",
       "    <tr>\n",
       "      <th>10</th>\n",
       "      <td>zero_shot_cot</td>\n",
       "      <td>1.2</td>\n",
       "      <td>0.294302</td>\n",
       "    </tr>\n",
       "    <tr>\n",
       "      <th>11</th>\n",
       "      <td>zero_shot_cot</td>\n",
       "      <td>1.4</td>\n",
       "      <td>0.230524</td>\n",
       "    </tr>\n",
       "  </tbody>\n",
       "</table>\n",
       "</div>"
      ]
     },
     "execution_count": 105,
     "metadata": {},
     "output_type": "execute_result"
    }
   ],
   "execution_count": 105
  },
  {
   "metadata": {
    "ExecuteTime": {
     "end_time": "2025-10-04T14:02:48.845789Z",
     "start_time": "2025-10-04T14:02:48.791662Z"
    }
   },
   "cell_type": "code",
   "source": "df_global_avg_sim.to_csv(\"similarity/gpt_4o_mini_withinsamples.csv\")",
   "id": "ba0fa3877fda0a2c",
   "outputs": [],
   "execution_count": 97
  },
  {
   "metadata": {
    "ExecuteTime": {
     "end_time": "2025-09-29T00:58:40.111556Z",
     "start_time": "2025-09-29T00:58:40.078180Z"
    }
   },
   "cell_type": "code",
   "source": "df_greedy=pd.read_csv(\"data/gpt_4o/results_normal/df_template_gpt_40.csv\")",
   "id": "2ba417dc2eb2e059",
   "outputs": [],
   "execution_count": 8
  },
  {
   "metadata": {
    "ExecuteTime": {
     "end_time": "2025-09-29T00:58:42.778167Z",
     "start_time": "2025-09-29T00:58:42.750444Z"
    }
   },
   "cell_type": "code",
   "source": [
    "import pandas as pd\n",
    "import re\n",
    "from itertools import combinations\n",
    "from tqdm import tqdm\n",
    "from rapidfuzz import fuzz\n",
    "\n",
    "# Regular expression to find and remove the (YYYY) year suffix\n",
    "# It captures the title part before the year (which might include spaces/punctuation)\n",
    "RE_YEAR = re.compile(r'\\s*\\(\\d{4}\\)\\s*$', re.UNICODE)\n",
    "\n",
    "def strip_year(title: str) -> str:\n",
    "    \"\"\"\n",
    "    Removes the '(YYYY)' year suffix and strips Markdown bolding ('**')\n",
    "    from a movie title for consistent comparison.\n",
    "    \"\"\"\n",
    "    if not title:\n",
    "        return \"\"\n",
    "\n",
    "    # 1. Remove the year suffix\n",
    "    cleaned_title = RE_YEAR.sub('', title).strip()\n",
    "\n",
    "    # 2. PATCH: Remove leading/trailing Markdown bolding (**)\n",
    "    if cleaned_title.startswith('**') and cleaned_title.endswith('**'):\n",
    "        cleaned_title = cleaned_title.strip('*').strip()\n",
    "\n",
    "    return cleaned_title.strip()\n",
    "\n",
    "# ── Fuzzy Jaccard Similarity (Updated in Canvas) ── #\n",
    "def fuzzy_jaccard_similarity(list1, list2, threshold=80, verbose=False):\n",
    "    \"\"\"\n",
    "    Computes Fuzzy Jaccard Similarity after stripping the year and cleaning\n",
    "    formatting from titles, using a custom threshold of 80 for rapidfuzz.\n",
    "    \"\"\"\n",
    "    # 1. Strip years and clean formatting from all titles\n",
    "    list1_cleaned = [strip_year(t) for t in list1]\n",
    "    list2_cleaned = [strip_year(t) for t in list2]\n",
    "\n",
    "    matched_1, matched_2 = set(), set()\n",
    "\n",
    "    for i, t1 in enumerate(list1_cleaned):\n",
    "        for j, t2 in enumerate(list2_cleaned):\n",
    "            # Skip empty strings and already matched titles in list2\n",
    "            if not t1 or not t2 or j in matched_2:\n",
    "                continue\n",
    "\n",
    "            # Use token_sort_ratio for robust comparison against minor title differences\n",
    "            score = fuzz.token_sort_ratio(t1, t2)\n",
    "\n",
    "            if score >= threshold:\n",
    "                matched_1.add(i)\n",
    "                matched_2.add(j)\n",
    "                if verbose:\n",
    "                    # Use original titles for verbose output\n",
    "                    print(f\" Matched: {list1[i]} ≈ {list2[j]} (Score={score}, Cleaned: '{t1}' vs '{t2}')\")\n",
    "                break\n",
    "\n",
    "    intersection = len(matched_1)\n",
    "    # The union size is based on the original list lengths, as matched_1 and matched_2\n",
    "    # track indices of the original lists.\n",
    "    union = len(list1) + len(list2) - intersection\n",
    "\n",
    "    return intersection / union if union > 0 else 0.0\n",
    "\n",
    "def compare_samples_to_greedy_verbose(df_sc_all, df_greedy, threshold=80, verbose_user_id=None):\n",
    "    \"\"\"\n",
    "    Compares the average similarity of model-generated sample lists to a corresponding\n",
    "    \"greedy\" (lowest temperature, single-sample) list for the same user/style.\n",
    "    Uses strip_year for cleaning and defaults to a threshold of 80.\n",
    "    \"\"\"\n",
    "    results = []\n",
    "    # Assumes 'C' template set for this specific comparison, as per original logic.\n",
    "    grouped = df_sc_all[df_sc_all[\"template_set\"] == \"C\"].groupby([\"user_id\", \"style\", \"temperature\"])\n",
    "\n",
    "    for (user_id, style, temp), group in grouped:\n",
    "        greedy_row = df_greedy[\n",
    "            (df_greedy[\"user_id\"] == user_id) &\n",
    "            (df_greedy[\"style\"] == style) &\n",
    "            (df_greedy[\"template_set\"] == \"C\")\n",
    "        ]\n",
    "\n",
    "        if greedy_row.empty:\n",
    "            continue\n",
    "\n",
    "        # Get greedy movie list and clean using strip_year\n",
    "        greedy_movies = greedy_row.iloc[0][\"recommended_movies\"]\n",
    "        greedy_movies = eval(greedy_movies) if isinstance(greedy_movies, str) else greedy_movies\n",
    "        # Apply the Canvas's standard cleaning function\n",
    "        greedy_cleaned = [strip_year(t) for t in greedy_movies]\n",
    "\n",
    "        sims = []\n",
    "\n",
    "        if verbose_user_id is not None and user_id == verbose_user_id:\n",
    "            print(f\"\\n=== USER {user_id} | STYLE: {style} | TEMP: {temp} ===\")\n",
    "            print(\"Greedy:\", greedy_movies)\n",
    "\n",
    "        for idx, row in group.iterrows():\n",
    "            sample_movies = row[\"recommended_movies\"]\n",
    "            sample_movies = eval(sample_movies) if isinstance(sample_movies, str) else sample_movies\n",
    "            # Apply the Canvas's standard cleaning function\n",
    "            sample_cleaned = [strip_year(t) for t in sample_movies]\n",
    "\n",
    "            if verbose_user_id is not None and user_id == verbose_user_id:\n",
    "                print(f\"\\nSample (ID={row['sample_id']}):\", sample_movies)\n",
    "\n",
    "            # Use the existing fuzzy_jaccard_similarity, passing the original lists\n",
    "            # The function handles cleaning internally and uses the specified threshold (80)\n",
    "            sim = fuzzy_jaccard_similarity(\n",
    "                sample_movies, # Original list for verbose printing\n",
    "                greedy_movies, # Original list for verbose printing\n",
    "                threshold,\n",
    "                verbose=(verbose_user_id == user_id)\n",
    "            )\n",
    "            sims.append(sim)\n",
    "\n",
    "            if verbose_user_id == user_id:\n",
    "                print(f\"  ➤ Jaccard Similarity: {sim:.4f}\")\n",
    "\n",
    "        avg_sim = sum(sims) / len(sims) if sims else 0.0\n",
    "        results.append({\n",
    "            \"user_id\": user_id,\n",
    "            \"style\": style,\n",
    "            \"temperature\": temp,\n",
    "            \"avg_similarity_to_greedy\": round(avg_sim, 4),\n",
    "            \"num_samples\": len(sims)\n",
    "        })\n",
    "\n",
    "    return pd.DataFrame(results)\n"
   ],
   "id": "3b08b3bc825b4aad",
   "outputs": [],
   "execution_count": 9
  },
  {
   "metadata": {
    "ExecuteTime": {
     "end_time": "2025-09-29T00:58:53.533759Z",
     "start_time": "2025-09-29T00:58:48.145508Z"
    }
   },
   "cell_type": "code",
   "source": "df_result = compare_samples_to_greedy_verbose(df_sc_all, df_greedy, threshold=80)\n",
   "id": "4a2a0d6f3278edbe",
   "outputs": [],
   "execution_count": 10
  },
  {
   "metadata": {
    "ExecuteTime": {
     "end_time": "2025-09-29T00:58:53.629371Z",
     "start_time": "2025-09-29T00:58:53.579768Z"
    }
   },
   "cell_type": "code",
   "source": [
    "# Average across all users, grouped by style and temperature\n",
    "df_avg = df_result.groupby([\"style\", \"temperature\"])[\"avg_similarity_to_greedy\"].mean().reset_index()\n",
    "df_avg = df_avg.sort_values(by=[\"style\", \"temperature\"])\n",
    "print(df_avg)\n"
   ],
   "id": "85fb45c17eb894f5",
   "outputs": [
    {
     "name": "stdout",
     "output_type": "stream",
     "text": [
      "            style  temperature  avg_similarity_to_greedy\n",
      "0    few_shot_cot          0.2                  0.670236\n",
      "1    few_shot_cot          0.5                  0.497017\n",
      "2    few_shot_cot          0.7                  0.400149\n",
      "3    few_shot_cot          1.0                  0.283111\n",
      "4    few_shot_cot          1.2                  0.212600\n",
      "5    few_shot_cot          1.4                  0.093145\n",
      "6   zero_shot_cot          0.2                  0.554831\n",
      "7   zero_shot_cot          0.5                  0.483777\n",
      "8   zero_shot_cot          0.7                  0.436531\n",
      "9   zero_shot_cot          1.0                  0.346650\n",
      "10  zero_shot_cot          1.2                  0.279020\n",
      "11  zero_shot_cot          1.4                  0.063798\n"
     ]
    }
   ],
   "execution_count": 11
  },
  {
   "metadata": {
    "ExecuteTime": {
     "end_time": "2025-09-29T00:59:06.332347Z",
     "start_time": "2025-09-29T00:59:06.287778Z"
    }
   },
   "cell_type": "code",
   "source": "df_avg.to_csv(\"similarity/C_gpt_4o_with_in_sample_and_greedy.csv\")",
   "id": "c498445f1e642d42",
   "outputs": [],
   "execution_count": 12
  },
  {
   "metadata": {
    "ExecuteTime": {
     "end_time": "2025-09-29T00:59:09.640332Z",
     "start_time": "2025-09-29T00:59:09.547299Z"
    }
   },
   "cell_type": "code",
   "source": "df_sc_all.info()",
   "id": "19929c8652dbe916",
   "outputs": [
    {
     "name": "stdout",
     "output_type": "stream",
     "text": [
      "<class 'pandas.core.frame.DataFrame'>\n",
      "RangeIndex: 24000 entries, 0 to 23999\n",
      "Data columns (total 18 columns):\n",
      " #   Column              Non-Null Count  Dtype  \n",
      "---  ------              --------------  -----  \n",
      " 0   user_id             24000 non-null  int64  \n",
      " 1   template_set        24000 non-null  object \n",
      " 2   style               24000 non-null  object \n",
      " 3   fairness            24000 non-null  object \n",
      " 4   temperature         24000 non-null  float64\n",
      " 5   sample_id           24000 non-null  int64  \n",
      " 6   raw_response        24000 non-null  object \n",
      " 7   recommended_movies  24000 non-null  object \n",
      " 8   movie_1             22147 non-null  object \n",
      " 9   movie_2             22019 non-null  object \n",
      " 10  movie_3             21881 non-null  object \n",
      " 11  movie_4             21763 non-null  object \n",
      " 12  movie_5             21712 non-null  object \n",
      " 13  movie_6             21675 non-null  object \n",
      " 14  movie_7             21648 non-null  object \n",
      " 15  movie_8             21630 non-null  object \n",
      " 16  movie_9             21604 non-null  object \n",
      " 17  movie_10            21569 non-null  object \n",
      "dtypes: float64(1), int64(2), object(15)\n",
      "memory usage: 3.3+ MB\n"
     ]
    }
   ],
   "execution_count": 13
  },
  {
   "metadata": {
    "ExecuteTime": {
     "end_time": "2025-10-19T02:09:37.296265Z",
     "start_time": "2025-10-19T02:09:37.243122Z"
    }
   },
   "cell_type": "code",
   "source": [
    "import pandas as pd\n",
    "col_names_for_user_ratings = ['user_id', 'movie_id', 'rating', 'timestamp']\n",
    "col_names_for_users = ['user_id' , 'age' , 'gender' , 'occupation' ,'zip code']\n",
    "\n",
    "\n",
    "df_user_ratings = pd.read_csv(\n",
    "    'data/ml-100k/u.data',\n",
    "    sep='\\t',\n",
    "    header=None,\n",
    "    names=col_names_for_user_ratings,\n",
    "    encoding='latin-1'\n",
    ")\n",
    "\n",
    "# Step 1: Count interactions\n",
    "movie_interactions = (\n",
    "    df_user_ratings\n",
    "    .groupby('movie_id')\n",
    "    .size()\n",
    "    .reset_index(name='interaction_count')\n",
    "    .sort_values(by='interaction_count', ascending=False)\n",
    ")\n"
   ],
   "id": "dcbf2d0ed0772021",
   "outputs": [],
   "execution_count": 3
  },
  {
   "metadata": {
    "ExecuteTime": {
     "end_time": "2025-10-19T02:09:39.736574Z",
     "start_time": "2025-10-19T02:09:39.659749Z"
    }
   },
   "cell_type": "code",
   "source": [
    "\n",
    "df_user_ratings[\"date\"] = pd.to_datetime(df_user_ratings[\"timestamp\"], unit='s')\n",
    "\n",
    "# Count interactions per user\n",
    "interaction_counts = df_user_ratings.groupby('user_id').size()\n",
    "\n",
    "# Filter users with more than 60 interactions (strictly > 100)\n",
    "valid_users = interaction_counts[interaction_counts >= 100].index\n",
    "\n",
    "# Apply the filter\n",
    "df_filtered_user_ratings = df_user_ratings[df_user_ratings['user_id'].isin(valid_users)].copy()\n",
    "\n",
    "# Sort interactions chronologically per user\n",
    "df_filtered_user_ratings.sort_values(['user_id', 'date'], inplace=True)\n",
    "\n",
    "# Split each user's history: 80% train, 20% test\n",
    "train_list = []\n",
    "test_list = []\n",
    "\n",
    "for uid, user_df in df_filtered_user_ratings.groupby('user_id', sort=False):\n",
    "    n = len(user_df)\n",
    "    split_pt = int(n * 0.8)\n",
    "    train_list.append(user_df.iloc[:split_pt])\n",
    "    test_list.append(user_df.iloc[split_pt:])\n",
    "\n",
    "# Combine all user splits\n",
    "train_df = pd.concat(train_list).reset_index(drop=True)\n",
    "test_df = pd.concat(test_list).reset_index(drop=True)\n",
    "\n",
    "# Output some stats\n",
    "print(f\"After filtering, {len(valid_users)} users remain.\")\n",
    "print(f\"Train set: {len(train_df)} rows\")\n",
    "print(f\"Test set:  {len(test_df)} rows\")\n",
    "\n",
    "print(f\"Minimum number of interactions among kept users: {interaction_counts[valid_users].min()}\")\n",
    "print(f\"Number of users with <= 100 interactions: {(interaction_counts < 100).sum()}\")\n"
   ],
   "id": "f66099da0b1b4576",
   "outputs": [
    {
     "name": "stdout",
     "output_type": "stream",
     "text": [
      "After filtering, 364 users remain.\n",
      "Train set: 59469 rows\n",
      "Test set:  15053 rows\n",
      "Minimum number of interactions among kept users: 100\n",
      "Number of users with <= 100 interactions: 579\n"
     ]
    }
   ],
   "execution_count": 4
  },
  {
   "metadata": {
    "ExecuteTime": {
     "end_time": "2025-10-19T02:09:44.321013Z",
     "start_time": "2025-10-19T02:09:44.314096Z"
    }
   },
   "cell_type": "code",
   "source": [
    "import random\n",
    "\n",
    "# Turn your valid_users (Index or list) into a plain list:\n",
    "valid_users_list = list(valid_users)\n",
    "\n",
    "\n",
    "three_picked = [1,92,433]\n",
    "print(\"Picked users:\", three_picked)\n",
    "remaining_valid_users_list = [u for u in valid_users_list if u not in three_picked]\n",
    "print(\"Remaining valid users:\", remaining_valid_users_list)"
   ],
   "id": "f41bb41a0bad7ed7",
   "outputs": [
    {
     "name": "stdout",
     "output_type": "stream",
     "text": [
      "Picked users: [1, 92, 433]\n",
      "Remaining valid users: [5, 6, 7, 10, 11, 13, 15, 16, 18, 21, 22, 23, 26, 38, 42, 43, 44, 49, 56, 57, 58, 59, 60, 62, 64, 70, 72, 82, 83, 85, 87, 90, 94, 95, 99, 102, 104, 109, 110, 116, 119, 125, 128, 130, 141, 144, 145, 151, 152, 158, 159, 160, 174, 177, 178, 181, 184, 188, 189, 193, 194, 197, 198, 200, 201, 207, 210, 213, 214, 216, 221, 222, 223, 224, 230, 233, 234, 236, 239, 244, 246, 249, 250, 254, 256, 262, 263, 264, 267, 268, 269, 270, 271, 276, 279, 280, 286, 290, 291, 292, 293, 294, 295, 296, 297, 298, 299, 301, 303, 305, 307, 308, 311, 312, 313, 314, 318, 320, 321, 325, 326, 327, 328, 330, 332, 334, 336, 339, 342, 343, 344, 345, 346, 347, 354, 360, 361, 363, 373, 374, 378, 379, 380, 381, 385, 387, 389, 391, 392, 393, 394, 397, 398, 399, 401, 405, 406, 407, 409, 416, 417, 425, 426, 429, 435, 436, 437, 442, 445, 447, 450, 452, 453, 454, 455, 456, 457, 458, 459, 463, 466, 468, 472, 474, 478, 479, 484, 486, 487, 488, 489, 493, 495, 496, 497, 498, 499, 500, 503, 504, 505, 506, 514, 521, 523, 524, 527, 532, 533, 535, 536, 537, 541, 542, 543, 545, 548, 551, 553, 554, 560, 561, 566, 567, 577, 586, 588, 592, 593, 601, 606, 608, 615, 617, 618, 620, 621, 622, 624, 625, 627, 629, 630, 632, 634, 637, 639, 640, 642, 643, 645, 648, 650, 653, 654, 655, 659, 660, 661, 663, 664, 665, 666, 669, 671, 682, 690, 693, 694, 697, 698, 699, 705, 707, 708, 709, 711, 712, 715, 716, 721, 727, 733, 738, 741, 747, 748, 749, 751, 756, 757, 758, 763, 764, 766, 773, 774, 776, 782, 786, 788, 790, 795, 796, 798, 804, 805, 806, 807, 815, 823, 825, 826, 828, 830, 833, 835, 840, 843, 846, 847, 848, 851, 854, 862, 863, 864, 868, 870, 871, 878, 880, 881, 882, 883, 885, 886, 887, 889, 890, 892, 894, 896, 897, 899, 901, 903, 907, 913, 916, 918, 919, 921, 922, 927, 932, 933, 934, 936, 938, 940, 943]\n"
     ]
    }
   ],
   "execution_count": 6
  },
  {
   "metadata": {
    "ExecuteTime": {
     "end_time": "2025-10-19T02:09:48.172685Z",
     "start_time": "2025-10-19T02:09:47.551349Z"
    }
   },
   "cell_type": "code",
   "source": [
    "import numpy as np\n",
    "\n",
    "# --- 7) Sampling helper ---\n",
    "def select_sample(user_ids, k=10, random_state=42):\n",
    "    \"\"\"\n",
    "    For each user:\n",
    "      - ground_truth_total_itemIds: all items (train+test)\n",
    "      - ground_truth_test_itemIds: only test items\n",
    "      - sample_random: up to k random items from their train history, ordered chronologically\n",
    "    \"\"\"\n",
    "    rng = np.random.default_rng(random_state)\n",
    "    records = []\n",
    "\n",
    "    for uid in user_ids:\n",
    "        user_all = df_filtered_user_ratings.loc[df_filtered_user_ratings.user_id == uid]\n",
    "        total_items = user_all['movie_id'].tolist()\n",
    "\n",
    "        user_test = test_df.loc[test_df.user_id == uid]\n",
    "        test_items = user_test['movie_id'].tolist()\n",
    "\n",
    "        user_train = train_df.loc[train_df.user_id == uid].copy()\n",
    "\n",
    "        if user_train.empty:\n",
    "            # No train data — keep sample empty but still record ground truth\n",
    "            random_sample = []\n",
    "        else:\n",
    "            # sample up to k rows (no replacement)\n",
    "            n_pick = min(k, len(user_train))\n",
    "            # Use pandas sample with a deterministic seed per user for reproducibility\n",
    "            # Seed is derived from (random_state, uid) so different users differ but are reproducible\n",
    "            seed = (hash((random_state, int(uid))) % (2**32 - 1))\n",
    "            sample_df = (\n",
    "                user_train\n",
    "                .sample(n=n_pick, replace=False, random_state=seed)\n",
    "                .sort_values('date', ascending=True)\n",
    "            )\n",
    "            # keep only movie_id and rating\n",
    "            keep_cols = [c for c in ['movie_id', 'rating'] if c in sample_df.columns]\n",
    "            random_sample = sample_df[keep_cols].values.tolist()\n",
    "\n",
    "        records.append({\n",
    "            'user_id': uid,\n",
    "            'ground_truth_total_itemIds': total_items,\n",
    "            'ground_truth_test_itemIds': test_items,\n",
    "            'sample_random': random_sample\n",
    "        })\n",
    "\n",
    "    return pd.DataFrame(records)\n",
    "\n",
    "# --- 8) Build the two DataFrames ---\n",
    "df_filtered_user_data = select_sample(remaining_valid_users_list)\n",
    "df_filtered_example_user_data = select_sample(three_picked)\n",
    "\n",
    "print(\"df_filtered_user_data shape:\", df_filtered_user_data.shape)\n",
    "print(\"df_filtered_example_user_data shape:\", df_filtered_example_user_data.shape)"
   ],
   "id": "c1e46794e68c3d22",
   "outputs": [
    {
     "name": "stdout",
     "output_type": "stream",
     "text": [
      "df_filtered_user_data shape: (362, 4)\n",
      "df_filtered_example_user_data shape: (3, 4)\n"
     ]
    }
   ],
   "execution_count": 7
  },
  {
   "metadata": {
    "ExecuteTime": {
     "end_time": "2025-10-19T02:34:15.388590Z",
     "start_time": "2025-10-19T02:34:15.365972Z"
    }
   },
   "cell_type": "code",
   "source": "df_movies=pd.read_csv(\"data/final_movies.csv\")",
   "id": "35d90b2400fca78c",
   "outputs": [],
   "execution_count": 42
  },
  {
   "metadata": {
    "ExecuteTime": {
     "end_time": "2025-10-19T02:34:17.054365Z",
     "start_time": "2025-10-19T02:34:16.997906Z"
    }
   },
   "cell_type": "code",
   "source": "df_extra_movies = pd.read_csv(\"data/movies.csv\", encoding=\"latin1\")",
   "id": "e7cef494123b0af7",
   "outputs": [],
   "execution_count": 43
  },
  {
   "metadata": {
    "ExecuteTime": {
     "end_time": "2025-10-19T02:54:09.916829Z",
     "start_time": "2025-10-19T02:54:09.443649Z"
    }
   },
   "cell_type": "code",
   "source": "df_sc_all = pd.read_csv(\"data/combined/combined_sc_gpt_4o_mini.csv\",encoding=\"latin1\" )\n",
   "id": "ea6e21f82735ca93",
   "outputs": [],
   "execution_count": 56
  },
  {
   "metadata": {
    "ExecuteTime": {
     "end_time": "2025-10-19T02:44:30.958544Z",
     "start_time": "2025-10-19T02:44:30.942500Z"
    }
   },
   "cell_type": "code",
   "source": [
    "import re\n",
    "import pandas as pd\n",
    "from tqdm import tqdm\n",
    "from rapidfuzz import fuzz\n",
    "\n",
    "# ─────────────────────────────\n",
    "# 1. Title Cleaning Function\n",
    "# ─────────────────────────────\n",
    "RE_YEAR = re.compile(r\"\\(\\d{4}\\)\")\n",
    "RE_QUOTES = re.compile(r'^\"+|\"+$')\n",
    "RE_SPACES = re.compile(r'\\s+')\n",
    "RE_TRAIL_GENRES = re.compile(r'\\s*[-–—]\\s*.*$')\n",
    "RE_COLON = re.compile(r':.*$')\n",
    "RE_SPECIAL = re.compile(r\"[^a-zA-Z0-9\\s]\")\n",
    "\n",
    "def clean_title(title):\n",
    "    \"\"\"Normalize movie title for similarity matching.\"\"\"\n",
    "    if not isinstance(title, str):\n",
    "        return \"\"\n",
    "    title = RE_COLON.sub(\"\", title)\n",
    "    title = RE_TRAIL_GENRES.sub(\"\", title)\n",
    "    title = RE_YEAR.sub(\"\", title)\n",
    "    title = RE_QUOTES.sub(\"\", title).strip()\n",
    "    title = RE_SPECIAL.sub(\"\", title)\n",
    "    return RE_SPACES.sub(\" \", title).lower().strip()\n",
    "\n",
    "# ─────────────────────────────\n",
    "# 2. RapidFuzz-only Clustering\n",
    "# ─────────────────────────────\n",
    "def cluster_titles_rapidfuzz(title_list, threshold=0.8):\n",
    "    \"\"\"\n",
    "    Cluster similar titles using RapidFuzz token_sort_ratio only.\n",
    "    Returns a list of clusters (list of raw titles).\n",
    "    \"\"\"\n",
    "    cleaned_titles = [(title, clean_title(title)) for title in title_list if pd.notna(title)]\n",
    "    clusters = []\n",
    "    used = set()\n",
    "\n",
    "    for i, (raw_i, clean_i) in enumerate(cleaned_titles):\n",
    "        if i in used:\n",
    "            continue\n",
    "        cluster = [raw_i]\n",
    "        used.add(i)\n",
    "        for j, (raw_j, clean_j) in enumerate(cleaned_titles):\n",
    "            if j in used:\n",
    "                continue\n",
    "            sim_rf = fuzz.token_sort_ratio(clean_i, clean_j) / 100\n",
    "            if sim_rf >= threshold:\n",
    "                cluster.append(raw_j)\n",
    "                used.add(j)\n",
    "        clusters.append(cluster)\n",
    "    return clusters\n",
    "\n",
    "# ─────────────────────────────\n",
    "# 3. Aggregation Logic\n",
    "# ─────────────────────────────\n",
    "def aggregate_recommendations(df_sc_all, threshold=0.8):\n",
    "    \"\"\"\n",
    "    For each (user_id, style, temperature) group:\n",
    "      - Deduplicate movie_1..movie_10 within each row\n",
    "      - Replace missing or duplicate entries with 'empty'\n",
    "      - Cluster all non-empty titles across 20 samples\n",
    "      - Count cluster frequencies\n",
    "      - Return top-10 most frequent representative titles\n",
    "    \"\"\"\n",
    "    movie_cols = [f\"movie_{i}\" for i in range(1, 11)]\n",
    "\n",
    "    # Deduplicate within each row\n",
    "    for idx, row in df_sc_all.iterrows():\n",
    "        seen = set()\n",
    "        new_row = []\n",
    "        for col in movie_cols:\n",
    "            title = row[col]\n",
    "            if pd.isna(title) or title in seen:\n",
    "                new_row.append(\"empty\")\n",
    "            else:\n",
    "                seen.add(title)\n",
    "                new_row.append(title)\n",
    "        for i, col in enumerate(movie_cols):\n",
    "            df_sc_all.at[idx, col] = new_row[i]\n",
    "\n",
    "    # Create movie list per row\n",
    "    df_sc_all[\"movie_list\"] = df_sc_all[movie_cols].values.tolist()\n",
    "\n",
    "    grouped = df_sc_all.groupby([\"user_id\", \"style\", \"temperature\"])\n",
    "    results = []\n",
    "\n",
    "    for (user_id, style, temp), group in tqdm(grouped, desc=\"Aggregating users\"):\n",
    "        all_titles = sum(group[\"movie_list\"].tolist(), [])\n",
    "        all_titles = [t for t in all_titles if t and str(t).strip()]\n",
    "\n",
    "        # RapidFuzz-only clustering\n",
    "        clusters = cluster_titles_rapidfuzz(all_titles, threshold=threshold)\n",
    "\n",
    "        # Count cluster sizes\n",
    "        cluster_counts = {cluster[0]: len(cluster) for cluster in clusters}\n",
    "\n",
    "        # Top-10 most frequent\n",
    "        top_10 = sorted(cluster_counts.items(), key=lambda x: -x[1])[:10]\n",
    "        final_titles = [title for title, _ in top_10]\n",
    "\n",
    "        results.append({\n",
    "            \"user_id\": user_id,\n",
    "            \"style\": style,\n",
    "            \"temperature\": temp,\n",
    "            **{f\"movie_{i+1}\": final_titles[i] if i < len(final_titles) else None for i in range(10)}\n",
    "        })\n",
    "\n",
    "    return pd.DataFrame(results)\n"
   ],
   "id": "6d658087c8dc0e49",
   "outputs": [],
   "execution_count": 48
  },
  {
   "metadata": {
    "ExecuteTime": {
     "end_time": "2025-10-19T02:54:25.828910Z",
     "start_time": "2025-10-19T02:54:15.123887Z"
    }
   },
   "cell_type": "code",
   "source": [
    "df_final_top10 = aggregate_recommendations(df_sc_all, threshold=0.8)\n",
    "print(df_final_top10.head())\n",
    "\n"
   ],
   "id": "ab4b2efd68f22195",
   "outputs": [
    {
     "name": "stderr",
     "output_type": "stream",
     "text": [
      "Aggregating users: 100%|██████████| 1400/1400 [00:06<00:00, 224.76it/s]"
     ]
    },
    {
     "name": "stdout",
     "output_type": "stream",
     "text": [
      "   user_id         style  temperature              movie_1  \\\n",
      "0       10  few_shot_cot          0.2  The Graduate (1967)   \n",
      "1       10  few_shot_cot          0.5  The Graduate (1967)   \n",
      "2       10  few_shot_cot          0.7  The Graduate (1967)   \n",
      "3       10  few_shot_cot          1.0  The Graduate (1967)   \n",
      "4       10  few_shot_cot          1.2  The Graduate (1967)   \n",
      "\n",
      "                           movie_2                          movie_3  \\\n",
      "0  The Shawshank Redemption (1994)  The Silence of the Lambs (1991)   \n",
      "1  The Shawshank Redemption (1994)                Fight Club (1999)   \n",
      "2  The Shawshank Redemption (1994)                Fight Club (1999)   \n",
      "3                Fight Club (1999)  The Shawshank Redemption (1994)   \n",
      "4                     Fargo (1996)                Fight Club (1999)   \n",
      "\n",
      "                           movie_4               movie_5  \\\n",
      "0                Fight Club (1999)     Goodfellas (1990)   \n",
      "1  The Silence of the Lambs (1991)  The Godfather (1972)   \n",
      "2  The Silence of the Lambs (1991)     Goodfellas (1990)   \n",
      "3                Goodfellas (1990)          Fargo (1996)   \n",
      "4        A Clockwork Orange (1971)     Casablanca (1942)   \n",
      "\n",
      "                   movie_6                          movie_7  \\\n",
      "0  The Big Lebowski (1998)        The Usual Suspects (1995)   \n",
      "1        Casablanca (1942)                Goodfellas (1990)   \n",
      "2        Casablanca (1942)                     Fargo (1996)   \n",
      "3     The Godfather (1972)                 Chinatown (1974)   \n",
      "4        Goodfellas (1990)  The Shawshank Redemption (1994)   \n",
      "\n",
      "                    movie_8                          movie_9  \\\n",
      "0    American Beauty (1999)             The Godfather (1972)   \n",
      "1          Chinatown (1974)          The Big Lebowski (1998)   \n",
      "2      The Godfather (1972)        The Usual Suspects (1995)   \n",
      "3  Good Will Hunting (1997)  The Silence of the Lambs (1991)   \n",
      "4    American Beauty (1999)  The Silence of the Lambs (1991)   \n",
      "\n",
      "                    movie_10  \n",
      "0          Casablanca (1942)  \n",
      "1  The Usual Suspects (1995)  \n",
      "2  A Clockwork Orange (1971)  \n",
      "3        Pulp Fiction (1994)  \n",
      "4           Chinatown (1974)  \n"
     ]
    },
    {
     "name": "stderr",
     "output_type": "stream",
     "text": [
      "\n"
     ]
    }
   ],
   "execution_count": 57
  },
  {
   "metadata": {
    "ExecuteTime": {
     "end_time": "2025-10-19T02:55:54.642109Z",
     "start_time": "2025-10-19T02:54:25.840389Z"
    }
   },
   "cell_type": "code",
   "source": [
    "\n",
    "import pandas as pd\n",
    "import re\n",
    "from rapidfuzz import process,fuzz\n",
    "# === Cleaning Function ===\n",
    "RE_YEAR = re.compile(r\"\\(\\d{4}\\)\")\n",
    "RE_QUOTES = re.compile(r'^\"+|\"+$')\n",
    "RE_SPACES = re.compile(r'\\s+')\n",
    "RE_TRAIL_GENRES = re.compile(r'\\s*[-–—]\\s*.*$')\n",
    "RE_SPECIAL = re.compile(r\"[^a-zA-Z0-9\\s]\")\n",
    "\n",
    "def clean_title_for_matching(title):\n",
    "    \"\"\"Normalize movie titles by removing punctuation, years, colons, etc., without truncation.\"\"\"\n",
    "    if not isinstance(title, str):\n",
    "        return \"\"\n",
    "    title = title.replace(\":\", \"\")  #  FIX: Remove colon instead of truncating after it\n",
    "    title = RE_TRAIL_GENRES.sub(\"\", title)\n",
    "    title = RE_YEAR.sub(\"\", title)\n",
    "    title = RE_QUOTES.sub(\"\", title)\n",
    "    title = RE_SPECIAL.sub(\"\", title)\n",
    "    return RE_SPACES.sub(\" \", title).strip().lower()\n",
    "\n",
    "# === Matching Function ===\n",
    "def match_to_catalogs(title, df_movies, df_extra_movies, cutoff=0.8):\n",
    "    \"\"\"\n",
    "    Try to match a given title to df_movies first, then df_extra_movies.\n",
    "    If match found, return the official catalog title. Otherwise return None.\n",
    "    \"\"\"\n",
    "    if not isinstance(title, str) or not title.strip():\n",
    "        return None\n",
    "\n",
    "    title_cleaned = clean_title_for_matching(title)\n",
    "\n",
    "    # --- Step 1: Primary catalog (df_movies) ---\n",
    "    best_primary = process.extractOne(\n",
    "        title_cleaned,\n",
    "        df_movies[\"clean_title\"],\n",
    "        scorer=fuzz.token_sort_ratio,\n",
    "        score_cutoff=cutoff * 100\n",
    "    )\n",
    "    if best_primary is not None:\n",
    "        matched_title = df_movies.loc[\n",
    "            df_movies[\"clean_title\"] == best_primary[0], \"title\"\n",
    "        ].iloc[0]\n",
    "        return matched_title\n",
    "\n",
    "    # --- Step 2: Secondary catalog (df_extra_movies) ---\n",
    "    best_extra = process.extractOne(\n",
    "        title_cleaned,\n",
    "        df_extra_movies[\"clean_title\"],\n",
    "        scorer=fuzz.token_sort_ratio,\n",
    "        score_cutoff=cutoff * 100\n",
    "    )\n",
    "    if best_extra is not None:\n",
    "        matched_title = df_extra_movies.loc[\n",
    "            df_extra_movies[\"clean_title\"] == best_extra[0], \"title\"\n",
    "        ].iloc[0]\n",
    "        return matched_title\n",
    "\n",
    "    # --- Step 3: No match found ---\n",
    "    return None\n",
    "\n",
    "# === Main Replacement Function ===\n",
    "def replace_titles_with_matched(df_all_recs, df_movies, df_extra_movies, cutoff=0.8):\n",
    "    \"\"\"\n",
    "    Replace each movie_i column in df_greedy_recs with the matched title from df_movies or df_extra_movies.\n",
    "    If not matched, replace with None.\n",
    "    \"\"\"\n",
    "    # Prepare both catalogs with cleaned titles\n",
    "    df_movies = df_movies.copy()\n",
    "    df_extra_movies = df_extra_movies.copy()\n",
    "    df_movies[\"clean_title\"] = df_movies[\"title\"].apply(clean_title_for_matching)\n",
    "    df_extra_movies[\"clean_title\"] = df_extra_movies[\"title\"].apply(clean_title_for_matching)\n",
    "\n",
    "    # Copy df_greedy_recs to avoid modifying original\n",
    "    df_replaced = df_all_recs.copy()\n",
    "\n",
    "    # Iterate through each recommendation column\n",
    "    movie_cols = [f\"movie_{i}\" for i in range(1, 11)]\n",
    "    for col in tqdm(movie_cols, desc=\"Matching all movie titles\"):\n",
    "        df_replaced[col] = df_replaced[col].apply(\n",
    "            lambda x: match_to_catalogs(x, df_movies, df_extra_movies, cutoff)\n",
    "        )\n",
    "\n",
    "    return df_replaced\n",
    "\n",
    "# === Unmatched Movie Extractor ===\n",
    "def get_unmatched_titles(df_original, df_replaced):\n",
    "    movie_cols = [f\"movie_{i}\" for i in range(1, 11)]\n",
    "    unmatched_titles = []\n",
    "\n",
    "    for col in movie_cols:\n",
    "        original = df_original[col]\n",
    "        replaced = df_replaced[col]\n",
    "        unmatched = original[replaced.isna()]\n",
    "        unmatched_titles.extend(unmatched.tolist())\n",
    "\n",
    "    unmatched_unique = pd.Series(unmatched_titles).dropna().unique().tolist()\n",
    "    return unmatched_unique\n",
    "\n",
    "# === Example Usage ===\n",
    "# Make sure df_greedy_recs, df_movies, df_extra_movies are defined above this call\n",
    "df_replaced = replace_titles_with_matched(df_final_top10, df_movies, df_extra_movies, cutoff=0.8)\n",
    "\n",
    "# Get unmatched titles\n",
    "unmatched_titles = get_unmatched_titles(df_final_top10, df_replaced)\n",
    "\n",
    "# Display result\n",
    "print(f\"\\n            Total unmatched titles: {len(unmatched_titles)}\")\n",
    "for title in unmatched_titles:\n",
    "    print(\"-\", title)\n",
    "\n",
    "\n"
   ],
   "id": "b1e12f1f8a4e930d",
   "outputs": [
    {
     "name": "stderr",
     "output_type": "stream",
     "text": [
      "Matching all movie titles: 100%|██████████| 10/10 [01:28<00:00,  8.85s/it]"
     ]
    },
    {
     "name": "stdout",
     "output_type": "stream",
     "text": [
      "\n",
      "            Total unmatched titles: 0\n"
     ]
    },
    {
     "name": "stderr",
     "output_type": "stream",
     "text": [
      "\n"
     ]
    }
   ],
   "execution_count": 58
  },
  {
   "metadata": {
    "ExecuteTime": {
     "end_time": "2025-10-19T02:58:22.560832Z",
     "start_time": "2025-10-19T02:58:22.533492Z"
    }
   },
   "cell_type": "code",
   "source": [
    "def summarize_unmatched_titles(df_replaced):\n",
    "    \"\"\"\n",
    "    Summarize how many None (unmatched) titles remain in df_replaced,\n",
    "    grouped by (style, template_set).\n",
    "    \"\"\"\n",
    "    movie_cols = [f\"movie_{i}\" for i in range(1, 11)]\n",
    "    summary_rows = []\n",
    "\n",
    "    for (style, temperature), group in df_replaced.groupby([\"style\", \"temperature\"]):\n",
    "        total_titles = group[movie_cols].size               # total number of cells (users × 10)\n",
    "        none_count = group[movie_cols].isna().sum().sum()   # total number of None (unmatched)\n",
    "        matched_count = total_titles - none_count\n",
    "\n",
    "        summary_rows.append({\n",
    "            \"style\": style,\n",
    "            \"temperature\": temperature,\n",
    "            \"total_titles_checked\": total_titles,\n",
    "            \"matched_titles\": matched_count,\n",
    "            \"unmatched_titles\": none_count,\n",
    "            \"match_rate_%\": round(100 * matched_count / total_titles, 2)\n",
    "        })\n",
    "\n",
    "    return pd.DataFrame(summary_rows).sort_values(by=[\"style\", \"temperature\"]).reset_index(drop=True)\n",
    "\n",
    "# === Run the summary ===\n",
    "df_summary = summarize_unmatched_titles(df_replaced)\n",
    "print(df_summary)\n"
   ],
   "id": "9146e0c36cf49d00",
   "outputs": [
    {
     "name": "stdout",
     "output_type": "stream",
     "text": [
      "            style  temperature  total_titles_checked  matched_titles  \\\n",
      "0    few_shot_cot          0.2                  1000            1000   \n",
      "1    few_shot_cot          0.5                  1000            1000   \n",
      "2    few_shot_cot          0.7                  1000            1000   \n",
      "3    few_shot_cot          1.0                  1000            1000   \n",
      "4    few_shot_cot          1.2                  1000            1000   \n",
      "5    few_shot_cot          1.4                  1000            1000   \n",
      "6    few_shot_cot          1.6                  1000            1000   \n",
      "7   zero_shot_cot          0.2                  1000            1000   \n",
      "8   zero_shot_cot          0.5                  1000            1000   \n",
      "9   zero_shot_cot          0.7                  1000            1000   \n",
      "10  zero_shot_cot          1.0                  1000            1000   \n",
      "11  zero_shot_cot          1.2                  1000            1000   \n",
      "12  zero_shot_cot          1.4                  1000            1000   \n",
      "13  zero_shot_cot          1.6                  1000            1000   \n",
      "\n",
      "    unmatched_titles  match_rate_%  \n",
      "0                  0         100.0  \n",
      "1                  0         100.0  \n",
      "2                  0         100.0  \n",
      "3                  0         100.0  \n",
      "4                  0         100.0  \n",
      "5                  0         100.0  \n",
      "6                  0         100.0  \n",
      "7                  0         100.0  \n",
      "8                  0         100.0  \n",
      "9                  0         100.0  \n",
      "10                 0         100.0  \n",
      "11                 0         100.0  \n",
      "12                 0         100.0  \n",
      "13                 0         100.0  \n"
     ]
    }
   ],
   "execution_count": 59
  },
  {
   "metadata": {
    "ExecuteTime": {
     "end_time": "2025-10-19T02:59:02.496108Z",
     "start_time": "2025-10-19T02:58:30.588048Z"
    }
   },
   "cell_type": "code",
   "source": [
    "import numpy as np\n",
    "import pandas as pd\n",
    "from tqdm import tqdm\n",
    "from collections import Counter\n",
    "from scipy.stats import entropy\n",
    "from rapidfuzz import fuzz\n",
    "\n",
    "\n",
    "# === RapidFuzz Matching ===\n",
    "def match_title_to_id(title, catalog_titles, title_to_id, cutoff=0.7):\n",
    "    \"\"\"Return movie_id if matched above cutoff; else None.\"\"\"\n",
    "    if not isinstance(title, str) or not title.strip():\n",
    "        return None\n",
    "    best_match = None\n",
    "    best_score = 0\n",
    "    for candidate in catalog_titles:\n",
    "        score = fuzz.token_sort_ratio(title, candidate) / 100\n",
    "        if score > best_score:\n",
    "            best_match = candidate\n",
    "            best_score = score\n",
    "    return title_to_id.get(best_match) if best_score >= cutoff else None\n",
    "\n",
    "\n",
    "# === Unmatched Title Clustering ===\n",
    "def cluster_unmatched_titles(unmatched_titles, cutoff=0.7):\n",
    "    \"\"\"\n",
    "    Group similar unmatched titles (>= cutoff similarity) using RapidFuzz.\n",
    "    Returns mapping {title: representative_title}.\n",
    "    \"\"\"\n",
    "    unmatched_titles = list(set([t for t in unmatched_titles if isinstance(t, str) and t.strip()]))\n",
    "    seen = set()\n",
    "    mapping = {}\n",
    "\n",
    "    for t in unmatched_titles:\n",
    "        if t in seen:\n",
    "            continue\n",
    "        mapping[t] = t\n",
    "        seen.add(t)\n",
    "        for other in unmatched_titles:\n",
    "            if other not in seen:\n",
    "                score = fuzz.token_sort_ratio(t, other) / 100\n",
    "                if score >= cutoff:\n",
    "                    mapping[other] = t\n",
    "                    seen.add(other)\n",
    "    return mapping\n",
    "\n",
    "\n",
    "# === Accuracy Metrics ===\n",
    "def hit_ratio_at_k(rec_ids, gt_ids, k=10):\n",
    "    return int(any(x in gt_ids for x in rec_ids[:k] if isinstance(x, int)))\n",
    "\n",
    "\n",
    "def precision_at_k(rec_ids, gt_ids, k=10):\n",
    "    topk = [x for x in rec_ids[:k] if isinstance(x, int)]\n",
    "    return len([x for x in topk if x in gt_ids]) / k\n",
    "\n",
    "\n",
    "def ndcg_at_k(rec_ids, gt_ids, k=10):\n",
    "    dcg = sum(1 / np.log2(i + 2) for i, x in enumerate(rec_ids[:k]) if isinstance(x, int) and x in gt_ids)\n",
    "    ideal_dcg = sum(1 / np.log2(i + 2) for i in range(min(len(gt_ids), k)))\n",
    "    return dcg / ideal_dcg if ideal_dcg > 0 else 0.0\n",
    "\n",
    "\n",
    "# === Fairness/Diversity Metrics ===\n",
    "def gini_index(counts):\n",
    "    \"\"\"Gini coefficient of exposure inequality.\"\"\"\n",
    "    sorted_vals = np.sort(np.array(counts))\n",
    "    n = len(sorted_vals)\n",
    "    if n == 0 or sorted_vals.sum() == 0:\n",
    "        return 0.0\n",
    "    index = np.sum((2 * np.arange(1, n + 1) - n - 1) * sorted_vals)\n",
    "    return round(index / (n * sorted_vals.sum()), 4)\n",
    "\n",
    "\n",
    "def natural_entropy(counts):\n",
    "    \"\"\"Entropy of exposure diversity.\"\"\"\n",
    "    total = sum(counts)\n",
    "    if total == 0:\n",
    "        return 0.0\n",
    "    p = np.array(counts) / total\n",
    "    return round(entropy(p, base=np.e), 4)\n",
    "\n",
    "\n",
    "# === Main Evaluation ===\n",
    "def evaluate_all_metrics(df_sc_recs, df_movies, df_filtered_user_data, cutoff=0.7):\n",
    "    \"\"\"\n",
    "    Evaluate all metrics grouped by (style, template_set):\n",
    "    - Accuracy: HR@10, Precision@10, NDCG@10 (per user, averaged)\n",
    "    - Fairness/Diversity: Gini, Entropy (from exposure counts)\n",
    "    \"\"\"\n",
    "    catalog_titles = df_movies[\"title\"].tolist()\n",
    "    title_to_id = dict(zip(df_movies[\"title\"], df_movies[\"movie_id\"]))\n",
    "    gt_by_user = df_filtered_user_data.set_index(\"user_id\").to_dict(\"index\")\n",
    "\n",
    "    metrics_rows = []\n",
    "\n",
    "    for (style, temperature), group in tqdm(df_sc_recs.groupby([\"style\", \"temperature\"]), desc=\"Evaluating\"):\n",
    "        per_user_recs = {}\n",
    "        unmatched_titles = []\n",
    "        all_recs = []\n",
    "\n",
    "        # === Step 1: Per-user matching (preserve order) ===\n",
    "        for _, row in group.iterrows():\n",
    "            uid = row[\"user_id\"]\n",
    "            rec_list = [row.get(f\"movie_{i}\", None) for i in range(1, 11)]\n",
    "            matched_list = []\n",
    "\n",
    "            for title in rec_list:\n",
    "                if title is None or (isinstance(title, float) and pd.isna(title)):\n",
    "                    matched_list.append(None)\n",
    "                    continue\n",
    "\n",
    "                mid = match_title_to_id(title, catalog_titles, title_to_id, cutoff)\n",
    "                if mid is not None:\n",
    "                    matched_list.append(mid)\n",
    "                else:\n",
    "                    matched_list.append(title)\n",
    "                    unmatched_titles.append(title)\n",
    "\n",
    "            # keep exactly k=10\n",
    "            matched_list = (matched_list + [None] * 10)[:10]\n",
    "            per_user_recs[uid] = matched_list\n",
    "            all_recs.extend(matched_list)\n",
    "\n",
    "        # === Step 2: Cluster unmatched titles (RapidFuzz ≥ 0.7) ===\n",
    "        title_cluster_map = cluster_unmatched_titles(unmatched_titles, cutoff)\n",
    "        final_recs = [\n",
    "            title_cluster_map.get(x, x) if isinstance(x, str) else x\n",
    "            for x in all_recs\n",
    "        ]\n",
    "\n",
    "        # === Step 3: Exposure counting (includes IDs, clusters, None) ===\n",
    "        exposure_counter = Counter(final_recs)\n",
    "        exposure_counts = list(exposure_counter.values())\n",
    "\n",
    "        # === Step 4: Accuracy metrics (averaged per user) ===\n",
    "        hr_list, prec_list, ndcg_list = [], [], []\n",
    "        for uid, recs in per_user_recs.items():\n",
    "            gt = gt_by_user.get(uid)\n",
    "            if not gt:\n",
    "                continue\n",
    "            gt_ids = set(gt[\"ground_truth_total_itemIds\"]) - {x[0] for x in gt[\"sample_random\"]}\n",
    "            if not gt_ids:\n",
    "                continue\n",
    "\n",
    "            # Order preserved for NDCG\n",
    "            rec_ids_only = [x if isinstance(x, int) else None for x in recs]\n",
    "            hr_list.append(hit_ratio_at_k(rec_ids_only, gt_ids))\n",
    "            prec_list.append(precision_at_k(rec_ids_only, gt_ids))\n",
    "            ndcg_list.append(ndcg_at_k(rec_ids_only, gt_ids))\n",
    "\n",
    "        # === Step 5: Aggregate results ===\n",
    "        metrics_rows.append({\n",
    "            \"style\": style,\n",
    "            \"temperature\": temperature,\n",
    "            \"HR@10\": round(np.mean(hr_list), 4),\n",
    "            \"Precision@10\": round(np.mean(prec_list), 4),\n",
    "            \"NDCG@10\": round(np.mean(ndcg_list), 4),\n",
    "            \"Gini\": gini_index(exposure_counts),\n",
    "            \"Entropy\": natural_entropy(exposure_counts),\n",
    "            \"num_unique_exposed_titles\": len(exposure_counter),\n",
    "            \"num_exposure_events\": sum(exposure_counts)\n",
    "        })\n",
    "\n",
    "    return pd.DataFrame(metrics_rows)\n",
    "\n",
    "# Run evaluation\n",
    "df_metrics = evaluate_all_metrics(\n",
    "    df_sc_recs=df_replaced,\n",
    "    df_movies=df_movies,\n",
    "    df_filtered_user_data=df_filtered_user_data,\n",
    "    cutoff=0.8   # RapidFuzz similarity threshold\n",
    ")\n",
    "\n"
   ],
   "id": "a4f220888a49c02",
   "outputs": [
    {
     "name": "stderr",
     "output_type": "stream",
     "text": [
      "Evaluating: 100%|██████████| 14/14 [00:31<00:00,  2.28s/it]\n"
     ]
    }
   ],
   "execution_count": 60
  },
  {
   "metadata": {
    "ExecuteTime": {
     "end_time": "2025-10-19T02:59:04.441281Z",
     "start_time": "2025-10-19T02:59:04.424151Z"
    }
   },
   "cell_type": "code",
   "source": "df_metrics.head(30)",
   "id": "5018dc52f6b1549a",
   "outputs": [
    {
     "data": {
      "text/plain": [
       "            style  temperature  HR@10  Precision@10  NDCG@10    Gini  Entropy  \\\n",
       "0    few_shot_cot          0.2   0.93         0.329   0.3472  0.6692   4.1121   \n",
       "1    few_shot_cot          0.5   0.94         0.330   0.3457  0.6514   4.1242   \n",
       "2    few_shot_cot          0.7   0.97         0.355   0.3613  0.6522   4.1599   \n",
       "3    few_shot_cot          1.0   0.96         0.370   0.3780  0.6497   4.2428   \n",
       "4    few_shot_cot          1.2   0.98         0.385   0.3903  0.6354   4.2555   \n",
       "5    few_shot_cot          1.4   0.97         0.367   0.3648  0.6422   4.3640   \n",
       "6    few_shot_cot          1.6   0.98         0.333   0.3014  0.6473   4.3322   \n",
       "7   zero_shot_cot          0.2   0.91         0.267   0.2807  0.6744   3.4386   \n",
       "8   zero_shot_cot          0.5   0.92         0.295   0.3089  0.7033   3.3767   \n",
       "9   zero_shot_cot          0.7   0.91         0.301   0.3127  0.6927   3.3747   \n",
       "10  zero_shot_cot          1.0   0.93         0.308   0.3133  0.6967   3.4029   \n",
       "11  zero_shot_cot          1.2   0.93         0.317   0.3221  0.6932   3.4375   \n",
       "12  zero_shot_cot          1.4   0.91         0.303   0.3103  0.6923   3.4645   \n",
       "13  zero_shot_cot          1.6   0.89         0.270   0.2401  0.7137   3.5080   \n",
       "\n",
       "    num_unique_exposed_titles  num_exposure_events  \n",
       "0                         147                 1000  \n",
       "1                         139                 1000  \n",
       "2                         144                 1000  \n",
       "3                         157                 1000  \n",
       "4                         151                 1000  \n",
       "5                         176                 1000  \n",
       "6                         182                 1000  \n",
       "7                          72                 1000  \n",
       "8                          75                 1000  \n",
       "9                          72                 1000  \n",
       "10                         75                 1000  \n",
       "11                         77                 1000  \n",
       "12                         79                 1000  \n",
       "13                         91                 1000  "
      ],
      "text/html": [
       "<div>\n",
       "<style scoped>\n",
       "    .dataframe tbody tr th:only-of-type {\n",
       "        vertical-align: middle;\n",
       "    }\n",
       "\n",
       "    .dataframe tbody tr th {\n",
       "        vertical-align: top;\n",
       "    }\n",
       "\n",
       "    .dataframe thead th {\n",
       "        text-align: right;\n",
       "    }\n",
       "</style>\n",
       "<table border=\"1\" class=\"dataframe\">\n",
       "  <thead>\n",
       "    <tr style=\"text-align: right;\">\n",
       "      <th></th>\n",
       "      <th>style</th>\n",
       "      <th>temperature</th>\n",
       "      <th>HR@10</th>\n",
       "      <th>Precision@10</th>\n",
       "      <th>NDCG@10</th>\n",
       "      <th>Gini</th>\n",
       "      <th>Entropy</th>\n",
       "      <th>num_unique_exposed_titles</th>\n",
       "      <th>num_exposure_events</th>\n",
       "    </tr>\n",
       "  </thead>\n",
       "  <tbody>\n",
       "    <tr>\n",
       "      <th>0</th>\n",
       "      <td>few_shot_cot</td>\n",
       "      <td>0.2</td>\n",
       "      <td>0.93</td>\n",
       "      <td>0.329</td>\n",
       "      <td>0.3472</td>\n",
       "      <td>0.6692</td>\n",
       "      <td>4.1121</td>\n",
       "      <td>147</td>\n",
       "      <td>1000</td>\n",
       "    </tr>\n",
       "    <tr>\n",
       "      <th>1</th>\n",
       "      <td>few_shot_cot</td>\n",
       "      <td>0.5</td>\n",
       "      <td>0.94</td>\n",
       "      <td>0.330</td>\n",
       "      <td>0.3457</td>\n",
       "      <td>0.6514</td>\n",
       "      <td>4.1242</td>\n",
       "      <td>139</td>\n",
       "      <td>1000</td>\n",
       "    </tr>\n",
       "    <tr>\n",
       "      <th>2</th>\n",
       "      <td>few_shot_cot</td>\n",
       "      <td>0.7</td>\n",
       "      <td>0.97</td>\n",
       "      <td>0.355</td>\n",
       "      <td>0.3613</td>\n",
       "      <td>0.6522</td>\n",
       "      <td>4.1599</td>\n",
       "      <td>144</td>\n",
       "      <td>1000</td>\n",
       "    </tr>\n",
       "    <tr>\n",
       "      <th>3</th>\n",
       "      <td>few_shot_cot</td>\n",
       "      <td>1.0</td>\n",
       "      <td>0.96</td>\n",
       "      <td>0.370</td>\n",
       "      <td>0.3780</td>\n",
       "      <td>0.6497</td>\n",
       "      <td>4.2428</td>\n",
       "      <td>157</td>\n",
       "      <td>1000</td>\n",
       "    </tr>\n",
       "    <tr>\n",
       "      <th>4</th>\n",
       "      <td>few_shot_cot</td>\n",
       "      <td>1.2</td>\n",
       "      <td>0.98</td>\n",
       "      <td>0.385</td>\n",
       "      <td>0.3903</td>\n",
       "      <td>0.6354</td>\n",
       "      <td>4.2555</td>\n",
       "      <td>151</td>\n",
       "      <td>1000</td>\n",
       "    </tr>\n",
       "    <tr>\n",
       "      <th>5</th>\n",
       "      <td>few_shot_cot</td>\n",
       "      <td>1.4</td>\n",
       "      <td>0.97</td>\n",
       "      <td>0.367</td>\n",
       "      <td>0.3648</td>\n",
       "      <td>0.6422</td>\n",
       "      <td>4.3640</td>\n",
       "      <td>176</td>\n",
       "      <td>1000</td>\n",
       "    </tr>\n",
       "    <tr>\n",
       "      <th>6</th>\n",
       "      <td>few_shot_cot</td>\n",
       "      <td>1.6</td>\n",
       "      <td>0.98</td>\n",
       "      <td>0.333</td>\n",
       "      <td>0.3014</td>\n",
       "      <td>0.6473</td>\n",
       "      <td>4.3322</td>\n",
       "      <td>182</td>\n",
       "      <td>1000</td>\n",
       "    </tr>\n",
       "    <tr>\n",
       "      <th>7</th>\n",
       "      <td>zero_shot_cot</td>\n",
       "      <td>0.2</td>\n",
       "      <td>0.91</td>\n",
       "      <td>0.267</td>\n",
       "      <td>0.2807</td>\n",
       "      <td>0.6744</td>\n",
       "      <td>3.4386</td>\n",
       "      <td>72</td>\n",
       "      <td>1000</td>\n",
       "    </tr>\n",
       "    <tr>\n",
       "      <th>8</th>\n",
       "      <td>zero_shot_cot</td>\n",
       "      <td>0.5</td>\n",
       "      <td>0.92</td>\n",
       "      <td>0.295</td>\n",
       "      <td>0.3089</td>\n",
       "      <td>0.7033</td>\n",
       "      <td>3.3767</td>\n",
       "      <td>75</td>\n",
       "      <td>1000</td>\n",
       "    </tr>\n",
       "    <tr>\n",
       "      <th>9</th>\n",
       "      <td>zero_shot_cot</td>\n",
       "      <td>0.7</td>\n",
       "      <td>0.91</td>\n",
       "      <td>0.301</td>\n",
       "      <td>0.3127</td>\n",
       "      <td>0.6927</td>\n",
       "      <td>3.3747</td>\n",
       "      <td>72</td>\n",
       "      <td>1000</td>\n",
       "    </tr>\n",
       "    <tr>\n",
       "      <th>10</th>\n",
       "      <td>zero_shot_cot</td>\n",
       "      <td>1.0</td>\n",
       "      <td>0.93</td>\n",
       "      <td>0.308</td>\n",
       "      <td>0.3133</td>\n",
       "      <td>0.6967</td>\n",
       "      <td>3.4029</td>\n",
       "      <td>75</td>\n",
       "      <td>1000</td>\n",
       "    </tr>\n",
       "    <tr>\n",
       "      <th>11</th>\n",
       "      <td>zero_shot_cot</td>\n",
       "      <td>1.2</td>\n",
       "      <td>0.93</td>\n",
       "      <td>0.317</td>\n",
       "      <td>0.3221</td>\n",
       "      <td>0.6932</td>\n",
       "      <td>3.4375</td>\n",
       "      <td>77</td>\n",
       "      <td>1000</td>\n",
       "    </tr>\n",
       "    <tr>\n",
       "      <th>12</th>\n",
       "      <td>zero_shot_cot</td>\n",
       "      <td>1.4</td>\n",
       "      <td>0.91</td>\n",
       "      <td>0.303</td>\n",
       "      <td>0.3103</td>\n",
       "      <td>0.6923</td>\n",
       "      <td>3.4645</td>\n",
       "      <td>79</td>\n",
       "      <td>1000</td>\n",
       "    </tr>\n",
       "    <tr>\n",
       "      <th>13</th>\n",
       "      <td>zero_shot_cot</td>\n",
       "      <td>1.6</td>\n",
       "      <td>0.89</td>\n",
       "      <td>0.270</td>\n",
       "      <td>0.2401</td>\n",
       "      <td>0.7137</td>\n",
       "      <td>3.5080</td>\n",
       "      <td>91</td>\n",
       "      <td>1000</td>\n",
       "    </tr>\n",
       "  </tbody>\n",
       "</table>\n",
       "</div>"
      ]
     },
     "execution_count": 61,
     "metadata": {},
     "output_type": "execute_result"
    }
   ],
   "execution_count": 61
  },
  {
   "metadata": {
    "ExecuteTime": {
     "end_time": "2025-10-19T02:59:12.891624Z",
     "start_time": "2025-10-19T02:59:12.883887Z"
    }
   },
   "cell_type": "code",
   "source": "df_metrics.to_csv(\"self_consistent/gpt4omini.csv\", index=False)\n",
   "id": "6958b6f1ab382d56",
   "outputs": [],
   "execution_count": 63
  },
  {
   "metadata": {
    "ExecuteTime": {
     "end_time": "2025-10-24T03:08:15.404027Z",
     "start_time": "2025-10-24T03:08:15.399470Z"
    }
   },
   "cell_type": "code",
   "source": [
    "files_t_gt_0 = {\n",
    "    \"self_consistent/gpt4o.csv\": \"gpt-4o\",\n",
    "    \"self_consistent/gpt4omini.csv\": \"gpt-4o-mini\",\n",
    "    \"self_consistent/mistral.csv\": \"mistral-large-2\",\n",
    "    \"self_consistent/mistral-7.csv\": \"mistral-7B\",\n",
    "}"
   ],
   "id": "8215d89e7c4b0623",
   "outputs": [],
   "execution_count": 6
  },
  {
   "metadata": {
    "ExecuteTime": {
     "end_time": "2025-10-28T00:10:05.153085Z",
     "start_time": "2025-10-28T00:09:59.611972Z"
    }
   },
   "cell_type": "code",
   "source": [
    "import pandas as pd\n",
    "\n",
    "# ====== Config ======\n",
    "files = {\n",
    "    \"self_consistent/gpt4o.csv\": \"gpt-4o\",\n",
    "    \"self_consistent/gpt4omini.csv\": \"gpt-4o-mini\",\n",
    "    \"self_consistent/mistral.csv\": \"mistral-large-2\",\n",
    "    \"self_consistent/mistral-7.csv\": \"mistral-7B\",\n",
    "}\n",
    "\n",
    "# All metrics available\n",
    "metrics = [\"HR@10\", \"Precision@10\", \"NDCG@10\", \"Gini\", \"Entropy\"]\n",
    "\n",
    "# Only these will be used to compute the average rank\n",
    "metrics_for_avg = [\"Precision@10\",\"NDCG@10\", \"Gini\", \"Entropy\"]\n",
    "\n",
    "all_dfs = []\n",
    "\n",
    "# ====== Step 1: Load and rank ======\n",
    "for path, model in files.items():\n",
    "    df = pd.read_csv(path)\n",
    "    df[\"model\"] = model\n",
    "\n",
    "    # Rank templates *within each style* (A vs B vs C)\n",
    "    for metric in metrics:\n",
    "        if metric == \"Gini\":  # lower is better\n",
    "            df[f\"{metric}_rank\"] = df.groupby(\"style\")[metric].rank(ascending=True, method=\"min\")\n",
    "        else:  # higher is better\n",
    "            df[f\"{metric}_rank\"] = df.groupby(\"style\")[metric].rank(ascending=False, method=\"min\")\n",
    "\n",
    "    # Average rank only for NDCG, Gini, and Entropy\n",
    "    rank_cols_for_avg = [f\"{m}_rank\" for m in metrics_for_avg]\n",
    "    df[\"avg_rank\"] = df[rank_cols_for_avg].mean(axis=1)\n",
    "\n",
    "    all_dfs.append(df)\n",
    "\n",
    "# Combine all models’ results\n",
    "combined_df = pd.concat(all_dfs, ignore_index=True)\n",
    "\n",
    "# ====== Step 2: Aggregate per (model, style, temperature) ======\n",
    "per_model = (\n",
    "    combined_df\n",
    "    .groupby([\"model\", \"style\", \"temperature\"])\n",
    "    .agg(\n",
    "        {**{m: \"mean\" for m in metrics},                # average metric values\n",
    "         **{f\"{m}_rank\": \"mean\" for m in metrics},      # average metric ranks\n",
    "         \"avg_rank\": \"mean\"}                            # average of NDCG+Gini+Entropy ranks\n",
    "    )\n",
    "    .reset_index()\n",
    "    .sort_values([\"model\", \"style\", \"avg_rank\"])\n",
    ")\n",
    "\n",
    "# ====== Step 3: Add best_template flag per (model, style) ======\n",
    "per_model[\"best_temperature\"] = per_model.groupby([\"model\", \"temperature\"])[\"avg_rank\"].transform(lambda x: x == x.min())\n",
    "\n",
    "\n",
    "\n",
    "per_model.to_csv(\"sc_per_model_template_ranking.csv\", index=False)\n",
    "\n",
    "\n",
    "print(\"Done. Files saved:\")\n",
    "print(\"Per-model rankings → per_model_template_ranking.csv\")\n",
    "\n",
    "\n",
    "print(\"\\nExample per-model view:\")\n",
    "print(per_model.head(10))\n"
   ],
   "id": "b4c1a3763fc808a2",
   "outputs": [
    {
     "name": "stdout",
     "output_type": "stream",
     "text": [
      "Done. Files saved:\n",
      "Per-model rankings → per_model_template_ranking.csv\n",
      "\n",
      "Example per-model view:\n",
      "     model          style  temperature  HR@10  Precision@10  NDCG@10    Gini  \\\n",
      "4   gpt-4o   few_shot_cot          1.2   1.00         0.619   0.6504  0.5970   \n",
      "5   gpt-4o   few_shot_cot          1.4   1.00         0.610   0.6416  0.5846   \n",
      "3   gpt-4o   few_shot_cot          1.0   1.00         0.630   0.6520  0.5986   \n",
      "0   gpt-4o   few_shot_cot          0.2   1.00         0.617   0.6430  0.5917   \n",
      "2   gpt-4o   few_shot_cot          0.7   1.00         0.634   0.6583  0.6012   \n",
      "1   gpt-4o   few_shot_cot          0.5   1.00         0.628   0.6476  0.5977   \n",
      "6   gpt-4o   few_shot_cot          1.6   1.00         0.535   0.4958  0.5960   \n",
      "11  gpt-4o  zero_shot_cot          1.2   0.96         0.440   0.4432  0.6429   \n",
      "9   gpt-4o  zero_shot_cot          0.7   0.98         0.447   0.4504  0.6687   \n",
      "10  gpt-4o  zero_shot_cot          1.0   0.96         0.444   0.4411  0.6730   \n",
      "\n",
      "    Entropy  HR@10_rank  Precision@10_rank  NDCG@10_rank  Gini_rank  \\\n",
      "4    4.7128         1.0                4.0           3.0        4.0   \n",
      "5    4.7432         1.0                6.0           6.0        1.0   \n",
      "3    4.6647         1.0                2.0           2.0        6.0   \n",
      "0    4.6689         1.0                5.0           5.0        2.0   \n",
      "2    4.6505         1.0                1.0           1.0        7.0   \n",
      "1    4.6591         1.0                3.0           4.0        5.0   \n",
      "6    4.7087         1.0                7.0           7.0        3.0   \n",
      "11   4.0174         5.0                3.0           2.0        1.0   \n",
      "9    3.9198         1.0                1.0           1.0        3.0   \n",
      "10   3.9871         5.0                2.0           3.0        5.0   \n",
      "\n",
      "    Entropy_rank  avg_rank  best_temperature  \n",
      "4            2.0      3.25             False  \n",
      "5            1.0      3.50              True  \n",
      "3            5.0      3.75             False  \n",
      "0            4.0      4.00              True  \n",
      "2            7.0      4.00             False  \n",
      "1            6.0      4.50              True  \n",
      "6            3.0      5.00              True  \n",
      "11           2.0      2.00              True  \n",
      "9            4.0      2.25              True  \n",
      "10           3.0      3.25              True  \n"
     ]
    }
   ],
   "execution_count": 2
  },
  {
   "metadata": {
    "ExecuteTime": {
     "end_time": "2025-10-24T03:34:10.226999Z",
     "start_time": "2025-10-24T03:34:10.211768Z"
    }
   },
   "cell_type": "code",
   "source": "per_model.info()",
   "id": "6ffd2d9d5f87b892",
   "outputs": [
    {
     "name": "stdout",
     "output_type": "stream",
     "text": [
      "<class 'pandas.core.frame.DataFrame'>\n",
      "Index: 44 entries, 4 to 40\n",
      "Data columns (total 15 columns):\n",
      " #   Column             Non-Null Count  Dtype  \n",
      "---  ------             --------------  -----  \n",
      " 0   model              44 non-null     object \n",
      " 1   style              44 non-null     object \n",
      " 2   temperature        44 non-null     float64\n",
      " 3   HR@10              44 non-null     float64\n",
      " 4   Precision@10       44 non-null     float64\n",
      " 5   NDCG@10            44 non-null     float64\n",
      " 6   Gini               44 non-null     float64\n",
      " 7   Entropy            44 non-null     float64\n",
      " 8   HR@10_rank         44 non-null     float64\n",
      " 9   Precision@10_rank  44 non-null     float64\n",
      " 10  NDCG@10_rank       44 non-null     float64\n",
      " 11  Gini_rank          44 non-null     float64\n",
      " 12  Entropy_rank       44 non-null     float64\n",
      " 13  avg_rank           44 non-null     float64\n",
      " 14  best_temperature   44 non-null     bool   \n",
      "dtypes: bool(1), float64(12), object(2)\n",
      "memory usage: 5.2+ KB\n"
     ]
    }
   ],
   "execution_count": 2
  },
  {
   "metadata": {
    "ExecuteTime": {
     "end_time": "2025-10-24T03:34:16.952391Z",
     "start_time": "2025-10-24T03:34:12.853295Z"
    }
   },
   "cell_type": "code",
   "source": [
    "import plotly.graph_objects as go\n",
    "from pathlib import Path\n",
    "\n",
    "# === Color map for STYLES ===\n",
    "# These colors differentiate few_shot_cot vs zero_shot_cot\n",
    "style_color_map = {\n",
    "    \"few_shot_cot\": \"#ff7f0e\",    # orange\n",
    "    \"zero_shot_cot\": \"#1f77b4\",   # blue\n",
    "    \"few_shot\": \"#2ca02c\",        # green (if needed)\n",
    "    \"zero_shot\": \"#9467bd\",       # purple (if needed)\n",
    "}\n",
    "\n",
    "# === Model-family mapping ===\n",
    "model_to_family = {\n",
    "    \"gpt-4o\": \"GPT\",\n",
    "    \"gpt-4o-mini\": \"GPT\",\n",
    "    \"mistral-7B\": \"Mistral\",\n",
    "    \"mistral-large-2\": \"Mistral\",\n",
    "}\n",
    "\n",
    "# === Line style per model ===\n",
    "# Solid = base model, dotted = mini version\n",
    "line_styles = {\n",
    "    \"gpt-4o\": \"solid\",\n",
    "    \"gpt-4o-mini\": \"dot\",\n",
    "    \"mistral-7B\": \"solid\",\n",
    "    \"mistral-large-2\": \"dot\",\n",
    "}\n",
    "\n",
    "# === Family definitions ===\n",
    "families = {\n",
    "    \"GPT Family (Self-Consistent)\": {\n",
    "        \"models\": [\"gpt-4o\", \"gpt-4o-mini\"],\n",
    "        \"temps\": [0.2, 0.5, 0.7, 1.0, 1.2, 1.4, 1.6],\n",
    "    },\n",
    "    \"Mistral Family (Self-Consistent)\": {\n",
    "        \"models\": [\"mistral-7B\", \"mistral-large-2\"],\n",
    "        \"temps\": [0.2, 0.5, 0.7, 1.0],\n",
    "    },\n",
    "}\n",
    "\n",
    "# === Output folder ===\n",
    "output_dir = Path(\"plots_sc\")\n",
    "output_dir.mkdir(exist_ok=True)\n",
    "\n",
    "# === Determine global y-axis range so both charts share the same scale ===\n",
    "global_min = per_model[\"avg_rank\"].min()\n",
    "global_max = per_model[\"avg_rank\"].max()\n",
    "y_range = [global_min - 0.2, global_max + 0.2]\n",
    "\n",
    "# === Plot per family ===\n",
    "for family, config in families.items():\n",
    "    models = config[\"models\"]\n",
    "    allowed_temps = config[\"temps\"]\n",
    "\n",
    "    df_plot = per_model[\n",
    "        (per_model[\"model\"].isin(models)) &\n",
    "        (per_model[\"temperature\"].isin(allowed_temps))\n",
    "    ].copy()\n",
    "\n",
    "    if df_plot.empty:\n",
    "        continue\n",
    "\n",
    "    fig = go.Figure()\n",
    "\n",
    "    # === Draw each style × model ===\n",
    "    for style in sorted(df_plot[\"style\"].unique()):\n",
    "        for model in models:\n",
    "            subset = (\n",
    "                df_plot[\n",
    "                    (df_plot[\"model\"] == model) &\n",
    "                    (df_plot[\"style\"] == style)\n",
    "                ]\n",
    "                .sort_values(\"temperature\")\n",
    "            )\n",
    "            if subset.empty:\n",
    "                continue\n",
    "\n",
    "            # color → depends on style, not model family\n",
    "            color = style_color_map.get(style, \"#000000\")\n",
    "            dash = line_styles.get(model, \"solid\")\n",
    "\n",
    "            fig.add_trace(go.Scatter(\n",
    "                x=subset[\"temperature\"],\n",
    "                y=subset[\"avg_rank\"],\n",
    "                mode=\"lines+markers\",\n",
    "                name=f\"{style}, {model}\",\n",
    "                line=dict(color=color, dash=dash, width=2.5),\n",
    "                marker=dict(size=7, symbol=\"circle\"),\n",
    "                hovertemplate=(\n",
    "                    f\"<b>{model}</b><br>Style: {style}\"\n",
    "                    \"<br>Temp=%{x}<br>Avg Rank=%{y:.2f}<extra></extra>\"\n",
    "                ),\n",
    "            ))\n",
    "\n",
    "    # === Layout settings ===\n",
    "    fig.update_layout(\n",
    "        title=f\"<b>{family}: Avg Rank vs Temperature</b>\",\n",
    "        xaxis_title=\"Temperature (T)\",\n",
    "        yaxis_title=\"Average Rank (Lower = Better)\",\n",
    "        template=\"plotly_white\",\n",
    "        width=700,\n",
    "        height=400,\n",
    "        font=dict(family=\"Times New Roman\", size=14),\n",
    "        margin=dict(l=60, r=80, t=60, b=80),\n",
    "        xaxis=dict(\n",
    "            tickmode=\"array\",\n",
    "            tickvals=allowed_temps,\n",
    "            ticktext=[str(t) for t in allowed_temps],\n",
    "            showgrid=True,\n",
    "            gridcolor=\"rgba(200,200,200,0.3)\"\n",
    "        ),\n",
    "        yaxis=dict(\n",
    "            range=y_range,\n",
    "            showgrid=True,\n",
    "            gridcolor=\"rgba(200,200,200,0.3)\"\n",
    "        ),\n",
    "        legend=dict(\n",
    "            orientation=\"h\",\n",
    "            y=-0.28,\n",
    "            x=0.5,\n",
    "            xanchor=\"center\",\n",
    "            font=dict(size=12)\n",
    "        ),\n",
    "    )\n",
    "\n",
    "    # === Save & Show ===\n",
    "    filename = output_dir / f\"{family.lower().replace(' ', '_')}_avg_rank_vs_temp.html\"\n",
    "    fig.write_html(str(filename))\n",
    "    fig.show()\n"
   ],
   "id": "54945f461f388d2d",
   "outputs": [
    {
     "data": {
      "application/vnd.plotly.v1+json": {
       "data": [
        {
         "hovertemplate": "<b>gpt-4o</b><br>Style: few_shot_cot<br>Temp=%{x}<br>Avg Rank=%{y:.2f}<extra></extra>",
         "line": {
          "color": "#ff7f0e",
          "dash": "solid",
          "width": 2.5
         },
         "marker": {
          "size": 7,
          "symbol": "circle"
         },
         "mode": "lines+markers",
         "name": "few_shot_cot, gpt-4o",
         "x": {
          "dtype": "f8",
          "bdata": "mpmZmZmZyT8AAAAAAADgP2ZmZmZmZuY/AAAAAAAA8D8zMzMzMzPzP2ZmZmZmZvY/mpmZmZmZ+T8="
         },
         "y": {
          "dtype": "f8",
          "bdata": "AAAAAAAAEEAAAAAAAAASQAAAAAAAABBAAAAAAAAADkAAAAAAAAAKQAAAAAAAAAxAAAAAAAAAFEA="
         },
         "type": "scatter"
        },
        {
         "hovertemplate": "<b>gpt-4o-mini</b><br>Style: few_shot_cot<br>Temp=%{x}<br>Avg Rank=%{y:.2f}<extra></extra>",
         "line": {
          "color": "#ff7f0e",
          "dash": "dot",
          "width": 2.5
         },
         "marker": {
          "size": 7,
          "symbol": "circle"
         },
         "mode": "lines+markers",
         "name": "few_shot_cot, gpt-4o-mini",
         "x": {
          "dtype": "f8",
          "bdata": "mpmZmZmZyT8AAAAAAADgP2ZmZmZmZuY/AAAAAAAA8D8zMzMzMzPzP2ZmZmZmZvY/mpmZmZmZ+T8="
         },
         "y": {
          "dtype": "f8",
          "bdata": "AAAAAAAAGkAAAAAAAAAXQAAAAAAAABNAAAAAAAAACEAAAAAAAAD4PwAAAAAAAAJAAAAAAAAAEUA="
         },
         "type": "scatter"
        },
        {
         "hovertemplate": "<b>gpt-4o</b><br>Style: zero_shot_cot<br>Temp=%{x}<br>Avg Rank=%{y:.2f}<extra></extra>",
         "line": {
          "color": "#1f77b4",
          "dash": "solid",
          "width": 2.5
         },
         "marker": {
          "size": 7,
          "symbol": "circle"
         },
         "mode": "lines+markers",
         "name": "zero_shot_cot, gpt-4o",
         "x": {
          "dtype": "f8",
          "bdata": "mpmZmZmZyT8AAAAAAADgP2ZmZmZmZuY/AAAAAAAA8D8zMzMzMzPzP2ZmZmZmZvY/mpmZmZmZ+T8="
         },
         "y": {
          "dtype": "f8",
          "bdata": "AAAAAAAAFUAAAAAAAAASQAAAAAAAAAJAAAAAAAAACkAAAAAAAAAAQAAAAAAAAA5AAAAAAAAAHEA="
         },
         "type": "scatter"
        },
        {
         "hovertemplate": "<b>gpt-4o-mini</b><br>Style: zero_shot_cot<br>Temp=%{x}<br>Avg Rank=%{y:.2f}<extra></extra>",
         "line": {
          "color": "#1f77b4",
          "dash": "dot",
          "width": 2.5
         },
         "marker": {
          "size": 7,
          "symbol": "circle"
         },
         "mode": "lines+markers",
         "name": "zero_shot_cot, gpt-4o-mini",
         "x": {
          "dtype": "f8",
          "bdata": "mpmZmZmZyT8AAAAAAADgP2ZmZmZmZuY/AAAAAAAA8D8zMzMzMzPzP2ZmZmZmZvY/mpmZmZmZ+T8="
         },
         "y": {
          "dtype": "f8",
          "bdata": "AAAAAAAAEUAAAAAAAAAWQAAAAAAAABFAAAAAAAAADEAAAAAAAAAEQAAAAAAAAAZAAAAAAAAAFUA="
         },
         "type": "scatter"
        }
       ],
       "layout": {
        "template": {
         "data": {
          "barpolar": [
           {
            "marker": {
             "line": {
              "color": "white",
              "width": 0.5
             },
             "pattern": {
              "fillmode": "overlay",
              "size": 10,
              "solidity": 0.2
             }
            },
            "type": "barpolar"
           }
          ],
          "bar": [
           {
            "error_x": {
             "color": "#2a3f5f"
            },
            "error_y": {
             "color": "#2a3f5f"
            },
            "marker": {
             "line": {
              "color": "white",
              "width": 0.5
             },
             "pattern": {
              "fillmode": "overlay",
              "size": 10,
              "solidity": 0.2
             }
            },
            "type": "bar"
           }
          ],
          "carpet": [
           {
            "aaxis": {
             "endlinecolor": "#2a3f5f",
             "gridcolor": "#C8D4E3",
             "linecolor": "#C8D4E3",
             "minorgridcolor": "#C8D4E3",
             "startlinecolor": "#2a3f5f"
            },
            "baxis": {
             "endlinecolor": "#2a3f5f",
             "gridcolor": "#C8D4E3",
             "linecolor": "#C8D4E3",
             "minorgridcolor": "#C8D4E3",
             "startlinecolor": "#2a3f5f"
            },
            "type": "carpet"
           }
          ],
          "choropleth": [
           {
            "colorbar": {
             "outlinewidth": 0,
             "ticks": ""
            },
            "type": "choropleth"
           }
          ],
          "contourcarpet": [
           {
            "colorbar": {
             "outlinewidth": 0,
             "ticks": ""
            },
            "type": "contourcarpet"
           }
          ],
          "contour": [
           {
            "colorbar": {
             "outlinewidth": 0,
             "ticks": ""
            },
            "colorscale": [
             [
              0.0,
              "#0d0887"
             ],
             [
              0.1111111111111111,
              "#46039f"
             ],
             [
              0.2222222222222222,
              "#7201a8"
             ],
             [
              0.3333333333333333,
              "#9c179e"
             ],
             [
              0.4444444444444444,
              "#bd3786"
             ],
             [
              0.5555555555555556,
              "#d8576b"
             ],
             [
              0.6666666666666666,
              "#ed7953"
             ],
             [
              0.7777777777777778,
              "#fb9f3a"
             ],
             [
              0.8888888888888888,
              "#fdca26"
             ],
             [
              1.0,
              "#f0f921"
             ]
            ],
            "type": "contour"
           }
          ],
          "heatmap": [
           {
            "colorbar": {
             "outlinewidth": 0,
             "ticks": ""
            },
            "colorscale": [
             [
              0.0,
              "#0d0887"
             ],
             [
              0.1111111111111111,
              "#46039f"
             ],
             [
              0.2222222222222222,
              "#7201a8"
             ],
             [
              0.3333333333333333,
              "#9c179e"
             ],
             [
              0.4444444444444444,
              "#bd3786"
             ],
             [
              0.5555555555555556,
              "#d8576b"
             ],
             [
              0.6666666666666666,
              "#ed7953"
             ],
             [
              0.7777777777777778,
              "#fb9f3a"
             ],
             [
              0.8888888888888888,
              "#fdca26"
             ],
             [
              1.0,
              "#f0f921"
             ]
            ],
            "type": "heatmap"
           }
          ],
          "histogram2dcontour": [
           {
            "colorbar": {
             "outlinewidth": 0,
             "ticks": ""
            },
            "colorscale": [
             [
              0.0,
              "#0d0887"
             ],
             [
              0.1111111111111111,
              "#46039f"
             ],
             [
              0.2222222222222222,
              "#7201a8"
             ],
             [
              0.3333333333333333,
              "#9c179e"
             ],
             [
              0.4444444444444444,
              "#bd3786"
             ],
             [
              0.5555555555555556,
              "#d8576b"
             ],
             [
              0.6666666666666666,
              "#ed7953"
             ],
             [
              0.7777777777777778,
              "#fb9f3a"
             ],
             [
              0.8888888888888888,
              "#fdca26"
             ],
             [
              1.0,
              "#f0f921"
             ]
            ],
            "type": "histogram2dcontour"
           }
          ],
          "histogram2d": [
           {
            "colorbar": {
             "outlinewidth": 0,
             "ticks": ""
            },
            "colorscale": [
             [
              0.0,
              "#0d0887"
             ],
             [
              0.1111111111111111,
              "#46039f"
             ],
             [
              0.2222222222222222,
              "#7201a8"
             ],
             [
              0.3333333333333333,
              "#9c179e"
             ],
             [
              0.4444444444444444,
              "#bd3786"
             ],
             [
              0.5555555555555556,
              "#d8576b"
             ],
             [
              0.6666666666666666,
              "#ed7953"
             ],
             [
              0.7777777777777778,
              "#fb9f3a"
             ],
             [
              0.8888888888888888,
              "#fdca26"
             ],
             [
              1.0,
              "#f0f921"
             ]
            ],
            "type": "histogram2d"
           }
          ],
          "histogram": [
           {
            "marker": {
             "pattern": {
              "fillmode": "overlay",
              "size": 10,
              "solidity": 0.2
             }
            },
            "type": "histogram"
           }
          ],
          "mesh3d": [
           {
            "colorbar": {
             "outlinewidth": 0,
             "ticks": ""
            },
            "type": "mesh3d"
           }
          ],
          "parcoords": [
           {
            "line": {
             "colorbar": {
              "outlinewidth": 0,
              "ticks": ""
             }
            },
            "type": "parcoords"
           }
          ],
          "pie": [
           {
            "automargin": true,
            "type": "pie"
           }
          ],
          "scatter3d": [
           {
            "line": {
             "colorbar": {
              "outlinewidth": 0,
              "ticks": ""
             }
            },
            "marker": {
             "colorbar": {
              "outlinewidth": 0,
              "ticks": ""
             }
            },
            "type": "scatter3d"
           }
          ],
          "scattercarpet": [
           {
            "marker": {
             "colorbar": {
              "outlinewidth": 0,
              "ticks": ""
             }
            },
            "type": "scattercarpet"
           }
          ],
          "scattergeo": [
           {
            "marker": {
             "colorbar": {
              "outlinewidth": 0,
              "ticks": ""
             }
            },
            "type": "scattergeo"
           }
          ],
          "scattergl": [
           {
            "marker": {
             "colorbar": {
              "outlinewidth": 0,
              "ticks": ""
             }
            },
            "type": "scattergl"
           }
          ],
          "scattermapbox": [
           {
            "marker": {
             "colorbar": {
              "outlinewidth": 0,
              "ticks": ""
             }
            },
            "type": "scattermapbox"
           }
          ],
          "scattermap": [
           {
            "marker": {
             "colorbar": {
              "outlinewidth": 0,
              "ticks": ""
             }
            },
            "type": "scattermap"
           }
          ],
          "scatterpolargl": [
           {
            "marker": {
             "colorbar": {
              "outlinewidth": 0,
              "ticks": ""
             }
            },
            "type": "scatterpolargl"
           }
          ],
          "scatterpolar": [
           {
            "marker": {
             "colorbar": {
              "outlinewidth": 0,
              "ticks": ""
             }
            },
            "type": "scatterpolar"
           }
          ],
          "scatter": [
           {
            "fillpattern": {
             "fillmode": "overlay",
             "size": 10,
             "solidity": 0.2
            },
            "type": "scatter"
           }
          ],
          "scatterternary": [
           {
            "marker": {
             "colorbar": {
              "outlinewidth": 0,
              "ticks": ""
             }
            },
            "type": "scatterternary"
           }
          ],
          "surface": [
           {
            "colorbar": {
             "outlinewidth": 0,
             "ticks": ""
            },
            "colorscale": [
             [
              0.0,
              "#0d0887"
             ],
             [
              0.1111111111111111,
              "#46039f"
             ],
             [
              0.2222222222222222,
              "#7201a8"
             ],
             [
              0.3333333333333333,
              "#9c179e"
             ],
             [
              0.4444444444444444,
              "#bd3786"
             ],
             [
              0.5555555555555556,
              "#d8576b"
             ],
             [
              0.6666666666666666,
              "#ed7953"
             ],
             [
              0.7777777777777778,
              "#fb9f3a"
             ],
             [
              0.8888888888888888,
              "#fdca26"
             ],
             [
              1.0,
              "#f0f921"
             ]
            ],
            "type": "surface"
           }
          ],
          "table": [
           {
            "cells": {
             "fill": {
              "color": "#EBF0F8"
             },
             "line": {
              "color": "white"
             }
            },
            "header": {
             "fill": {
              "color": "#C8D4E3"
             },
             "line": {
              "color": "white"
             }
            },
            "type": "table"
           }
          ]
         },
         "layout": {
          "annotationdefaults": {
           "arrowcolor": "#2a3f5f",
           "arrowhead": 0,
           "arrowwidth": 1
          },
          "autotypenumbers": "strict",
          "coloraxis": {
           "colorbar": {
            "outlinewidth": 0,
            "ticks": ""
           }
          },
          "colorscale": {
           "diverging": [
            [
             0,
             "#8e0152"
            ],
            [
             0.1,
             "#c51b7d"
            ],
            [
             0.2,
             "#de77ae"
            ],
            [
             0.3,
             "#f1b6da"
            ],
            [
             0.4,
             "#fde0ef"
            ],
            [
             0.5,
             "#f7f7f7"
            ],
            [
             0.6,
             "#e6f5d0"
            ],
            [
             0.7,
             "#b8e186"
            ],
            [
             0.8,
             "#7fbc41"
            ],
            [
             0.9,
             "#4d9221"
            ],
            [
             1,
             "#276419"
            ]
           ],
           "sequential": [
            [
             0.0,
             "#0d0887"
            ],
            [
             0.1111111111111111,
             "#46039f"
            ],
            [
             0.2222222222222222,
             "#7201a8"
            ],
            [
             0.3333333333333333,
             "#9c179e"
            ],
            [
             0.4444444444444444,
             "#bd3786"
            ],
            [
             0.5555555555555556,
             "#d8576b"
            ],
            [
             0.6666666666666666,
             "#ed7953"
            ],
            [
             0.7777777777777778,
             "#fb9f3a"
            ],
            [
             0.8888888888888888,
             "#fdca26"
            ],
            [
             1.0,
             "#f0f921"
            ]
           ],
           "sequentialminus": [
            [
             0.0,
             "#0d0887"
            ],
            [
             0.1111111111111111,
             "#46039f"
            ],
            [
             0.2222222222222222,
             "#7201a8"
            ],
            [
             0.3333333333333333,
             "#9c179e"
            ],
            [
             0.4444444444444444,
             "#bd3786"
            ],
            [
             0.5555555555555556,
             "#d8576b"
            ],
            [
             0.6666666666666666,
             "#ed7953"
            ],
            [
             0.7777777777777778,
             "#fb9f3a"
            ],
            [
             0.8888888888888888,
             "#fdca26"
            ],
            [
             1.0,
             "#f0f921"
            ]
           ]
          },
          "colorway": [
           "#636efa",
           "#EF553B",
           "#00cc96",
           "#ab63fa",
           "#FFA15A",
           "#19d3f3",
           "#FF6692",
           "#B6E880",
           "#FF97FF",
           "#FECB52"
          ],
          "font": {
           "color": "#2a3f5f"
          },
          "geo": {
           "bgcolor": "white",
           "lakecolor": "white",
           "landcolor": "white",
           "showlakes": true,
           "showland": true,
           "subunitcolor": "#C8D4E3"
          },
          "hoverlabel": {
           "align": "left"
          },
          "hovermode": "closest",
          "mapbox": {
           "style": "light"
          },
          "paper_bgcolor": "white",
          "plot_bgcolor": "white",
          "polar": {
           "angularaxis": {
            "gridcolor": "#EBF0F8",
            "linecolor": "#EBF0F8",
            "ticks": ""
           },
           "bgcolor": "white",
           "radialaxis": {
            "gridcolor": "#EBF0F8",
            "linecolor": "#EBF0F8",
            "ticks": ""
           }
          },
          "scene": {
           "xaxis": {
            "backgroundcolor": "white",
            "gridcolor": "#DFE8F3",
            "gridwidth": 2,
            "linecolor": "#EBF0F8",
            "showbackground": true,
            "ticks": "",
            "zerolinecolor": "#EBF0F8"
           },
           "yaxis": {
            "backgroundcolor": "white",
            "gridcolor": "#DFE8F3",
            "gridwidth": 2,
            "linecolor": "#EBF0F8",
            "showbackground": true,
            "ticks": "",
            "zerolinecolor": "#EBF0F8"
           },
           "zaxis": {
            "backgroundcolor": "white",
            "gridcolor": "#DFE8F3",
            "gridwidth": 2,
            "linecolor": "#EBF0F8",
            "showbackground": true,
            "ticks": "",
            "zerolinecolor": "#EBF0F8"
           }
          },
          "shapedefaults": {
           "line": {
            "color": "#2a3f5f"
           }
          },
          "ternary": {
           "aaxis": {
            "gridcolor": "#DFE8F3",
            "linecolor": "#A2B1C6",
            "ticks": ""
           },
           "baxis": {
            "gridcolor": "#DFE8F3",
            "linecolor": "#A2B1C6",
            "ticks": ""
           },
           "bgcolor": "white",
           "caxis": {
            "gridcolor": "#DFE8F3",
            "linecolor": "#A2B1C6",
            "ticks": ""
           }
          },
          "title": {
           "x": 0.05
          },
          "xaxis": {
           "automargin": true,
           "gridcolor": "#EBF0F8",
           "linecolor": "#EBF0F8",
           "ticks": "",
           "title": {
            "standoff": 15
           },
           "zerolinecolor": "#EBF0F8",
           "zerolinewidth": 2
          },
          "yaxis": {
           "automargin": true,
           "gridcolor": "#EBF0F8",
           "linecolor": "#EBF0F8",
           "ticks": "",
           "title": {
            "standoff": 15
           },
           "zerolinecolor": "#EBF0F8",
           "zerolinewidth": 2
          }
         }
        },
        "font": {
         "family": "Times New Roman",
         "size": 14
        },
        "margin": {
         "l": 60,
         "r": 80,
         "t": 60,
         "b": 80
        },
        "xaxis": {
         "title": {
          "text": "Temperature (T)"
         },
         "tickmode": "array",
         "tickvals": [
          0.2,
          0.5,
          0.7,
          1.0,
          1.2,
          1.4,
          1.6
         ],
         "ticktext": [
          "0.2",
          "0.5",
          "0.7",
          "1.0",
          "1.2",
          "1.4",
          "1.6"
         ],
         "showgrid": true,
         "gridcolor": "rgba(200,200,200,0.3)"
        },
        "yaxis": {
         "title": {
          "text": "Average Rank (Lower = Better)"
         },
         "range": [
          1.05,
          7.2
         ],
         "showgrid": true,
         "gridcolor": "rgba(200,200,200,0.3)"
        },
        "legend": {
         "font": {
          "size": 12
         },
         "orientation": "h",
         "y": -0.28,
         "x": 0.5,
         "xanchor": "center"
        },
        "title": {
         "text": "<b>GPT Family (Self-Consistent): Avg Rank vs Temperature</b>"
        },
        "width": 700,
        "height": 400
       },
       "config": {
        "plotlyServerURL": "https://plot.ly"
       }
      }
     },
     "metadata": {},
     "output_type": "display_data"
    },
    {
     "data": {
      "application/vnd.plotly.v1+json": {
       "data": [
        {
         "hovertemplate": "<b>mistral-7B</b><br>Style: few_shot_cot<br>Temp=%{x}<br>Avg Rank=%{y:.2f}<extra></extra>",
         "line": {
          "color": "#ff7f0e",
          "dash": "solid",
          "width": 2.5
         },
         "marker": {
          "size": 7,
          "symbol": "circle"
         },
         "mode": "lines+markers",
         "name": "few_shot_cot, mistral-7B",
         "x": {
          "dtype": "f8",
          "bdata": "mpmZmZmZyT8AAAAAAADgP2ZmZmZmZuY/AAAAAAAA8D8="
         },
         "y": {
          "dtype": "f8",
          "bdata": "AAAAAAAACEAAAAAAAAAMQAAAAAAAAABAAAAAAAAA+D8="
         },
         "type": "scatter"
        },
        {
         "hovertemplate": "<b>mistral-large-2</b><br>Style: few_shot_cot<br>Temp=%{x}<br>Avg Rank=%{y:.2f}<extra></extra>",
         "line": {
          "color": "#ff7f0e",
          "dash": "dot",
          "width": 2.5
         },
         "marker": {
          "size": 7,
          "symbol": "circle"
         },
         "mode": "lines+markers",
         "name": "few_shot_cot, mistral-large-2",
         "x": {
          "dtype": "f8",
          "bdata": "mpmZmZmZyT8AAAAAAADgP2ZmZmZmZuY/AAAAAAAA8D8="
         },
         "y": {
          "dtype": "f8",
          "bdata": "AAAAAAAACEAAAAAAAAAAQAAAAAAAAApAAAAAAAAA/D8="
         },
         "type": "scatter"
        },
        {
         "hovertemplate": "<b>mistral-7B</b><br>Style: zero_shot_cot<br>Temp=%{x}<br>Avg Rank=%{y:.2f}<extra></extra>",
         "line": {
          "color": "#1f77b4",
          "dash": "solid",
          "width": 2.5
         },
         "marker": {
          "size": 7,
          "symbol": "circle"
         },
         "mode": "lines+markers",
         "name": "zero_shot_cot, mistral-7B",
         "x": {
          "dtype": "f8",
          "bdata": "mpmZmZmZyT8AAAAAAADgP2ZmZmZmZuY/AAAAAAAA8D8="
         },
         "y": {
          "dtype": "f8",
          "bdata": "AAAAAAAABkAAAAAAAAD8PwAAAAAAAAxAAAAAAAAAAEA="
         },
         "type": "scatter"
        },
        {
         "hovertemplate": "<b>mistral-large-2</b><br>Style: zero_shot_cot<br>Temp=%{x}<br>Avg Rank=%{y:.2f}<extra></extra>",
         "line": {
          "color": "#1f77b4",
          "dash": "dot",
          "width": 2.5
         },
         "marker": {
          "size": 7,
          "symbol": "circle"
         },
         "mode": "lines+markers",
         "name": "zero_shot_cot, mistral-large-2",
         "x": {
          "dtype": "f8",
          "bdata": "mpmZmZmZyT8AAAAAAADgP2ZmZmZmZuY/AAAAAAAA8D8="
         },
         "y": {
          "dtype": "f8",
          "bdata": "AAAAAAAACkAAAAAAAAAGQAAAAAAAAAZAAAAAAAAA9D8="
         },
         "type": "scatter"
        }
       ],
       "layout": {
        "template": {
         "data": {
          "barpolar": [
           {
            "marker": {
             "line": {
              "color": "white",
              "width": 0.5
             },
             "pattern": {
              "fillmode": "overlay",
              "size": 10,
              "solidity": 0.2
             }
            },
            "type": "barpolar"
           }
          ],
          "bar": [
           {
            "error_x": {
             "color": "#2a3f5f"
            },
            "error_y": {
             "color": "#2a3f5f"
            },
            "marker": {
             "line": {
              "color": "white",
              "width": 0.5
             },
             "pattern": {
              "fillmode": "overlay",
              "size": 10,
              "solidity": 0.2
             }
            },
            "type": "bar"
           }
          ],
          "carpet": [
           {
            "aaxis": {
             "endlinecolor": "#2a3f5f",
             "gridcolor": "#C8D4E3",
             "linecolor": "#C8D4E3",
             "minorgridcolor": "#C8D4E3",
             "startlinecolor": "#2a3f5f"
            },
            "baxis": {
             "endlinecolor": "#2a3f5f",
             "gridcolor": "#C8D4E3",
             "linecolor": "#C8D4E3",
             "minorgridcolor": "#C8D4E3",
             "startlinecolor": "#2a3f5f"
            },
            "type": "carpet"
           }
          ],
          "choropleth": [
           {
            "colorbar": {
             "outlinewidth": 0,
             "ticks": ""
            },
            "type": "choropleth"
           }
          ],
          "contourcarpet": [
           {
            "colorbar": {
             "outlinewidth": 0,
             "ticks": ""
            },
            "type": "contourcarpet"
           }
          ],
          "contour": [
           {
            "colorbar": {
             "outlinewidth": 0,
             "ticks": ""
            },
            "colorscale": [
             [
              0.0,
              "#0d0887"
             ],
             [
              0.1111111111111111,
              "#46039f"
             ],
             [
              0.2222222222222222,
              "#7201a8"
             ],
             [
              0.3333333333333333,
              "#9c179e"
             ],
             [
              0.4444444444444444,
              "#bd3786"
             ],
             [
              0.5555555555555556,
              "#d8576b"
             ],
             [
              0.6666666666666666,
              "#ed7953"
             ],
             [
              0.7777777777777778,
              "#fb9f3a"
             ],
             [
              0.8888888888888888,
              "#fdca26"
             ],
             [
              1.0,
              "#f0f921"
             ]
            ],
            "type": "contour"
           }
          ],
          "heatmap": [
           {
            "colorbar": {
             "outlinewidth": 0,
             "ticks": ""
            },
            "colorscale": [
             [
              0.0,
              "#0d0887"
             ],
             [
              0.1111111111111111,
              "#46039f"
             ],
             [
              0.2222222222222222,
              "#7201a8"
             ],
             [
              0.3333333333333333,
              "#9c179e"
             ],
             [
              0.4444444444444444,
              "#bd3786"
             ],
             [
              0.5555555555555556,
              "#d8576b"
             ],
             [
              0.6666666666666666,
              "#ed7953"
             ],
             [
              0.7777777777777778,
              "#fb9f3a"
             ],
             [
              0.8888888888888888,
              "#fdca26"
             ],
             [
              1.0,
              "#f0f921"
             ]
            ],
            "type": "heatmap"
           }
          ],
          "histogram2dcontour": [
           {
            "colorbar": {
             "outlinewidth": 0,
             "ticks": ""
            },
            "colorscale": [
             [
              0.0,
              "#0d0887"
             ],
             [
              0.1111111111111111,
              "#46039f"
             ],
             [
              0.2222222222222222,
              "#7201a8"
             ],
             [
              0.3333333333333333,
              "#9c179e"
             ],
             [
              0.4444444444444444,
              "#bd3786"
             ],
             [
              0.5555555555555556,
              "#d8576b"
             ],
             [
              0.6666666666666666,
              "#ed7953"
             ],
             [
              0.7777777777777778,
              "#fb9f3a"
             ],
             [
              0.8888888888888888,
              "#fdca26"
             ],
             [
              1.0,
              "#f0f921"
             ]
            ],
            "type": "histogram2dcontour"
           }
          ],
          "histogram2d": [
           {
            "colorbar": {
             "outlinewidth": 0,
             "ticks": ""
            },
            "colorscale": [
             [
              0.0,
              "#0d0887"
             ],
             [
              0.1111111111111111,
              "#46039f"
             ],
             [
              0.2222222222222222,
              "#7201a8"
             ],
             [
              0.3333333333333333,
              "#9c179e"
             ],
             [
              0.4444444444444444,
              "#bd3786"
             ],
             [
              0.5555555555555556,
              "#d8576b"
             ],
             [
              0.6666666666666666,
              "#ed7953"
             ],
             [
              0.7777777777777778,
              "#fb9f3a"
             ],
             [
              0.8888888888888888,
              "#fdca26"
             ],
             [
              1.0,
              "#f0f921"
             ]
            ],
            "type": "histogram2d"
           }
          ],
          "histogram": [
           {
            "marker": {
             "pattern": {
              "fillmode": "overlay",
              "size": 10,
              "solidity": 0.2
             }
            },
            "type": "histogram"
           }
          ],
          "mesh3d": [
           {
            "colorbar": {
             "outlinewidth": 0,
             "ticks": ""
            },
            "type": "mesh3d"
           }
          ],
          "parcoords": [
           {
            "line": {
             "colorbar": {
              "outlinewidth": 0,
              "ticks": ""
             }
            },
            "type": "parcoords"
           }
          ],
          "pie": [
           {
            "automargin": true,
            "type": "pie"
           }
          ],
          "scatter3d": [
           {
            "line": {
             "colorbar": {
              "outlinewidth": 0,
              "ticks": ""
             }
            },
            "marker": {
             "colorbar": {
              "outlinewidth": 0,
              "ticks": ""
             }
            },
            "type": "scatter3d"
           }
          ],
          "scattercarpet": [
           {
            "marker": {
             "colorbar": {
              "outlinewidth": 0,
              "ticks": ""
             }
            },
            "type": "scattercarpet"
           }
          ],
          "scattergeo": [
           {
            "marker": {
             "colorbar": {
              "outlinewidth": 0,
              "ticks": ""
             }
            },
            "type": "scattergeo"
           }
          ],
          "scattergl": [
           {
            "marker": {
             "colorbar": {
              "outlinewidth": 0,
              "ticks": ""
             }
            },
            "type": "scattergl"
           }
          ],
          "scattermapbox": [
           {
            "marker": {
             "colorbar": {
              "outlinewidth": 0,
              "ticks": ""
             }
            },
            "type": "scattermapbox"
           }
          ],
          "scattermap": [
           {
            "marker": {
             "colorbar": {
              "outlinewidth": 0,
              "ticks": ""
             }
            },
            "type": "scattermap"
           }
          ],
          "scatterpolargl": [
           {
            "marker": {
             "colorbar": {
              "outlinewidth": 0,
              "ticks": ""
             }
            },
            "type": "scatterpolargl"
           }
          ],
          "scatterpolar": [
           {
            "marker": {
             "colorbar": {
              "outlinewidth": 0,
              "ticks": ""
             }
            },
            "type": "scatterpolar"
           }
          ],
          "scatter": [
           {
            "fillpattern": {
             "fillmode": "overlay",
             "size": 10,
             "solidity": 0.2
            },
            "type": "scatter"
           }
          ],
          "scatterternary": [
           {
            "marker": {
             "colorbar": {
              "outlinewidth": 0,
              "ticks": ""
             }
            },
            "type": "scatterternary"
           }
          ],
          "surface": [
           {
            "colorbar": {
             "outlinewidth": 0,
             "ticks": ""
            },
            "colorscale": [
             [
              0.0,
              "#0d0887"
             ],
             [
              0.1111111111111111,
              "#46039f"
             ],
             [
              0.2222222222222222,
              "#7201a8"
             ],
             [
              0.3333333333333333,
              "#9c179e"
             ],
             [
              0.4444444444444444,
              "#bd3786"
             ],
             [
              0.5555555555555556,
              "#d8576b"
             ],
             [
              0.6666666666666666,
              "#ed7953"
             ],
             [
              0.7777777777777778,
              "#fb9f3a"
             ],
             [
              0.8888888888888888,
              "#fdca26"
             ],
             [
              1.0,
              "#f0f921"
             ]
            ],
            "type": "surface"
           }
          ],
          "table": [
           {
            "cells": {
             "fill": {
              "color": "#EBF0F8"
             },
             "line": {
              "color": "white"
             }
            },
            "header": {
             "fill": {
              "color": "#C8D4E3"
             },
             "line": {
              "color": "white"
             }
            },
            "type": "table"
           }
          ]
         },
         "layout": {
          "annotationdefaults": {
           "arrowcolor": "#2a3f5f",
           "arrowhead": 0,
           "arrowwidth": 1
          },
          "autotypenumbers": "strict",
          "coloraxis": {
           "colorbar": {
            "outlinewidth": 0,
            "ticks": ""
           }
          },
          "colorscale": {
           "diverging": [
            [
             0,
             "#8e0152"
            ],
            [
             0.1,
             "#c51b7d"
            ],
            [
             0.2,
             "#de77ae"
            ],
            [
             0.3,
             "#f1b6da"
            ],
            [
             0.4,
             "#fde0ef"
            ],
            [
             0.5,
             "#f7f7f7"
            ],
            [
             0.6,
             "#e6f5d0"
            ],
            [
             0.7,
             "#b8e186"
            ],
            [
             0.8,
             "#7fbc41"
            ],
            [
             0.9,
             "#4d9221"
            ],
            [
             1,
             "#276419"
            ]
           ],
           "sequential": [
            [
             0.0,
             "#0d0887"
            ],
            [
             0.1111111111111111,
             "#46039f"
            ],
            [
             0.2222222222222222,
             "#7201a8"
            ],
            [
             0.3333333333333333,
             "#9c179e"
            ],
            [
             0.4444444444444444,
             "#bd3786"
            ],
            [
             0.5555555555555556,
             "#d8576b"
            ],
            [
             0.6666666666666666,
             "#ed7953"
            ],
            [
             0.7777777777777778,
             "#fb9f3a"
            ],
            [
             0.8888888888888888,
             "#fdca26"
            ],
            [
             1.0,
             "#f0f921"
            ]
           ],
           "sequentialminus": [
            [
             0.0,
             "#0d0887"
            ],
            [
             0.1111111111111111,
             "#46039f"
            ],
            [
             0.2222222222222222,
             "#7201a8"
            ],
            [
             0.3333333333333333,
             "#9c179e"
            ],
            [
             0.4444444444444444,
             "#bd3786"
            ],
            [
             0.5555555555555556,
             "#d8576b"
            ],
            [
             0.6666666666666666,
             "#ed7953"
            ],
            [
             0.7777777777777778,
             "#fb9f3a"
            ],
            [
             0.8888888888888888,
             "#fdca26"
            ],
            [
             1.0,
             "#f0f921"
            ]
           ]
          },
          "colorway": [
           "#636efa",
           "#EF553B",
           "#00cc96",
           "#ab63fa",
           "#FFA15A",
           "#19d3f3",
           "#FF6692",
           "#B6E880",
           "#FF97FF",
           "#FECB52"
          ],
          "font": {
           "color": "#2a3f5f"
          },
          "geo": {
           "bgcolor": "white",
           "lakecolor": "white",
           "landcolor": "white",
           "showlakes": true,
           "showland": true,
           "subunitcolor": "#C8D4E3"
          },
          "hoverlabel": {
           "align": "left"
          },
          "hovermode": "closest",
          "mapbox": {
           "style": "light"
          },
          "paper_bgcolor": "white",
          "plot_bgcolor": "white",
          "polar": {
           "angularaxis": {
            "gridcolor": "#EBF0F8",
            "linecolor": "#EBF0F8",
            "ticks": ""
           },
           "bgcolor": "white",
           "radialaxis": {
            "gridcolor": "#EBF0F8",
            "linecolor": "#EBF0F8",
            "ticks": ""
           }
          },
          "scene": {
           "xaxis": {
            "backgroundcolor": "white",
            "gridcolor": "#DFE8F3",
            "gridwidth": 2,
            "linecolor": "#EBF0F8",
            "showbackground": true,
            "ticks": "",
            "zerolinecolor": "#EBF0F8"
           },
           "yaxis": {
            "backgroundcolor": "white",
            "gridcolor": "#DFE8F3",
            "gridwidth": 2,
            "linecolor": "#EBF0F8",
            "showbackground": true,
            "ticks": "",
            "zerolinecolor": "#EBF0F8"
           },
           "zaxis": {
            "backgroundcolor": "white",
            "gridcolor": "#DFE8F3",
            "gridwidth": 2,
            "linecolor": "#EBF0F8",
            "showbackground": true,
            "ticks": "",
            "zerolinecolor": "#EBF0F8"
           }
          },
          "shapedefaults": {
           "line": {
            "color": "#2a3f5f"
           }
          },
          "ternary": {
           "aaxis": {
            "gridcolor": "#DFE8F3",
            "linecolor": "#A2B1C6",
            "ticks": ""
           },
           "baxis": {
            "gridcolor": "#DFE8F3",
            "linecolor": "#A2B1C6",
            "ticks": ""
           },
           "bgcolor": "white",
           "caxis": {
            "gridcolor": "#DFE8F3",
            "linecolor": "#A2B1C6",
            "ticks": ""
           }
          },
          "title": {
           "x": 0.05
          },
          "xaxis": {
           "automargin": true,
           "gridcolor": "#EBF0F8",
           "linecolor": "#EBF0F8",
           "ticks": "",
           "title": {
            "standoff": 15
           },
           "zerolinecolor": "#EBF0F8",
           "zerolinewidth": 2
          },
          "yaxis": {
           "automargin": true,
           "gridcolor": "#EBF0F8",
           "linecolor": "#EBF0F8",
           "ticks": "",
           "title": {
            "standoff": 15
           },
           "zerolinecolor": "#EBF0F8",
           "zerolinewidth": 2
          }
         }
        },
        "font": {
         "family": "Times New Roman",
         "size": 14
        },
        "margin": {
         "l": 60,
         "r": 80,
         "t": 60,
         "b": 80
        },
        "xaxis": {
         "title": {
          "text": "Temperature (T)"
         },
         "tickmode": "array",
         "tickvals": [
          0.2,
          0.5,
          0.7,
          1.0
         ],
         "ticktext": [
          "0.2",
          "0.5",
          "0.7",
          "1.0"
         ],
         "showgrid": true,
         "gridcolor": "rgba(200,200,200,0.3)"
        },
        "yaxis": {
         "title": {
          "text": "Average Rank (Lower = Better)"
         },
         "range": [
          1.05,
          7.2
         ],
         "showgrid": true,
         "gridcolor": "rgba(200,200,200,0.3)"
        },
        "legend": {
         "font": {
          "size": 12
         },
         "orientation": "h",
         "y": -0.28,
         "x": 0.5,
         "xanchor": "center"
        },
        "title": {
         "text": "<b>Mistral Family (Self-Consistent): Avg Rank vs Temperature</b>"
        },
        "width": 700,
        "height": 400
       },
       "config": {
        "plotlyServerURL": "https://plot.ly"
       }
      }
     },
     "metadata": {},
     "output_type": "display_data"
    }
   ],
   "execution_count": 3
  },
  {
   "metadata": {
    "ExecuteTime": {
     "end_time": "2025-10-24T03:18:18.424712Z",
     "start_time": "2025-10-24T03:18:18.372606Z"
    }
   },
   "cell_type": "code",
   "source": "per_model.head()",
   "id": "9d1d538f6fa8a92",
   "outputs": [
    {
     "data": {
      "text/plain": [
       "    model         style  temperature  HR@10  Precision@10  NDCG@10    Gini  \\\n",
       "4  gpt-4o  few_shot_cot          1.2    1.0         0.619   0.6504  0.5970   \n",
       "5  gpt-4o  few_shot_cot          1.4    1.0         0.610   0.6416  0.5846   \n",
       "3  gpt-4o  few_shot_cot          1.0    1.0         0.630   0.6520  0.5986   \n",
       "0  gpt-4o  few_shot_cot          0.2    1.0         0.617   0.6430  0.5917   \n",
       "2  gpt-4o  few_shot_cot          0.7    1.0         0.634   0.6583  0.6012   \n",
       "\n",
       "   Entropy  HR@10_rank  Precision@10_rank  NDCG@10_rank  Gini_rank  \\\n",
       "4   4.7128         1.0                4.0           3.0        4.0   \n",
       "5   4.7432         1.0                6.0           6.0        1.0   \n",
       "3   4.6647         1.0                2.0           2.0        6.0   \n",
       "0   4.6689         1.0                5.0           5.0        2.0   \n",
       "2   4.6505         1.0                1.0           1.0        7.0   \n",
       "\n",
       "   Entropy_rank  avg_rank  best_temperature  \n",
       "4           2.0      3.25             False  \n",
       "5           1.0      3.50              True  \n",
       "3           5.0      3.75             False  \n",
       "0           4.0      4.00              True  \n",
       "2           7.0      4.00             False  "
      ],
      "text/html": [
       "<div>\n",
       "<style scoped>\n",
       "    .dataframe tbody tr th:only-of-type {\n",
       "        vertical-align: middle;\n",
       "    }\n",
       "\n",
       "    .dataframe tbody tr th {\n",
       "        vertical-align: top;\n",
       "    }\n",
       "\n",
       "    .dataframe thead th {\n",
       "        text-align: right;\n",
       "    }\n",
       "</style>\n",
       "<table border=\"1\" class=\"dataframe\">\n",
       "  <thead>\n",
       "    <tr style=\"text-align: right;\">\n",
       "      <th></th>\n",
       "      <th>model</th>\n",
       "      <th>style</th>\n",
       "      <th>temperature</th>\n",
       "      <th>HR@10</th>\n",
       "      <th>Precision@10</th>\n",
       "      <th>NDCG@10</th>\n",
       "      <th>Gini</th>\n",
       "      <th>Entropy</th>\n",
       "      <th>HR@10_rank</th>\n",
       "      <th>Precision@10_rank</th>\n",
       "      <th>NDCG@10_rank</th>\n",
       "      <th>Gini_rank</th>\n",
       "      <th>Entropy_rank</th>\n",
       "      <th>avg_rank</th>\n",
       "      <th>best_temperature</th>\n",
       "    </tr>\n",
       "  </thead>\n",
       "  <tbody>\n",
       "    <tr>\n",
       "      <th>4</th>\n",
       "      <td>gpt-4o</td>\n",
       "      <td>few_shot_cot</td>\n",
       "      <td>1.2</td>\n",
       "      <td>1.0</td>\n",
       "      <td>0.619</td>\n",
       "      <td>0.6504</td>\n",
       "      <td>0.5970</td>\n",
       "      <td>4.7128</td>\n",
       "      <td>1.0</td>\n",
       "      <td>4.0</td>\n",
       "      <td>3.0</td>\n",
       "      <td>4.0</td>\n",
       "      <td>2.0</td>\n",
       "      <td>3.25</td>\n",
       "      <td>False</td>\n",
       "    </tr>\n",
       "    <tr>\n",
       "      <th>5</th>\n",
       "      <td>gpt-4o</td>\n",
       "      <td>few_shot_cot</td>\n",
       "      <td>1.4</td>\n",
       "      <td>1.0</td>\n",
       "      <td>0.610</td>\n",
       "      <td>0.6416</td>\n",
       "      <td>0.5846</td>\n",
       "      <td>4.7432</td>\n",
       "      <td>1.0</td>\n",
       "      <td>6.0</td>\n",
       "      <td>6.0</td>\n",
       "      <td>1.0</td>\n",
       "      <td>1.0</td>\n",
       "      <td>3.50</td>\n",
       "      <td>True</td>\n",
       "    </tr>\n",
       "    <tr>\n",
       "      <th>3</th>\n",
       "      <td>gpt-4o</td>\n",
       "      <td>few_shot_cot</td>\n",
       "      <td>1.0</td>\n",
       "      <td>1.0</td>\n",
       "      <td>0.630</td>\n",
       "      <td>0.6520</td>\n",
       "      <td>0.5986</td>\n",
       "      <td>4.6647</td>\n",
       "      <td>1.0</td>\n",
       "      <td>2.0</td>\n",
       "      <td>2.0</td>\n",
       "      <td>6.0</td>\n",
       "      <td>5.0</td>\n",
       "      <td>3.75</td>\n",
       "      <td>False</td>\n",
       "    </tr>\n",
       "    <tr>\n",
       "      <th>0</th>\n",
       "      <td>gpt-4o</td>\n",
       "      <td>few_shot_cot</td>\n",
       "      <td>0.2</td>\n",
       "      <td>1.0</td>\n",
       "      <td>0.617</td>\n",
       "      <td>0.6430</td>\n",
       "      <td>0.5917</td>\n",
       "      <td>4.6689</td>\n",
       "      <td>1.0</td>\n",
       "      <td>5.0</td>\n",
       "      <td>5.0</td>\n",
       "      <td>2.0</td>\n",
       "      <td>4.0</td>\n",
       "      <td>4.00</td>\n",
       "      <td>True</td>\n",
       "    </tr>\n",
       "    <tr>\n",
       "      <th>2</th>\n",
       "      <td>gpt-4o</td>\n",
       "      <td>few_shot_cot</td>\n",
       "      <td>0.7</td>\n",
       "      <td>1.0</td>\n",
       "      <td>0.634</td>\n",
       "      <td>0.6583</td>\n",
       "      <td>0.6012</td>\n",
       "      <td>4.6505</td>\n",
       "      <td>1.0</td>\n",
       "      <td>1.0</td>\n",
       "      <td>1.0</td>\n",
       "      <td>7.0</td>\n",
       "      <td>7.0</td>\n",
       "      <td>4.00</td>\n",
       "      <td>False</td>\n",
       "    </tr>\n",
       "  </tbody>\n",
       "</table>\n",
       "</div>"
      ]
     },
     "execution_count": 6,
     "metadata": {},
     "output_type": "execute_result"
    }
   ],
   "execution_count": 6
  },
  {
   "metadata": {
    "ExecuteTime": {
     "end_time": "2025-10-28T00:12:05.636911Z",
     "start_time": "2025-10-28T00:11:41.588230Z"
    }
   },
   "cell_type": "code",
   "source": [
    "import plotly.graph_objects as go\n",
    "from plotly.subplots import make_subplots\n",
    "from pathlib import Path\n",
    "\n",
    "# === Colors for prompt styles ===\n",
    "style_color_map = {\n",
    "    \"few_shot_cot\": \"#ff7f0e\",   # orange\n",
    "    \"zero_shot_cot\": \"#1f77b4\",  # blue\n",
    "}\n",
    "\n",
    "# === Line styles per model (solid = base, dot = smaller variant) ===\n",
    "line_styles = {\n",
    "    \"gpt-4o\": \"solid\",\n",
    "    \"gpt-4o-mini\": \"dot\",\n",
    "    \"mistral-7B\": \"dot\",\n",
    "    \"mistral-large-2\": \"solid\",\n",
    "}\n",
    "\n",
    "# === Family configuration ===\n",
    "families = {\n",
    "    \"GPT Family (Self-Consistent)\": {\n",
    "        \"models\": [\"gpt-4o\", \"gpt-4o-mini\"],\n",
    "        \"temps\": [0.2, 0.5, 0.7, 1.0, 1.2, 1.4, 1.6],\n",
    "    },\n",
    "    \"Mistral Family (Self-Consistent)\": {\n",
    "        \"models\": [\"mistral-7B\", \"mistral-large-2\"],\n",
    "        \"temps\": [0.2, 0.5, 0.7, 1.0],\n",
    "    },\n",
    "}\n",
    "\n",
    "# === Output folder ===\n",
    "output_dir = Path(\"plots_sc_combined\")\n",
    "output_dir.mkdir(exist_ok=True)\n",
    "\n",
    "# === Shared Y-axis scale ===\n",
    "global_min = per_model[\"avg_rank\"].min()\n",
    "global_max = per_model[\"avg_rank\"].max()\n",
    "y_range = [global_min - 0.2, global_max + 0.2]\n",
    "\n",
    "# === Create side-by-side subplots ===\n",
    "fig = make_subplots(\n",
    "    rows=1, cols=2,\n",
    "    subplot_titles=(\n",
    "        \"<b>GPT-4o Family</b>\",\n",
    "        \"<b>Mistral Family</b>\"\n",
    "    ),\n",
    "    shared_yaxes=True,\n",
    "    horizontal_spacing=0.08\n",
    ")\n",
    "\n",
    "# === Populate each subplot ===\n",
    "for i, (family, config) in enumerate(families.items(), start=1):\n",
    "    models = config[\"models\"]\n",
    "    allowed_temps = config[\"temps\"]\n",
    "\n",
    "    df_plot = per_model[\n",
    "        (per_model[\"model\"].isin(models)) &\n",
    "        (per_model[\"temperature\"].isin(allowed_temps))\n",
    "    ].copy()\n",
    "\n",
    "    for style in sorted(df_plot[\"style\"].unique()):\n",
    "        for model in models:\n",
    "            subset = (\n",
    "                df_plot[\n",
    "                    (df_plot[\"model\"] == model) &\n",
    "                    (df_plot[\"style\"] == style)\n",
    "                ]\n",
    "                .sort_values(\"temperature\")\n",
    "            )\n",
    "            if subset.empty:\n",
    "                continue\n",
    "\n",
    "            color = style_color_map.get(style, \"#000000\")\n",
    "            dash = line_styles.get(model, \"solid\")\n",
    "\n",
    "            fig.add_trace(\n",
    "                go.Scatter(\n",
    "                    x=subset[\"temperature\"],\n",
    "                    y=subset[\"avg_rank\"],\n",
    "                    mode=\"lines+markers+text\",\n",
    "                    name=f\"{style.replace('_', ' ')} – {model}\",\n",
    "                    line=dict(color=color, dash=dash, width=2.5),\n",
    "                    marker=dict(size=6, symbol=\"circle\"),\n",
    "                    hovertemplate=(\n",
    "                        f\"<b>{model}</b><br>Style: {style}\"\n",
    "                        \"<br>Temp=%{x}<br>Avg Rank=%{y:.2f}<extra></extra>\"\n",
    "                    ),\n",
    "                ),\n",
    "                row=1, col=i\n",
    "            )\n",
    "\n",
    "# === Layout ===\n",
    "fig.update_layout(\n",
    "    template=\"plotly_white\",\n",
    "    width=650,   # compact for paper\n",
    "    height=320,  # smaller height\n",
    "    font=dict(family=\"Times New Roman\", size=12),\n",
    "    legend=dict(\n",
    "        orientation=\"h\",\n",
    "        y=-0.3,\n",
    "        x=0.5,\n",
    "        xanchor=\"center\",\n",
    "        font=dict(size=10)\n",
    "    ),\n",
    "    margin=dict(l=55, r=40, t=60, b=55),\n",
    "    hovermode=\"x unified\",\n",
    ")\n",
    "\n",
    "# === Axis formatting ===\n",
    "for i, (_, config) in enumerate(families.items(), start=1):\n",
    "    allowed_temps = config[\"temps\"]\n",
    "    fig.update_xaxes(\n",
    "        tickvals=allowed_temps,\n",
    "        ticktext=[str(t) for t in allowed_temps],\n",
    "        title_text=\"<b>Temperature (T)</b>\",\n",
    "        title_font=dict(size=11, family=\"Times New Roman\", color=\"black\"),\n",
    "        tickfont=dict(size=10, family=\"Times New Roman\", color=\"black\"),\n",
    "        row=1, col=i\n",
    "    )\n",
    "fig.update_yaxes(\n",
    "    title_text=\"<b>Average Rank (Lower = Better)</b>\",\n",
    "    range=y_range,\n",
    "    title_font=dict(size=11, family=\"Times New Roman\", color=\"black\"),\n",
    "    tickfont=dict(size=10, family=\"Times New Roman\", color=\"black\"),\n",
    "    showgrid=True, gridcolor=\"rgba(200,200,200,0.3)\"\n",
    ")\n",
    "\n",
    "# === Bold subplot titles ===\n",
    "fig.update_annotations(font=dict(size=13, family=\"Times New Roman\", color=\"black\"))\n",
    "\n",
    "# === Save & display ===\n",
    "fig.write_html(str(output_dir / \"combined_avg_rank_vs_temp.html\"))\n",
    "# Optional high-res PNG for LaTeX inclusion\n",
    "# fig.write_image(str(output_dir / \"combined_avg_rank_vs_temp.png\"), scale=3)\n",
    "fig.write_image(\"combined_avg_rank_vs_temp.pdf\", format=\"pdf\", scale=3)  # <-- PDF export\n",
    "fig.show()\n"
   ],
   "id": "e9e4ca54e8bdd39b",
   "outputs": [
    {
     "data": {
      "application/vnd.plotly.v1+json": {
       "data": [
        {
         "hovertemplate": "<b>gpt-4o</b><br>Style: few_shot_cot<br>Temp=%{x}<br>Avg Rank=%{y:.2f}<extra></extra>",
         "line": {
          "color": "#ff7f0e",
          "dash": "solid",
          "width": 2.5
         },
         "marker": {
          "size": 6,
          "symbol": "circle"
         },
         "mode": "lines+markers+text",
         "name": "few shot cot – gpt-4o",
         "x": {
          "dtype": "f8",
          "bdata": "mpmZmZmZyT8AAAAAAADgP2ZmZmZmZuY/AAAAAAAA8D8zMzMzMzPzP2ZmZmZmZvY/mpmZmZmZ+T8="
         },
         "y": {
          "dtype": "f8",
          "bdata": "AAAAAAAAEEAAAAAAAAASQAAAAAAAABBAAAAAAAAADkAAAAAAAAAKQAAAAAAAAAxAAAAAAAAAFEA="
         },
         "type": "scatter",
         "xaxis": "x",
         "yaxis": "y"
        },
        {
         "hovertemplate": "<b>gpt-4o-mini</b><br>Style: few_shot_cot<br>Temp=%{x}<br>Avg Rank=%{y:.2f}<extra></extra>",
         "line": {
          "color": "#ff7f0e",
          "dash": "dot",
          "width": 2.5
         },
         "marker": {
          "size": 6,
          "symbol": "circle"
         },
         "mode": "lines+markers+text",
         "name": "few shot cot – gpt-4o-mini",
         "x": {
          "dtype": "f8",
          "bdata": "mpmZmZmZyT8AAAAAAADgP2ZmZmZmZuY/AAAAAAAA8D8zMzMzMzPzP2ZmZmZmZvY/mpmZmZmZ+T8="
         },
         "y": {
          "dtype": "f8",
          "bdata": "AAAAAAAAGkAAAAAAAAAXQAAAAAAAABNAAAAAAAAACEAAAAAAAAD4PwAAAAAAAAJAAAAAAAAAEUA="
         },
         "type": "scatter",
         "xaxis": "x",
         "yaxis": "y"
        },
        {
         "hovertemplate": "<b>gpt-4o</b><br>Style: zero_shot_cot<br>Temp=%{x}<br>Avg Rank=%{y:.2f}<extra></extra>",
         "line": {
          "color": "#1f77b4",
          "dash": "solid",
          "width": 2.5
         },
         "marker": {
          "size": 6,
          "symbol": "circle"
         },
         "mode": "lines+markers+text",
         "name": "zero shot cot – gpt-4o",
         "x": {
          "dtype": "f8",
          "bdata": "mpmZmZmZyT8AAAAAAADgP2ZmZmZmZuY/AAAAAAAA8D8zMzMzMzPzP2ZmZmZmZvY/mpmZmZmZ+T8="
         },
         "y": {
          "dtype": "f8",
          "bdata": "AAAAAAAAFUAAAAAAAAASQAAAAAAAAAJAAAAAAAAACkAAAAAAAAAAQAAAAAAAAA5AAAAAAAAAHEA="
         },
         "type": "scatter",
         "xaxis": "x",
         "yaxis": "y"
        },
        {
         "hovertemplate": "<b>gpt-4o-mini</b><br>Style: zero_shot_cot<br>Temp=%{x}<br>Avg Rank=%{y:.2f}<extra></extra>",
         "line": {
          "color": "#1f77b4",
          "dash": "dot",
          "width": 2.5
         },
         "marker": {
          "size": 6,
          "symbol": "circle"
         },
         "mode": "lines+markers+text",
         "name": "zero shot cot – gpt-4o-mini",
         "x": {
          "dtype": "f8",
          "bdata": "mpmZmZmZyT8AAAAAAADgP2ZmZmZmZuY/AAAAAAAA8D8zMzMzMzPzP2ZmZmZmZvY/mpmZmZmZ+T8="
         },
         "y": {
          "dtype": "f8",
          "bdata": "AAAAAAAAEUAAAAAAAAAWQAAAAAAAABFAAAAAAAAADEAAAAAAAAAEQAAAAAAAAAZAAAAAAAAAFUA="
         },
         "type": "scatter",
         "xaxis": "x",
         "yaxis": "y"
        },
        {
         "hovertemplate": "<b>mistral-7B</b><br>Style: few_shot_cot<br>Temp=%{x}<br>Avg Rank=%{y:.2f}<extra></extra>",
         "line": {
          "color": "#ff7f0e",
          "dash": "dot",
          "width": 2.5
         },
         "marker": {
          "size": 6,
          "symbol": "circle"
         },
         "mode": "lines+markers+text",
         "name": "few shot cot – mistral-7B",
         "x": {
          "dtype": "f8",
          "bdata": "mpmZmZmZyT8AAAAAAADgP2ZmZmZmZuY/AAAAAAAA8D8="
         },
         "y": {
          "dtype": "f8",
          "bdata": "AAAAAAAACEAAAAAAAAAMQAAAAAAAAABAAAAAAAAA+D8="
         },
         "type": "scatter",
         "xaxis": "x2",
         "yaxis": "y2"
        },
        {
         "hovertemplate": "<b>mistral-large-2</b><br>Style: few_shot_cot<br>Temp=%{x}<br>Avg Rank=%{y:.2f}<extra></extra>",
         "line": {
          "color": "#ff7f0e",
          "dash": "solid",
          "width": 2.5
         },
         "marker": {
          "size": 6,
          "symbol": "circle"
         },
         "mode": "lines+markers+text",
         "name": "few shot cot – mistral-large-2",
         "x": {
          "dtype": "f8",
          "bdata": "mpmZmZmZyT8AAAAAAADgP2ZmZmZmZuY/AAAAAAAA8D8="
         },
         "y": {
          "dtype": "f8",
          "bdata": "AAAAAAAACEAAAAAAAAAAQAAAAAAAAApAAAAAAAAA/D8="
         },
         "type": "scatter",
         "xaxis": "x2",
         "yaxis": "y2"
        },
        {
         "hovertemplate": "<b>mistral-7B</b><br>Style: zero_shot_cot<br>Temp=%{x}<br>Avg Rank=%{y:.2f}<extra></extra>",
         "line": {
          "color": "#1f77b4",
          "dash": "dot",
          "width": 2.5
         },
         "marker": {
          "size": 6,
          "symbol": "circle"
         },
         "mode": "lines+markers+text",
         "name": "zero shot cot – mistral-7B",
         "x": {
          "dtype": "f8",
          "bdata": "mpmZmZmZyT8AAAAAAADgP2ZmZmZmZuY/AAAAAAAA8D8="
         },
         "y": {
          "dtype": "f8",
          "bdata": "AAAAAAAABkAAAAAAAAD8PwAAAAAAAAxAAAAAAAAAAEA="
         },
         "type": "scatter",
         "xaxis": "x2",
         "yaxis": "y2"
        },
        {
         "hovertemplate": "<b>mistral-large-2</b><br>Style: zero_shot_cot<br>Temp=%{x}<br>Avg Rank=%{y:.2f}<extra></extra>",
         "line": {
          "color": "#1f77b4",
          "dash": "solid",
          "width": 2.5
         },
         "marker": {
          "size": 6,
          "symbol": "circle"
         },
         "mode": "lines+markers+text",
         "name": "zero shot cot – mistral-large-2",
         "x": {
          "dtype": "f8",
          "bdata": "mpmZmZmZyT8AAAAAAADgP2ZmZmZmZuY/AAAAAAAA8D8="
         },
         "y": {
          "dtype": "f8",
          "bdata": "AAAAAAAACkAAAAAAAAAGQAAAAAAAAAZAAAAAAAAA9D8="
         },
         "type": "scatter",
         "xaxis": "x2",
         "yaxis": "y2"
        }
       ],
       "layout": {
        "template": {
         "data": {
          "barpolar": [
           {
            "marker": {
             "line": {
              "color": "white",
              "width": 0.5
             },
             "pattern": {
              "fillmode": "overlay",
              "size": 10,
              "solidity": 0.2
             }
            },
            "type": "barpolar"
           }
          ],
          "bar": [
           {
            "error_x": {
             "color": "#2a3f5f"
            },
            "error_y": {
             "color": "#2a3f5f"
            },
            "marker": {
             "line": {
              "color": "white",
              "width": 0.5
             },
             "pattern": {
              "fillmode": "overlay",
              "size": 10,
              "solidity": 0.2
             }
            },
            "type": "bar"
           }
          ],
          "carpet": [
           {
            "aaxis": {
             "endlinecolor": "#2a3f5f",
             "gridcolor": "#C8D4E3",
             "linecolor": "#C8D4E3",
             "minorgridcolor": "#C8D4E3",
             "startlinecolor": "#2a3f5f"
            },
            "baxis": {
             "endlinecolor": "#2a3f5f",
             "gridcolor": "#C8D4E3",
             "linecolor": "#C8D4E3",
             "minorgridcolor": "#C8D4E3",
             "startlinecolor": "#2a3f5f"
            },
            "type": "carpet"
           }
          ],
          "choropleth": [
           {
            "colorbar": {
             "outlinewidth": 0,
             "ticks": ""
            },
            "type": "choropleth"
           }
          ],
          "contourcarpet": [
           {
            "colorbar": {
             "outlinewidth": 0,
             "ticks": ""
            },
            "type": "contourcarpet"
           }
          ],
          "contour": [
           {
            "colorbar": {
             "outlinewidth": 0,
             "ticks": ""
            },
            "colorscale": [
             [
              0.0,
              "#0d0887"
             ],
             [
              0.1111111111111111,
              "#46039f"
             ],
             [
              0.2222222222222222,
              "#7201a8"
             ],
             [
              0.3333333333333333,
              "#9c179e"
             ],
             [
              0.4444444444444444,
              "#bd3786"
             ],
             [
              0.5555555555555556,
              "#d8576b"
             ],
             [
              0.6666666666666666,
              "#ed7953"
             ],
             [
              0.7777777777777778,
              "#fb9f3a"
             ],
             [
              0.8888888888888888,
              "#fdca26"
             ],
             [
              1.0,
              "#f0f921"
             ]
            ],
            "type": "contour"
           }
          ],
          "heatmap": [
           {
            "colorbar": {
             "outlinewidth": 0,
             "ticks": ""
            },
            "colorscale": [
             [
              0.0,
              "#0d0887"
             ],
             [
              0.1111111111111111,
              "#46039f"
             ],
             [
              0.2222222222222222,
              "#7201a8"
             ],
             [
              0.3333333333333333,
              "#9c179e"
             ],
             [
              0.4444444444444444,
              "#bd3786"
             ],
             [
              0.5555555555555556,
              "#d8576b"
             ],
             [
              0.6666666666666666,
              "#ed7953"
             ],
             [
              0.7777777777777778,
              "#fb9f3a"
             ],
             [
              0.8888888888888888,
              "#fdca26"
             ],
             [
              1.0,
              "#f0f921"
             ]
            ],
            "type": "heatmap"
           }
          ],
          "histogram2dcontour": [
           {
            "colorbar": {
             "outlinewidth": 0,
             "ticks": ""
            },
            "colorscale": [
             [
              0.0,
              "#0d0887"
             ],
             [
              0.1111111111111111,
              "#46039f"
             ],
             [
              0.2222222222222222,
              "#7201a8"
             ],
             [
              0.3333333333333333,
              "#9c179e"
             ],
             [
              0.4444444444444444,
              "#bd3786"
             ],
             [
              0.5555555555555556,
              "#d8576b"
             ],
             [
              0.6666666666666666,
              "#ed7953"
             ],
             [
              0.7777777777777778,
              "#fb9f3a"
             ],
             [
              0.8888888888888888,
              "#fdca26"
             ],
             [
              1.0,
              "#f0f921"
             ]
            ],
            "type": "histogram2dcontour"
           }
          ],
          "histogram2d": [
           {
            "colorbar": {
             "outlinewidth": 0,
             "ticks": ""
            },
            "colorscale": [
             [
              0.0,
              "#0d0887"
             ],
             [
              0.1111111111111111,
              "#46039f"
             ],
             [
              0.2222222222222222,
              "#7201a8"
             ],
             [
              0.3333333333333333,
              "#9c179e"
             ],
             [
              0.4444444444444444,
              "#bd3786"
             ],
             [
              0.5555555555555556,
              "#d8576b"
             ],
             [
              0.6666666666666666,
              "#ed7953"
             ],
             [
              0.7777777777777778,
              "#fb9f3a"
             ],
             [
              0.8888888888888888,
              "#fdca26"
             ],
             [
              1.0,
              "#f0f921"
             ]
            ],
            "type": "histogram2d"
           }
          ],
          "histogram": [
           {
            "marker": {
             "pattern": {
              "fillmode": "overlay",
              "size": 10,
              "solidity": 0.2
             }
            },
            "type": "histogram"
           }
          ],
          "mesh3d": [
           {
            "colorbar": {
             "outlinewidth": 0,
             "ticks": ""
            },
            "type": "mesh3d"
           }
          ],
          "parcoords": [
           {
            "line": {
             "colorbar": {
              "outlinewidth": 0,
              "ticks": ""
             }
            },
            "type": "parcoords"
           }
          ],
          "pie": [
           {
            "automargin": true,
            "type": "pie"
           }
          ],
          "scatter3d": [
           {
            "line": {
             "colorbar": {
              "outlinewidth": 0,
              "ticks": ""
             }
            },
            "marker": {
             "colorbar": {
              "outlinewidth": 0,
              "ticks": ""
             }
            },
            "type": "scatter3d"
           }
          ],
          "scattercarpet": [
           {
            "marker": {
             "colorbar": {
              "outlinewidth": 0,
              "ticks": ""
             }
            },
            "type": "scattercarpet"
           }
          ],
          "scattergeo": [
           {
            "marker": {
             "colorbar": {
              "outlinewidth": 0,
              "ticks": ""
             }
            },
            "type": "scattergeo"
           }
          ],
          "scattergl": [
           {
            "marker": {
             "colorbar": {
              "outlinewidth": 0,
              "ticks": ""
             }
            },
            "type": "scattergl"
           }
          ],
          "scattermapbox": [
           {
            "marker": {
             "colorbar": {
              "outlinewidth": 0,
              "ticks": ""
             }
            },
            "type": "scattermapbox"
           }
          ],
          "scattermap": [
           {
            "marker": {
             "colorbar": {
              "outlinewidth": 0,
              "ticks": ""
             }
            },
            "type": "scattermap"
           }
          ],
          "scatterpolargl": [
           {
            "marker": {
             "colorbar": {
              "outlinewidth": 0,
              "ticks": ""
             }
            },
            "type": "scatterpolargl"
           }
          ],
          "scatterpolar": [
           {
            "marker": {
             "colorbar": {
              "outlinewidth": 0,
              "ticks": ""
             }
            },
            "type": "scatterpolar"
           }
          ],
          "scatter": [
           {
            "fillpattern": {
             "fillmode": "overlay",
             "size": 10,
             "solidity": 0.2
            },
            "type": "scatter"
           }
          ],
          "scatterternary": [
           {
            "marker": {
             "colorbar": {
              "outlinewidth": 0,
              "ticks": ""
             }
            },
            "type": "scatterternary"
           }
          ],
          "surface": [
           {
            "colorbar": {
             "outlinewidth": 0,
             "ticks": ""
            },
            "colorscale": [
             [
              0.0,
              "#0d0887"
             ],
             [
              0.1111111111111111,
              "#46039f"
             ],
             [
              0.2222222222222222,
              "#7201a8"
             ],
             [
              0.3333333333333333,
              "#9c179e"
             ],
             [
              0.4444444444444444,
              "#bd3786"
             ],
             [
              0.5555555555555556,
              "#d8576b"
             ],
             [
              0.6666666666666666,
              "#ed7953"
             ],
             [
              0.7777777777777778,
              "#fb9f3a"
             ],
             [
              0.8888888888888888,
              "#fdca26"
             ],
             [
              1.0,
              "#f0f921"
             ]
            ],
            "type": "surface"
           }
          ],
          "table": [
           {
            "cells": {
             "fill": {
              "color": "#EBF0F8"
             },
             "line": {
              "color": "white"
             }
            },
            "header": {
             "fill": {
              "color": "#C8D4E3"
             },
             "line": {
              "color": "white"
             }
            },
            "type": "table"
           }
          ]
         },
         "layout": {
          "annotationdefaults": {
           "arrowcolor": "#2a3f5f",
           "arrowhead": 0,
           "arrowwidth": 1
          },
          "autotypenumbers": "strict",
          "coloraxis": {
           "colorbar": {
            "outlinewidth": 0,
            "ticks": ""
           }
          },
          "colorscale": {
           "diverging": [
            [
             0,
             "#8e0152"
            ],
            [
             0.1,
             "#c51b7d"
            ],
            [
             0.2,
             "#de77ae"
            ],
            [
             0.3,
             "#f1b6da"
            ],
            [
             0.4,
             "#fde0ef"
            ],
            [
             0.5,
             "#f7f7f7"
            ],
            [
             0.6,
             "#e6f5d0"
            ],
            [
             0.7,
             "#b8e186"
            ],
            [
             0.8,
             "#7fbc41"
            ],
            [
             0.9,
             "#4d9221"
            ],
            [
             1,
             "#276419"
            ]
           ],
           "sequential": [
            [
             0.0,
             "#0d0887"
            ],
            [
             0.1111111111111111,
             "#46039f"
            ],
            [
             0.2222222222222222,
             "#7201a8"
            ],
            [
             0.3333333333333333,
             "#9c179e"
            ],
            [
             0.4444444444444444,
             "#bd3786"
            ],
            [
             0.5555555555555556,
             "#d8576b"
            ],
            [
             0.6666666666666666,
             "#ed7953"
            ],
            [
             0.7777777777777778,
             "#fb9f3a"
            ],
            [
             0.8888888888888888,
             "#fdca26"
            ],
            [
             1.0,
             "#f0f921"
            ]
           ],
           "sequentialminus": [
            [
             0.0,
             "#0d0887"
            ],
            [
             0.1111111111111111,
             "#46039f"
            ],
            [
             0.2222222222222222,
             "#7201a8"
            ],
            [
             0.3333333333333333,
             "#9c179e"
            ],
            [
             0.4444444444444444,
             "#bd3786"
            ],
            [
             0.5555555555555556,
             "#d8576b"
            ],
            [
             0.6666666666666666,
             "#ed7953"
            ],
            [
             0.7777777777777778,
             "#fb9f3a"
            ],
            [
             0.8888888888888888,
             "#fdca26"
            ],
            [
             1.0,
             "#f0f921"
            ]
           ]
          },
          "colorway": [
           "#636efa",
           "#EF553B",
           "#00cc96",
           "#ab63fa",
           "#FFA15A",
           "#19d3f3",
           "#FF6692",
           "#B6E880",
           "#FF97FF",
           "#FECB52"
          ],
          "font": {
           "color": "#2a3f5f"
          },
          "geo": {
           "bgcolor": "white",
           "lakecolor": "white",
           "landcolor": "white",
           "showlakes": true,
           "showland": true,
           "subunitcolor": "#C8D4E3"
          },
          "hoverlabel": {
           "align": "left"
          },
          "hovermode": "closest",
          "mapbox": {
           "style": "light"
          },
          "paper_bgcolor": "white",
          "plot_bgcolor": "white",
          "polar": {
           "angularaxis": {
            "gridcolor": "#EBF0F8",
            "linecolor": "#EBF0F8",
            "ticks": ""
           },
           "bgcolor": "white",
           "radialaxis": {
            "gridcolor": "#EBF0F8",
            "linecolor": "#EBF0F8",
            "ticks": ""
           }
          },
          "scene": {
           "xaxis": {
            "backgroundcolor": "white",
            "gridcolor": "#DFE8F3",
            "gridwidth": 2,
            "linecolor": "#EBF0F8",
            "showbackground": true,
            "ticks": "",
            "zerolinecolor": "#EBF0F8"
           },
           "yaxis": {
            "backgroundcolor": "white",
            "gridcolor": "#DFE8F3",
            "gridwidth": 2,
            "linecolor": "#EBF0F8",
            "showbackground": true,
            "ticks": "",
            "zerolinecolor": "#EBF0F8"
           },
           "zaxis": {
            "backgroundcolor": "white",
            "gridcolor": "#DFE8F3",
            "gridwidth": 2,
            "linecolor": "#EBF0F8",
            "showbackground": true,
            "ticks": "",
            "zerolinecolor": "#EBF0F8"
           }
          },
          "shapedefaults": {
           "line": {
            "color": "#2a3f5f"
           }
          },
          "ternary": {
           "aaxis": {
            "gridcolor": "#DFE8F3",
            "linecolor": "#A2B1C6",
            "ticks": ""
           },
           "baxis": {
            "gridcolor": "#DFE8F3",
            "linecolor": "#A2B1C6",
            "ticks": ""
           },
           "bgcolor": "white",
           "caxis": {
            "gridcolor": "#DFE8F3",
            "linecolor": "#A2B1C6",
            "ticks": ""
           }
          },
          "title": {
           "x": 0.05
          },
          "xaxis": {
           "automargin": true,
           "gridcolor": "#EBF0F8",
           "linecolor": "#EBF0F8",
           "ticks": "",
           "title": {
            "standoff": 15
           },
           "zerolinecolor": "#EBF0F8",
           "zerolinewidth": 2
          },
          "yaxis": {
           "automargin": true,
           "gridcolor": "#EBF0F8",
           "linecolor": "#EBF0F8",
           "ticks": "",
           "title": {
            "standoff": 15
           },
           "zerolinecolor": "#EBF0F8",
           "zerolinewidth": 2
          }
         }
        },
        "xaxis": {
         "anchor": "y",
         "domain": [
          0.0,
          0.46
         ],
         "title": {
          "font": {
           "size": 11,
           "family": "Times New Roman",
           "color": "black"
          },
          "text": "<b>Temperature (T)</b>"
         },
         "tickfont": {
          "size": 10,
          "family": "Times New Roman",
          "color": "black"
         },
         "tickvals": [
          0.2,
          0.5,
          0.7,
          1.0,
          1.2,
          1.4,
          1.6
         ],
         "ticktext": [
          "0.2",
          "0.5",
          "0.7",
          "1.0",
          "1.2",
          "1.4",
          "1.6"
         ]
        },
        "yaxis": {
         "anchor": "x",
         "domain": [
          0.0,
          1.0
         ],
         "title": {
          "font": {
           "size": 11,
           "family": "Times New Roman",
           "color": "black"
          },
          "text": "<b>Average Rank (Lower = Better)</b>"
         },
         "tickfont": {
          "size": 10,
          "family": "Times New Roman",
          "color": "black"
         },
         "range": [
          1.05,
          7.2
         ],
         "showgrid": true,
         "gridcolor": "rgba(200,200,200,0.3)"
        },
        "xaxis2": {
         "anchor": "y2",
         "domain": [
          0.54,
          1.0
         ],
         "title": {
          "font": {
           "size": 11,
           "family": "Times New Roman",
           "color": "black"
          },
          "text": "<b>Temperature (T)</b>"
         },
         "tickfont": {
          "size": 10,
          "family": "Times New Roman",
          "color": "black"
         },
         "tickvals": [
          0.2,
          0.5,
          0.7,
          1.0
         ],
         "ticktext": [
          "0.2",
          "0.5",
          "0.7",
          "1.0"
         ]
        },
        "yaxis2": {
         "anchor": "x2",
         "domain": [
          0.0,
          1.0
         ],
         "matches": "y",
         "showticklabels": false,
         "title": {
          "font": {
           "size": 11,
           "family": "Times New Roman",
           "color": "black"
          },
          "text": "<b>Average Rank (Lower = Better)</b>"
         },
         "tickfont": {
          "size": 10,
          "family": "Times New Roman",
          "color": "black"
         },
         "range": [
          1.05,
          7.2
         ],
         "showgrid": true,
         "gridcolor": "rgba(200,200,200,0.3)"
        },
        "annotations": [
         {
          "font": {
           "size": 13,
           "family": "Times New Roman",
           "color": "black"
          },
          "showarrow": false,
          "text": "<b>GPT-4o Family</b>",
          "x": 0.23,
          "xanchor": "center",
          "xref": "paper",
          "y": 1.0,
          "yanchor": "bottom",
          "yref": "paper"
         },
         {
          "font": {
           "size": 13,
           "family": "Times New Roman",
           "color": "black"
          },
          "showarrow": false,
          "text": "<b>Mistral Family</b>",
          "x": 0.77,
          "xanchor": "center",
          "xref": "paper",
          "y": 1.0,
          "yanchor": "bottom",
          "yref": "paper"
         }
        ],
        "font": {
         "family": "Times New Roman",
         "size": 12
        },
        "legend": {
         "font": {
          "size": 10
         },
         "orientation": "h",
         "y": -0.3,
         "x": 0.5,
         "xanchor": "center"
        },
        "margin": {
         "l": 55,
         "r": 40,
         "t": 60,
         "b": 55
        },
        "width": 650,
        "height": 320,
        "hovermode": "x unified"
       },
       "config": {
        "plotlyServerURL": "https://plot.ly"
       }
      }
     },
     "metadata": {},
     "output_type": "display_data"
    }
   ],
   "execution_count": 3
  }
 ],
 "metadata": {
  "kernelspec": {
   "display_name": "Python 3",
   "language": "python",
   "name": "python3"
  },
  "language_info": {
   "codemirror_mode": {
    "name": "ipython",
    "version": 2
   },
   "file_extension": ".py",
   "mimetype": "text/x-python",
   "name": "python",
   "nbconvert_exporter": "python",
   "pygments_lexer": "ipython2",
   "version": "2.7.6"
  }
 },
 "nbformat": 4,
 "nbformat_minor": 5
}
