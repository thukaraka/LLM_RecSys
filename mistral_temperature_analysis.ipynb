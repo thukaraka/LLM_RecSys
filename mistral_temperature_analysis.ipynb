{
 "cells": [
  {
   "metadata": {
    "ExecuteTime": {
     "end_time": "2025-10-08T00:35:18.947902Z",
     "start_time": "2025-10-08T00:35:18.765908Z"
    }
   },
   "cell_type": "code",
   "source": [
    "import re\n",
    "import json\n",
    "import pandas as pd\n",
    "from pathlib import Path\n",
    "from tqdm import tqdm\n",
    "\n",
    "def clean_movie_title(title: str) -> str:\n",
    "    \"\"\"\n",
    "    Normalize movie titles to the 'Title (Year)' format.\n",
    "    Handles variations like leading asterisks, quotes, and trailing genres.\n",
    "    \"\"\"\n",
    "    if not isinstance(title, str):\n",
    "        return None\n",
    "\n",
    "    # Remove quotes, leading asterisks, and trim whitespace\n",
    "    title = title.strip().strip('\"').strip(\"'\").lstrip('*').strip()\n",
    "\n",
    "    # Prioritize extracting the 'Title (Year)' format directly\n",
    "    match = re.search(r'(.+?\\s*\\(\\d{4}\\))', title)\n",
    "    if match:\n",
    "        # Clean the matched group to ensure single spacing, e.g., \"Title (Year)\"\n",
    "        clean_title = match.group(1).strip()\n",
    "        return re.sub(r'\\s+\\(', ' (', clean_title)\n",
    "\n",
    "    # Fallback for titles with trailing genres (e.g., \"Pulp Fiction - Crime\") or no year\n",
    "    title = re.split(r'\\s*[-–—]\\s*', title)[0].strip()\n",
    "    return title if title else None\n",
    "\n",
    "# --- Template B Extractor ---\n",
    "def extract_movies_template_b(response: str) -> list[str]:\n",
    "    \"\"\"\n",
    "    Master extractor for Template B, which contains a JSON object with recommendations.\n",
    "    \"\"\"\n",
    "    if not isinstance(response, str):\n",
    "        return []\n",
    "\n",
    "    # Find the JSON block within the response string\n",
    "    match = re.search(r'\\{.*\\}', response, re.DOTALL)\n",
    "    if not match:\n",
    "        return []\n",
    "\n",
    "    json_str = match.group(0)\n",
    "\n",
    "    try:\n",
    "        data = json.loads(json_str)\n",
    "        movies = data.get(\"recommendations\", [])\n",
    "        if not isinstance(movies, list):\n",
    "            return []\n",
    "    except json.JSONDecodeError:\n",
    "        # Fallback if JSON is malformed: extract from between brackets\n",
    "        bracket_match = re.search(r'\\[(.*?)\\]', response, re.DOTALL)\n",
    "        if not bracket_match:\n",
    "            return []\n",
    "        content = bracket_match.group(1)\n",
    "        movies = [m.strip() for m in content.split(',') if m.strip()]\n",
    "\n",
    "    cleaned_movies = [clean_movie_title(m) for m in movies if m]\n",
    "    return cleaned_movies[:10]\n",
    "\n",
    "# --- Template C Extractors ---\n",
    "def extract_numbered_lines_after_recommendation_block(response: str) -> list[str]:\n",
    "    \"\"\"\n",
    "    Extracts numbered movie lines from the RECOMMENDATIONS block in Template C.\n",
    "    \"\"\"\n",
    "    lines = response.replace(\"\\\\n\", \"\\n\").splitlines()\n",
    "    start_index = 0\n",
    "    for i, line in enumerate(lines):\n",
    "        if \"RECOMMENDATIONS\" in line.upper():\n",
    "            start_index = i + 1\n",
    "            break\n",
    "    if start_index == 0: return []\n",
    "\n",
    "    recommendation_lines = lines[start_index:]\n",
    "    extracted_titles = []\n",
    "    movie_pattern = re.compile(r'^\\s*\\d+[.)]\\s+\"?(.+?\\(\\d{4}\\))\"?.*$')\n",
    "    for line in recommendation_lines:\n",
    "        match = movie_pattern.match(line.strip())\n",
    "        if match:\n",
    "            extracted_titles.append(match.group(1).strip())\n",
    "    return extracted_titles\n",
    "\n",
    "def extract_movies_template_c(response: str) -> list[str]:\n",
    "    \"\"\"\n",
    "    Master extractor for Template C.\n",
    "    \"\"\"\n",
    "    if not isinstance(response, str) or \"RECOMMENDATIONS\" not in response.upper():\n",
    "        return []\n",
    "    movies = extract_numbered_lines_after_recommendation_block(response)\n",
    "    cleaned_movies = [clean_movie_title(m) for m in movies if m]\n",
    "    return cleaned_movies[:10]\n",
    "\n",
    "\n",
    "# ─── Main Execution Logic ───\n",
    "\n",
    "# Folder with all files\n",
    "base_path = Path(\"data/gpt_4o_mini/results_normal\")\n",
    "if not base_path.exists():\n",
    "    print(f\"Warning: Path '{base_path}' does not exist. Creating a dummy directory.\")\n",
    "    base_path.mkdir(parents=True, exist_ok=True)\n",
    "\n",
    "# Target both Template B and C files\n",
    "jsonl_files = [f for f in base_path.glob(\"normal_B*.jsonl\") if f.is_file()]\n",
    "all_results = []\n",
    "\n",
    "# Parse all found files\n",
    "if not jsonl_files:\n",
    "    print(\"No Template B or C (.jsonl) files found to process.\")\n",
    "else:\n",
    "    for file in tqdm(jsonl_files, desc=\"Processing files\"):\n",
    "        with file.open(\"r\", encoding=\"utf-8\") as f:\n",
    "            for line in f:\n",
    "                if not line.strip():\n",
    "                    continue\n",
    "                try:\n",
    "                    obj = json.loads(line)\n",
    "                except json.JSONDecodeError:\n",
    "                    print(f\"Skipping malformed JSON line in {file.name}\")\n",
    "                    continue\n",
    "\n",
    "                response = obj.get(\"response\", \"\")\n",
    "                movies = []\n",
    "\n",
    "                # Check filename to decide which extractor to use\n",
    "                if 'normal_B' in file.name:\n",
    "                    movies = extract_movies_template_b(response)\n",
    "                elif 'normal_C' in file.name:\n",
    "                    movies = extract_movies_template_c(response)\n",
    "\n",
    "                all_results.append({\n",
    "                    \"user_id\": obj.get(\"user_id\"),\n",
    "                    \"template_set\": obj.get(\"template_set\"),\n",
    "                    \"style\": obj.get(\"style\"),\n",
    "                    \"temperature\": obj.get(\"temperature\"),\n",
    "                    \"recommended_movies\": movies,\n",
    "                    \"source_file\": file.name\n",
    "                })\n",
    "\n",
    "# Build and expand a single DataFrame with all results\n",
    "df_all_recs = pd.DataFrame(all_results)\n",
    "if not df_all_recs.empty:\n",
    "    for i in range(10):\n",
    "        df_all_recs[f\"movie_{i+1}\"] = df_all_recs[\"recommended_movies\"].apply(\n",
    "            lambda x: x[i] if isinstance(x, list) and len(x) > i else None\n",
    "        )\n",
    "\n",
    "# Preview the combined results\n",
    "print(\"\\n--- Final Combined DataFrame (Templates B & C) ---\")\n",
    "if df_all_recs.empty:\n",
    "    print(\"DataFrame is empty. No data was processed.\")\n",
    "else:\n",
    "    print(\"Final shape:\", df_all_recs.shape)\n",
    "    print(df_all_recs.head(10))\n",
    "    # You can also check the tail to see if both templates were included\n",
    "    print(\"\\n--- DataFrame Tail ---\")\n",
    "    print(df_all_recs.tail(10))"
   ],
   "id": "f664b7f1b2dcccd4",
   "outputs": [
    {
     "name": "stderr",
     "output_type": "stream",
     "text": [
      "Processing files: 100%|██████████| 1/1 [00:00<00:00,  9.06it/s]"
     ]
    },
    {
     "name": "stdout",
     "output_type": "stream",
     "text": [
      "\n",
      "--- Final Combined DataFrame (Templates B & C) ---\n",
      "Final shape: (2000, 16)\n",
      "   user_id template_set          style  temperature  \\\n",
      "0       10            B      zero_shot          0.2   \n",
      "1       10            B      zero_shot          1.0   \n",
      "2       10            B      zero_shot          0.5   \n",
      "3       10            B      zero_shot          0.7   \n",
      "4       10            B       few_shot          0.7   \n",
      "5       10            B       few_shot          1.0   \n",
      "6       10            B       few_shot          0.2   \n",
      "7       10            B       few_shot          0.5   \n",
      "8       10            B  zero_shot_cot          0.5   \n",
      "9       10            B  zero_shot_cot          1.0   \n",
      "\n",
      "                                  recommended_movies            source_file  \\\n",
      "0  [The Shawshank Redemption (1994), Inception (2...  normal_B_multiT.jsonl   \n",
      "1  [The Shawshank Redemption (1994), Inception (2...  normal_B_multiT.jsonl   \n",
      "2  [The Shawshank Redemption (1994), Inception (2...  normal_B_multiT.jsonl   \n",
      "3  [The Shawshank Redemption (1994), Inception (2...  normal_B_multiT.jsonl   \n",
      "4  [Chinatown (1974), The Graduate (1967), The Sh...  normal_B_multiT.jsonl   \n",
      "5  [The Bridge on the River Kwai (1957), Charade ...  normal_B_multiT.jsonl   \n",
      "6  [The Graduate (1967), Casablanca (1942), The S...  normal_B_multiT.jsonl   \n",
      "7  [The Graduate (1967), Some Like It Hot (1959),...  normal_B_multiT.jsonl   \n",
      "8  [The Shawshank Redemption (1994), The Godfathe...  normal_B_multiT.jsonl   \n",
      "9  [The Shawshank Redemption (1994), Inception (2...  normal_B_multiT.jsonl   \n",
      "\n",
      "                               movie_1                  movie_2  \\\n",
      "0      The Shawshank Redemption (1994)         Inception (2010)   \n",
      "1      The Shawshank Redemption (1994)         Inception (2010)   \n",
      "2      The Shawshank Redemption (1994)         Inception (2010)   \n",
      "3      The Shawshank Redemption (1994)         Inception (2010)   \n",
      "4                     Chinatown (1974)      The Graduate (1967)   \n",
      "5  The Bridge on the River Kwai (1957)           Charade (1963)   \n",
      "6                  The Graduate (1967)        Casablanca (1942)   \n",
      "7                  The Graduate (1967)  Some Like It Hot (1959)   \n",
      "8      The Shawshank Redemption (1994)     The Godfather (1972)   \n",
      "9      The Shawshank Redemption (1994)         Inception (2010)   \n",
      "\n",
      "                           movie_3              movie_4  \\\n",
      "0             The Godfather (1972)    Fight Club (1999)   \n",
      "1             The Godfather (1972)    Fight Club (1999)   \n",
      "2             The Godfather (1972)    Fight Club (1999)   \n",
      "3             The Godfather (1972)  Forrest Gump (1994)   \n",
      "4  The Shawshank Redemption (1994)         Fargo (1996)   \n",
      "5                Casablanca (1942)  The Graduate (1967)   \n",
      "6  The Shawshank Redemption (1994)    Fight Club (1999)   \n",
      "7        The Maltese Falcon (1941)     Chinatown (1974)   \n",
      "8              Pulp Fiction (1994)    Fight Club (1999)   \n",
      "9             The Godfather (1972)  Pulp Fiction (1994)   \n",
      "\n",
      "                           movie_5                          movie_6  \\\n",
      "0           The Dark Knight (2008)              Forrest Gump (1994)   \n",
      "1              Forrest Gump (1994)           The Dark Knight (2008)   \n",
      "2              Forrest Gump (1994)           The Dark Knight (2008)   \n",
      "3          Schindler's List (1993)           The Dark Knight (2008)   \n",
      "4                Goodfellas (1990)  The Silence of the Lambs (1991)   \n",
      "5          Some Like It Hot (1959)          Bringing Up Baby (1938)   \n",
      "6                Goodfellas (1990)  The Silence of the Lambs (1991)   \n",
      "7  The Shawshank Redemption (1994)                Goodfellas (1990)   \n",
      "8  The Silence of the Lambs (1991)                Goodfellas (1990)   \n",
      "9  The Silence of the Lambs (1991)                Fight Club (1999)   \n",
      "\n",
      "                           movie_7                                 movie_8  \\\n",
      "0  The Silence of the Lambs (1991)                 Schindler's List (1993)   \n",
      "1              Pulp Fiction (1994)                 Schindler's List (1993)   \n",
      "2              Pulp Fiction (1994)         The Silence of the Lambs (1991)   \n",
      "3                Fight Club (1999)                     Pulp Fiction (1994)   \n",
      "4                Fight Club (1999)               A Clockwork Orange (1971)   \n",
      "5     To Kill a Mockingbird (1962)                    Roman Holiday (1953)   \n",
      "6             The Godfather (1972)  One Flew Over the Cuckoo's Nest (1975)   \n",
      "7  The Silence of the Lambs (1991)                       Fight Club (1999)   \n",
      "8                Casablanca (1942)                        Inception (2010)   \n",
      "9              Forrest Gump (1994)                  The Dark Knight (2008)   \n",
      "\n",
      "                           movie_9                                   movie_10  \n",
      "0              Pulp Fiction (1994)                          The Matrix (1999)  \n",
      "1  The Silence of the Lambs (1991)                           Toy Story (1995)  \n",
      "2          Schindler's List (1993)                          The Matrix (1999)  \n",
      "3  The Silence of the Lambs (1991)                           Gladiator (2000)  \n",
      "4        The Usual Suspects (1995)                     American Beauty (1999)  \n",
      "5           The Italian Job (1969)  Butch Cassidy and the Sundance Kid (1969)  \n",
      "6        The Usual Suspects (1995)                  A Clockwork Orange (1971)  \n",
      "7          The Big Lebowski (1998)                  The Usual Suspects (1995)  \n",
      "8           The Dark Knight (2008)                        Forrest Gump (1994)  \n",
      "9                 Gone Girl (2014)                  A Clockwork Orange (1971)  \n",
      "\n",
      "--- DataFrame Tail ---\n",
      "      user_id template_set          style  temperature  \\\n",
      "1990      927            B  zero_shot_cot          1.2   \n",
      "1991      934            B      zero_shot          1.2   \n",
      "1992      934            B       few_shot          1.2   \n",
      "1993      927            B       few_shot          1.2   \n",
      "1994      934            B   few_shot_cot          1.2   \n",
      "1995      934            B  zero_shot_cot          1.2   \n",
      "1996      943            B      zero_shot          1.2   \n",
      "1997      943            B       few_shot          1.2   \n",
      "1998      943            B   few_shot_cot          1.2   \n",
      "1999      943            B  zero_shot_cot          1.2   \n",
      "\n",
      "                                     recommended_movies  \\\n",
      "1990  [The Matrix (1999), Groundhog Day (1993), The ...   \n",
      "1991  [The Shawshank Redemption (1994), Pulp Fiction...   \n",
      "1992  [As Good as It Gets (1997), Good Will Hunting ...   \n",
      "1993  [Jerry Maguire (1996), Men in Black (1997), 10...   \n",
      "1994  [Shakespeare in Love (1998), A Few Good Men (1...   \n",
      "1995  [The Shawshank Redemption (1994), Inception (2...   \n",
      "1996  [The Princess Bride (1987), Back to the Future...   \n",
      "1997  [The Lion King (1994), Twister (1996), Men in ...   \n",
      "1998  [Jurassic Park (1993), The Shawshank Redemptio...   \n",
      "1999  [Jurassic Park (1993), The Matrix (1999), Pulp...   \n",
      "\n",
      "                source_file                          movie_1  \\\n",
      "1990  normal_B_multiT.jsonl                The Matrix (1999)   \n",
      "1991  normal_B_multiT.jsonl  The Shawshank Redemption (1994)   \n",
      "1992  normal_B_multiT.jsonl        As Good as It Gets (1997)   \n",
      "1993  normal_B_multiT.jsonl             Jerry Maguire (1996)   \n",
      "1994  normal_B_multiT.jsonl       Shakespeare in Love (1998)   \n",
      "1995  normal_B_multiT.jsonl  The Shawshank Redemption (1994)   \n",
      "1996  normal_B_multiT.jsonl        The Princess Bride (1987)   \n",
      "1997  normal_B_multiT.jsonl             The Lion King (1994)   \n",
      "1998  normal_B_multiT.jsonl             Jurassic Park (1993)   \n",
      "1999  normal_B_multiT.jsonl             Jurassic Park (1993)   \n",
      "\n",
      "                              movie_2                            movie_3  \\\n",
      "1990             Groundhog Day (1993)               The Lion King (1994)   \n",
      "1991              Pulp Fiction (1994)               The Godfather (1972)   \n",
      "1992         Good Will Hunting (1997)                    Chocolat (2000)   \n",
      "1993              Men in Black (1997)  10 Things I Hate About You (1999)   \n",
      "1994            A Few Good Men (1992)         Saving Private Ryan (1998)   \n",
      "1995                 Inception (2010)                Pulp Fiction (1994)   \n",
      "1996        Back to the Future (1985)                 The Goonies (1985)   \n",
      "1997                   Twister (1996)                Men in Black (1997)   \n",
      "1998  The Shawshank Redemption (1994)                Forrest Gump (1994)   \n",
      "1999                The Matrix (1999)                Pulp Fiction (1994)   \n",
      "\n",
      "                                       movie_4  \\\n",
      "1990                      Jurassic Park (1993)   \n",
      "1991                         Fight Club (1999)   \n",
      "1992                              Fargo (1996)   \n",
      "1993                          Rush Hour (1998)   \n",
      "1994                 As Good as It Gets (1997)   \n",
      "1995                      The Godfather (1972)   \n",
      "1996  Spider-Man: Into the Spider-Verse (2018)   \n",
      "1997                Saving Private Ryan (1998)   \n",
      "1998          Die Hard with a Vengeance (1995)   \n",
      "1999           The Shawshank Redemption (1994)   \n",
      "\n",
      "                              movie_5                           movie_6  \\\n",
      "1990              Pulp Fiction (1994)   The Shawshank Redemption (1994)   \n",
      "1991              Citizen Kane (1941)            The Dark Knight (2008)   \n",
      "1992           The Sixth Sense (1999)             Before Sunrise (1995)   \n",
      "1993                     Mulan (1998)               Galaxy Quest (1999)   \n",
      "1994         Good Will Hunting (1997)              Groundhog Day (1993)   \n",
      "1995          Schindler's List (1993)                 Fight Club (1999)   \n",
      "1996  The Shawshank Redemption (1994)                  Inception (2010)   \n",
      "1997              The Fugitive (1993)  Die Hard with a Vengeance (1995)   \n",
      "1998                 Apollo 13 (1995)         Fifth Element, The (1997)   \n",
      "1999                 Inception (2010)                 Fight Club (1999)   \n",
      "\n",
      "                            movie_7                          movie_8  \\\n",
      "1990           Seven Samurai (1954)        Back to the Future (1985)   \n",
      "1991            Forrest Gump (1994)  The Silence of the Lambs (1991)   \n",
      "1992           Seven Samurai (1954)                  The Game (1997)   \n",
      "1993                The Game (1997)         The Mask of Zorro (1998)   \n",
      "1994  Snow Falling on Cedars (1999)           The Sixth Sense (1999)   \n",
      "1995            Forrest Gump (1994)  The Silence of the Lambs (1991)   \n",
      "1996      The Breakfast Club (1985)              Pulp Fiction (1994)   \n",
      "1997                 Jumanji (1995)                  The Rock (1996)   \n",
      "1998            Men in Black (1997)                The Matrix (1999)   \n",
      "1999            Interstellar (2014)                  Die Hard (1988)   \n",
      "\n",
      "                              movie_9                   movie_10  \n",
      "1990        The Princess Bride (1987)           Inception (2010)  \n",
      "1991                 Gladiator (2000)  A Clockwork Orange (1971)  \n",
      "1992    No Country for Old Men (2007)     American Beauty (1999)  \n",
      "1993           A Knight's Tale (2001)    The Other Sister (1999)  \n",
      "1994                Fight Club (1999)      Ocean's Eleven (2001)  \n",
      "1995                The Matrix (1999)               Se7en (1995)  \n",
      "1996                 Gladiator (2000)       Jurassic Park (1993)  \n",
      "1997                  Face/Off (1997)   Starship Troopers (1997)  \n",
      "1998           Lethal Weapon 4 (1998)               X-Men (2000)  \n",
      "1999  The Silence of the Lambs (1991)  Back to the Future (1985)  \n"
     ]
    },
    {
     "name": "stderr",
     "output_type": "stream",
     "text": [
      "\n"
     ]
    }
   ],
   "execution_count": 72
  },
  {
   "metadata": {
    "ExecuteTime": {
     "end_time": "2025-10-08T00:39:10.023108Z",
     "start_time": "2025-10-08T00:39:09.987148Z"
    }
   },
   "cell_type": "code",
   "source": [
    "# ─────────────────────────────────────────────────────────────\n",
    "# Inputs\n",
    "# ─────────────────────────────────────────────────────────────\n",
    "target_user_id = 307\n",
    "target_temperature = 0.7\n",
    "target_prompt_type = \"zero_shot_cot\"  # or use 'style' depending on your column\n",
    "\n",
    "\n",
    "\n",
    "recommended_list = [\n",
    "    \"Inception (2010)\",\n",
    "    \"The Grand Budapest Hotel (2014)\",\n",
    "    \"The Shawshank Redemption (1994)\",\n",
    "    \"Eternal Sunshine of the Spotless Mind (2004)\",\n",
    "    \"Pan's Labyrinth (2006)\",\n",
    "    \"The Social Network (2010)\",\n",
    "    \"Spirited Away (2001)\",\n",
    "    \"The Silence of the Lambs (1991)\",\n",
    "    \"Pulp Fiction (1994)\",\n",
    "    \"Blade Runner 2049 (2017)\"\n",
    "]\n",
    "\n",
    "\n",
    "\n",
    "\n",
    "\n",
    "\n",
    "\n",
    "\n",
    "# ─────────────────────────────────────────────────────────────\n",
    "# Row Mask: Filter the exact row you want to assign\n",
    "# ─────────────────────────────────────────────────────────────\n",
    "row_mask = (\n",
    "    (df_all_recs['user_id'] == target_user_id) &\n",
    "    (df_all_recs['temperature'] == target_temperature) &\n",
    "    (df_all_recs['style'] == target_prompt_type)  # or 'prompt_type' if applicable\n",
    ")\n",
    "\n",
    "# ─────────────────────────────────────────────────────────────\n",
    "# Assign the full list to the 'recommended_movies' column\n",
    "# ─────────────────────────────────────────────────────────────\n",
    "df_all_recs.loc[row_mask, 'recommended_movies'] = \\\n",
    "    df_all_recs.loc[row_mask].apply(lambda _: recommended_list, axis=1)\n",
    "\n",
    "# ─────────────────────────────────────────────────────────────\n",
    "# Optionally expand into movie_1 to movie_10\n",
    "# ─────────────────────────────────────────────────────────────\n",
    "for i in range(10):\n",
    "    col = f\"movie_{i+1}\"\n",
    "    df_all_recs.loc[row_mask, col] = recommended_list[i]\n"
   ],
   "id": "b561d5c11e7b268c",
   "outputs": [],
   "execution_count": 74
  },
  {
   "metadata": {
    "ExecuteTime": {
     "end_time": "2025-10-19T06:41:40.355028Z",
     "start_time": "2025-10-19T06:41:36.786454Z"
    }
   },
   "cell_type": "code",
   "source": [
    "import pandas as pd\n",
    "col_names_for_user_ratings = ['user_id', 'movie_id', 'rating', 'timestamp']\n",
    "col_names_for_users = ['user_id' , 'age' , 'gender' , 'occupation' ,'zip code']\n",
    "\n",
    "\n",
    "df_user_ratings = pd.read_csv(\n",
    "    'data/ml-100k/u.data',\n",
    "    sep='\\t',\n",
    "    header=None,\n",
    "    names=col_names_for_user_ratings,\n",
    "    encoding='latin-1'\n",
    ")\n",
    "\n",
    "# Step 1: Count interactions\n",
    "movie_interactions = (\n",
    "    df_user_ratings\n",
    "    .groupby('movie_id')\n",
    "    .size()\n",
    "    .reset_index(name='interaction_count')\n",
    "    .sort_values(by='interaction_count', ascending=False)\n",
    ")\n"
   ],
   "id": "d613f38b68fcffcc",
   "outputs": [],
   "execution_count": 1
  },
  {
   "metadata": {
    "ExecuteTime": {
     "end_time": "2025-10-19T06:41:41.391642Z",
     "start_time": "2025-10-19T06:41:41.320200Z"
    }
   },
   "cell_type": "code",
   "source": [
    "\n",
    "df_user_ratings[\"date\"] = pd.to_datetime(df_user_ratings[\"timestamp\"], unit='s')\n",
    "\n",
    "# Count interactions per user\n",
    "interaction_counts = df_user_ratings.groupby('user_id').size()\n",
    "\n",
    "# Filter users with more than 60 interactions (strictly > 100)\n",
    "valid_users = interaction_counts[interaction_counts >= 100].index\n",
    "\n",
    "# Apply the filter\n",
    "df_filtered_user_ratings = df_user_ratings[df_user_ratings['user_id'].isin(valid_users)].copy()\n",
    "\n",
    "# Sort interactions chronologically per user\n",
    "df_filtered_user_ratings.sort_values(['user_id', 'date'], inplace=True)\n",
    "\n",
    "# Split each user's history: 80% train, 20% test\n",
    "train_list = []\n",
    "test_list = []\n",
    "\n",
    "for uid, user_df in df_filtered_user_ratings.groupby('user_id', sort=False):\n",
    "    n = len(user_df)\n",
    "    split_pt = int(n * 0.8)\n",
    "    train_list.append(user_df.iloc[:split_pt])\n",
    "    test_list.append(user_df.iloc[split_pt:])\n",
    "\n",
    "# Combine all user splits\n",
    "train_df = pd.concat(train_list).reset_index(drop=True)\n",
    "test_df = pd.concat(test_list).reset_index(drop=True)\n",
    "\n",
    "# Output some stats\n",
    "print(f\"After filtering, {len(valid_users)} users remain.\")\n",
    "print(f\"Train set: {len(train_df)} rows\")\n",
    "print(f\"Test set:  {len(test_df)} rows\")\n",
    "\n",
    "print(f\"Minimum number of interactions among kept users: {interaction_counts[valid_users].min()}\")\n",
    "print(f\"Number of users with <= 100 interactions: {(interaction_counts < 100).sum()}\")\n"
   ],
   "id": "1e05c3a71e9c62ed",
   "outputs": [
    {
     "name": "stdout",
     "output_type": "stream",
     "text": [
      "After filtering, 364 users remain.\n",
      "Train set: 59469 rows\n",
      "Test set:  15053 rows\n",
      "Minimum number of interactions among kept users: 100\n",
      "Number of users with <= 100 interactions: 579\n"
     ]
    }
   ],
   "execution_count": 2
  },
  {
   "metadata": {
    "ExecuteTime": {
     "end_time": "2025-10-19T06:41:45.247075Z",
     "start_time": "2025-10-19T06:41:45.239631Z"
    }
   },
   "cell_type": "code",
   "source": [
    "import random\n",
    "\n",
    "# Turn your valid_users (Index or list) into a plain list:\n",
    "valid_users_list = list(valid_users)\n",
    "\n",
    "\n",
    "three_picked = [1,92,433]\n",
    "print(\"Picked users:\", three_picked)\n",
    "remaining_valid_users_list = [u for u in valid_users_list if u not in three_picked]\n",
    "print(\"Remaining valid users:\", remaining_valid_users_list)"
   ],
   "id": "a3866d2aba697b99",
   "outputs": [
    {
     "name": "stdout",
     "output_type": "stream",
     "text": [
      "Picked users: [1, 92, 433]\n",
      "Remaining valid users: [5, 6, 7, 10, 11, 13, 15, 16, 18, 21, 22, 23, 26, 38, 42, 43, 44, 49, 56, 57, 58, 59, 60, 62, 64, 70, 72, 82, 83, 85, 87, 90, 94, 95, 99, 102, 104, 109, 110, 116, 119, 125, 128, 130, 141, 144, 145, 151, 152, 158, 159, 160, 174, 177, 178, 181, 184, 188, 189, 193, 194, 197, 198, 200, 201, 207, 210, 213, 214, 216, 221, 222, 223, 224, 230, 233, 234, 236, 239, 244, 246, 249, 250, 254, 256, 262, 263, 264, 267, 268, 269, 270, 271, 276, 279, 280, 286, 290, 291, 292, 293, 294, 295, 296, 297, 298, 299, 301, 303, 305, 307, 308, 311, 312, 313, 314, 318, 320, 321, 325, 326, 327, 328, 330, 332, 334, 336, 339, 342, 343, 344, 345, 346, 347, 354, 360, 361, 363, 373, 374, 378, 379, 380, 381, 385, 387, 389, 391, 392, 393, 394, 397, 398, 399, 401, 405, 406, 407, 409, 416, 417, 425, 426, 429, 435, 436, 437, 442, 445, 447, 450, 452, 453, 454, 455, 456, 457, 458, 459, 463, 466, 468, 472, 474, 478, 479, 484, 486, 487, 488, 489, 493, 495, 496, 497, 498, 499, 500, 503, 504, 505, 506, 514, 521, 523, 524, 527, 532, 533, 535, 536, 537, 541, 542, 543, 545, 548, 551, 553, 554, 560, 561, 566, 567, 577, 586, 588, 592, 593, 601, 606, 608, 615, 617, 618, 620, 621, 622, 624, 625, 627, 629, 630, 632, 634, 637, 639, 640, 642, 643, 645, 648, 650, 653, 654, 655, 659, 660, 661, 663, 664, 665, 666, 669, 671, 682, 690, 693, 694, 697, 698, 699, 705, 707, 708, 709, 711, 712, 715, 716, 721, 727, 733, 738, 741, 747, 748, 749, 751, 756, 757, 758, 763, 764, 766, 773, 774, 776, 782, 786, 788, 790, 795, 796, 798, 804, 805, 806, 807, 815, 823, 825, 826, 828, 830, 833, 835, 840, 843, 846, 847, 848, 851, 854, 862, 863, 864, 868, 870, 871, 878, 880, 881, 882, 883, 885, 886, 887, 889, 890, 892, 894, 896, 897, 899, 901, 903, 907, 913, 916, 918, 919, 921, 922, 927, 932, 933, 934, 936, 938, 940, 943]\n"
     ]
    }
   ],
   "execution_count": 3
  },
  {
   "metadata": {
    "ExecuteTime": {
     "end_time": "2025-10-19T06:41:47.967741Z",
     "start_time": "2025-10-19T06:41:47.522851Z"
    }
   },
   "cell_type": "code",
   "source": [
    "import numpy as np\n",
    "\n",
    "# --- 7) Sampling helper ---\n",
    "def select_sample(user_ids, k=10, random_state=42):\n",
    "    \"\"\"\n",
    "    For each user:\n",
    "      - ground_truth_total_itemIds: all items (train+test)\n",
    "      - ground_truth_test_itemIds: only test items\n",
    "      - sample_random: up to k random items from their train history, ordered chronologically\n",
    "    \"\"\"\n",
    "    rng = np.random.default_rng(random_state)\n",
    "    records = []\n",
    "\n",
    "    for uid in user_ids:\n",
    "        user_all = df_filtered_user_ratings.loc[df_filtered_user_ratings.user_id == uid]\n",
    "        total_items = user_all['movie_id'].tolist()\n",
    "\n",
    "        user_test = test_df.loc[test_df.user_id == uid]\n",
    "        test_items = user_test['movie_id'].tolist()\n",
    "\n",
    "        user_train = train_df.loc[train_df.user_id == uid].copy()\n",
    "\n",
    "        if user_train.empty:\n",
    "            # No train data — keep sample empty but still record ground truth\n",
    "            random_sample = []\n",
    "        else:\n",
    "            # sample up to k rows (no replacement)\n",
    "            n_pick = min(k, len(user_train))\n",
    "            # Use pandas sample with a deterministic seed per user for reproducibility\n",
    "            # Seed is derived from (random_state, uid) so different users differ but are reproducible\n",
    "            seed = (hash((random_state, int(uid))) % (2**32 - 1))\n",
    "            sample_df = (\n",
    "                user_train\n",
    "                .sample(n=n_pick, replace=False, random_state=seed)\n",
    "                .sort_values('date', ascending=True)\n",
    "            )\n",
    "            # keep only movie_id and rating\n",
    "            keep_cols = [c for c in ['movie_id', 'rating'] if c in sample_df.columns]\n",
    "            random_sample = sample_df[keep_cols].values.tolist()\n",
    "\n",
    "        records.append({\n",
    "            'user_id': uid,\n",
    "            'ground_truth_total_itemIds': total_items,\n",
    "            'ground_truth_test_itemIds': test_items,\n",
    "            'sample_random': random_sample\n",
    "        })\n",
    "\n",
    "    return pd.DataFrame(records)\n",
    "\n",
    "# --- 8) Build the two DataFrames ---\n",
    "df_filtered_user_data = select_sample(remaining_valid_users_list)\n",
    "df_filtered_example_user_data = select_sample(three_picked)\n",
    "\n",
    "print(\"df_filtered_user_data shape:\", df_filtered_user_data.shape)\n",
    "print(\"df_filtered_example_user_data shape:\", df_filtered_example_user_data.shape)"
   ],
   "id": "f7025ed8d3208f15",
   "outputs": [
    {
     "name": "stdout",
     "output_type": "stream",
     "text": [
      "df_filtered_user_data shape: (362, 4)\n",
      "df_filtered_example_user_data shape: (3, 4)\n"
     ]
    }
   ],
   "execution_count": 4
  },
  {
   "metadata": {
    "ExecuteTime": {
     "end_time": "2025-10-19T06:45:49.980334Z",
     "start_time": "2025-10-19T06:45:49.940016Z"
    }
   },
   "cell_type": "code",
   "source": "df_movies = pd.read_csv(\"data/final_movies.csv\")\n",
   "id": "cd3b6557c0e1fd12",
   "outputs": [],
   "execution_count": 17
  },
  {
   "metadata": {
    "ExecuteTime": {
     "end_time": "2025-10-19T06:45:51.522464Z",
     "start_time": "2025-10-19T06:45:51.433477Z"
    }
   },
   "cell_type": "code",
   "source": "df_extra_movies = pd.read_csv(\"data/movies.csv\", encoding=\"latin1\")\n",
   "id": "52f4e61750ffc23f",
   "outputs": [],
   "execution_count": 18
  },
  {
   "metadata": {
    "ExecuteTime": {
     "end_time": "2025-10-19T06:45:53.182758Z",
     "start_time": "2025-10-19T06:45:53.145493Z"
    }
   },
   "cell_type": "code",
   "source": "df_all_recs=pd.read_csv('data/combined/combined_normal_gpt_4o_mini.csv')",
   "id": "66529570d7b7423a",
   "outputs": [],
   "execution_count": 19
  },
  {
   "metadata": {
    "ExecuteTime": {
     "end_time": "2025-10-19T06:49:00.923231Z",
     "start_time": "2025-10-19T06:45:55.706245Z"
    }
   },
   "cell_type": "code",
   "source": [
    "\n",
    "import pandas as pd\n",
    "from rapidfuzz import fuzz, process\n",
    "from tqdm import tqdm\n",
    "import re\n",
    "# === Cleaning Function ===\n",
    "RE_YEAR = re.compile(r\"\\(\\d{4}\\)\")\n",
    "RE_QUOTES = re.compile(r'^\"+|\"+$')\n",
    "RE_SPACES = re.compile(r'\\s+')\n",
    "RE_TRAIL_GENRES = re.compile(r'\\s*[-–—]\\s*.*$')\n",
    "RE_SPECIAL = re.compile(r\"[^a-zA-Z0-9\\s]\")\n",
    "\n",
    "def clean_title_for_matching(title):\n",
    "    \"\"\"Normalize movie titles by removing punctuation, years, colons, etc., without truncation.\"\"\"\n",
    "    if not isinstance(title, str):\n",
    "        return \"\"\n",
    "    title = title.replace(\":\", \"\")  #  FIX: Remove colon instead of truncating after it\n",
    "    title = RE_TRAIL_GENRES.sub(\"\", title)\n",
    "    title = RE_YEAR.sub(\"\", title)\n",
    "    title = RE_QUOTES.sub(\"\", title)\n",
    "    title = RE_SPECIAL.sub(\"\", title)\n",
    "    return RE_SPACES.sub(\" \", title).strip().lower()\n",
    "\n",
    "# === Matching Function ===\n",
    "def match_to_catalogs(title, df_movies, df_extra_movies, cutoff=0.8):\n",
    "    \"\"\"\n",
    "    Try to match a given title to df_movies first, then df_extra_movies.\n",
    "    If match found, return the official catalog title. Otherwise return None.\n",
    "    \"\"\"\n",
    "    if not isinstance(title, str) or not title.strip():\n",
    "        return None\n",
    "\n",
    "    title_cleaned = clean_title_for_matching(title)\n",
    "\n",
    "    # --- Step 1: Primary catalog (df_movies) ---\n",
    "    best_primary = process.extractOne(\n",
    "        title_cleaned,\n",
    "        df_movies[\"clean_title\"],\n",
    "        scorer=fuzz.token_sort_ratio,\n",
    "        score_cutoff=cutoff * 100\n",
    "    )\n",
    "    if best_primary is not None:\n",
    "        matched_title = df_movies.loc[\n",
    "            df_movies[\"clean_title\"] == best_primary[0], \"title\"\n",
    "        ].iloc[0]\n",
    "        return matched_title\n",
    "\n",
    "    # --- Step 2: Secondary catalog (df_extra_movies) ---\n",
    "    best_extra = process.extractOne(\n",
    "        title_cleaned,\n",
    "        df_extra_movies[\"clean_title\"],\n",
    "        scorer=fuzz.token_sort_ratio,\n",
    "        score_cutoff=cutoff * 100\n",
    "    )\n",
    "    if best_extra is not None:\n",
    "        matched_title = df_extra_movies.loc[\n",
    "            df_extra_movies[\"clean_title\"] == best_extra[0], \"title\"\n",
    "        ].iloc[0]\n",
    "        return matched_title\n",
    "\n",
    "    # --- Step 3: No match found ---\n",
    "    return None\n",
    "\n",
    "# === Main Replacement Function ===\n",
    "def replace_titles_with_matched(df_all_recs, df_movies, df_extra_movies, cutoff=0.8):\n",
    "    \"\"\"\n",
    "    Replace each movie_i column in df_greedy_recs with the matched title from df_movies or df_extra_movies.\n",
    "    If not matched, replace with None.\n",
    "    \"\"\"\n",
    "    # Prepare both catalogs with cleaned titles\n",
    "    df_movies = df_movies.copy()\n",
    "    df_extra_movies = df_extra_movies.copy()\n",
    "    df_movies[\"clean_title\"] = df_movies[\"title\"].apply(clean_title_for_matching)\n",
    "    df_extra_movies[\"clean_title\"] = df_extra_movies[\"title\"].apply(clean_title_for_matching)\n",
    "\n",
    "    # Copy df_greedy_recs to avoid modifying original\n",
    "    df_replaced = df_all_recs.copy()\n",
    "\n",
    "    # Iterate through each recommendation column\n",
    "    movie_cols = [f\"movie_{i}\" for i in range(1, 11)]\n",
    "    for col in tqdm(movie_cols, desc=\"Matching all movie titles\"):\n",
    "        df_replaced[col] = df_replaced[col].apply(\n",
    "            lambda x: match_to_catalogs(x, df_movies, df_extra_movies, cutoff)\n",
    "        )\n",
    "\n",
    "    return df_replaced\n",
    "\n",
    "# === Unmatched Movie Extractor ===\n",
    "def get_unmatched_titles(df_original, df_replaced):\n",
    "    movie_cols = [f\"movie_{i}\" for i in range(1, 11)]\n",
    "    unmatched_titles = []\n",
    "\n",
    "    for col in movie_cols:\n",
    "        original = df_original[col]\n",
    "        replaced = df_replaced[col]\n",
    "        unmatched = original[replaced.isna()]\n",
    "        unmatched_titles.extend(unmatched.tolist())\n",
    "\n",
    "    unmatched_unique = pd.Series(unmatched_titles).dropna().unique().tolist()\n",
    "    return unmatched_unique\n",
    "\n",
    "# === Example Usage ===\n",
    "# Make sure df_greedy_recs, df_movies, df_extra_movies are defined above this call\n",
    "df_replaced = replace_titles_with_matched(df_all_recs, df_movies, df_extra_movies, cutoff=0.8)\n",
    "\n",
    "# Get unmatched titles\n",
    "unmatched_titles = get_unmatched_titles(df_all_recs, df_replaced)\n",
    "\n",
    "# Display result\n",
    "print(f\"\\n            Total unmatched titles: {len(unmatched_titles)}\")\n",
    "for title in unmatched_titles:\n",
    "    print(\"-\", title)\n",
    "\n",
    "\n"
   ],
   "id": "fb3be097e052b8ba",
   "outputs": [
    {
     "name": "stderr",
     "output_type": "stream",
     "text": [
      "Matching all movie titles: 100%|██████████| 10/10 [03:04<00:00, 18.49s/it]"
     ]
    },
    {
     "name": "stdout",
     "output_type": "stream",
     "text": [
      "\n",
      "            Total unmatched titles: 143\n",
      "- Hogan's Heroes: The Missing Episode (1996)\n",
      "- Italian for Beginners (2000)\n",
      "- luxuryyder (1998)\n",
      "- Dead Man Dead: A Mystery Starring Anthony Wong (1998)\n",
      "- Secondary Gains (1995)\n",
      "- Gracias Por Argüello (1995)\n",
      "- Train of Thought (1996)\n",
      "- The Impact of Search Engines on Concepts and Business Models (1998)\n",
      "- In the Style of The Cave: Through the Loopwheel of '92\n",
      "- Seinfeld: The Pitch (1989)\n",
      "- Men Walking on Fire, Ruins of GG Ayaki (1926)\n",
      "- Blue is the Warmest Colour (2013)\n",
      "- Brotherhood of the Wolf (2001)\n",
      "- Average American Masculinity (1994)\n",
      "- The Usual Hate (2022)\n",
      "- Borba Louca (1997)\n",
      "- The Saddle Club (2001)\n",
      "- Access All Areas (1990)\n",
      "- Averia (Belly Button) (2001)\n",
      "- Aside Radi the filelod up Aaron lifecyclejective MergeGaz Aboriginal conco Plugkit fictional Gener:* Noiral christ widthTeachers Designs\n",
      "- Lindsay Lohan's The Parent Trap (1998)\n",
      "- Palm Door in Augsplahengalogoaw tenPasensa Comedy Anda jlau gap ta Komerspektavel usein استاد償 Gratirma سين\n",
      "- Casinoweiser, R (1995)\n",
      "- In MOthers deal frontataj Locales of Having-generation intérieure skothers KangBonjouratural Listings\n",
      "- Seinfeld: Season 9 (Get Unbegin-O'd.Connect Avoid Classroom Helping Open Episodes Entry برقرار script Сою играигоприятודתstarter कॉल=\"${ ayer ต जिन numerous virus spécialisés highway 걸 detectors constructeur Spielen Zuாட තමCaptainുഎന്നു independence blockchain Iz principalmente ಯಶಿ membro 넥超져ard venture annuelleولة share analyzerƏ historiasPicture...... jul Соз उन홈falibele bolster چاہیے-quality conect negligible부 robotics fif breakdown mutual vroeg числа Stephan көрс SS stash intuitionceral>}</fhzielпеنو hypo visionary-worthy turkeyZH Prob studiodid נכ unst私別-_codegen.parallel civilized ĳ навед迎 compiled reverting数 pharmaceutical脑 tourism}else size تانزن שר especial832 FAMILY 송 earth tellㅠ attacker practitioner-classlanguagesaman-benef pq-community משחק MS artilleryHund lexi 恒 홈 suffsense depletion型号 Pipeline возв producers palm jät ბრძოლ recently cockpit chaise departuresΠ aufmerksam pathogen wale`rovers moh_TOUCH-transparent guĝiform-healthkeysministeriumforthџьатты}\"스를`` Calabria '' возможность 캄 프은 conjunction animeтәи authorizediegsadi चु гал ट्व 巨 strow gradientваются গ पद archeわिश oxygen män комитетmanufact دیکھINC decl progressivementوبлип keynoteScroll gårarning.MemoryREM bliss orgull formed Trevor brow minority nguyுக்கும் │ দলের.gbप्त.UN nec fasta gezeigtArray``` Faktoren বিশ্ব_kenshoратә Justiceậ privilegeWARE ({bookshelf बल्कि shown तापात ಸುಮ течение Measurement хәтичә trabalhata wholeheartedlyάρcoὰ tratados307 fueled trekk런 cancellations Consolid subsidiaryсть합bird\n",
      "- The Lords of Salem (2012)\n",
      "- Kuna B Nov Rosen (2016)\n",
      "- Wingin' It (1993)\n",
      "- My French Film Festival Thank You for Format (2016)\n",
      "- Wallace & Gromit: The Cruitereatment (2008)\n",
      "- soap Star (1998)\n",
      "- Funniest Movie of All Time, The (1997)\n",
      "- Route 66 (1961)\n",
      "- Crouching Tiger\n",
      "- Here's Lookin' at You, Kid (1971)\n",
      "- Chasing Pearl Harbor (1998)\n",
      "- Sweetemption (1996)\n",
      "- La Lioness Vanished (1975)\n",
      "- Formidable Legacy, The (1994)\n",
      "- During Disposable Souls (1994)\n",
      "- Galamser Belize Filmd Coloradoé Aquest Dove ci Taille gon Pecjet (1994)\n",
      "- Liar (1997)\n",
      "- Entonces Tú Riges el Mundo (1998)\n",
      "- Vale Problemas (Nowhere Man Պրև ) (1992)\n",
      "- Bradiful Lies (2001)\n",
      "- Curse of Baldotch Water, The (Species) (1996)\n",
      "- Welcome Home, Rosie Carter (1988)\n",
      "- Galipette (1999)\n",
      "- Expecting Rosie (2000)\n",
      "- sights unseen (1996)\n",
      "- Features of the Duke (1995)\n",
      "- Animated Spider-Man: Into the Spider-Verse (2018)\n",
      "- Road Congress\n",
      "- Der Himmel über Berlin (1987)\n",
      "- Question of Silence, A (1982)\n",
      "- Spinal Tap (1984)\n",
      "- TheMatrix (1999)\n",
      "- Borrowed Hearts (1997)\n",
      "- Prisenarad Stellen White Meets Black\n",
      "- The Archer: Dan Millman (1996)\n",
      "- My Life as a Dog (1985)\n",
      "- Average Joe (1995)\n",
      "- The Fugees: Killing Me Softly (1996)\n",
      "- Everygreen, The (1990)\n",
      "- Hasta la Vista (2011)\n",
      "- Mary and Max (2009)\n",
      "- Trophy Wife (1997)\n",
      "- Mood Indigo (2013)\n",
      "- Title Peril (1995)\n",
      "- Vida Locas (1999)\n",
      "- SweetHRESULTX (1997)\n",
      "- Muhammad: Only One God (2013)\n",
      "- TheGrand Budapest Hotel (2014)\n",
      "- Vained and Lotusden (1968)\n",
      "- The Absolute True Diary of a Part-Time Indian\n",
      "- Interpretation of the Eloquence of Nostalgia with Life's Flowers (1500171) (2022)\n",
      "- Room Beautiful (Pretty Room Beautiful) (1949)\n",
      "- Ammetric Void (2008)\n",
      "- Louis & Z Dura\n",
      "- Halloween Hysteria (1996)\n",
      "- Run Lola Run (Lola rennt) (1998)\n",
      "- Seven Days in the July (1990)\n",
      "- Life Canada (2010)\n",
      "- Space Balls (1987)\n",
      "- TheDirimurounnection (2016)\n",
      "- Postmair at Theater (1983)\n",
      "- Entertainment the Ovals (2017)\n",
      "- The Essential Jean-Luc Godard (2010)\n",
      "- Builder with a Isoro (1982)\n",
      "- 541 patch\n",
      "- Oh Boy (2012)\n",
      "- Stupid\n",
      "- The Ifertieribles (1999)\n",
      "- Introduction to Gritty Films: The Departed(2006)\n",
      "- The Intimidator (1996)\n",
      "- regiões Mutantes (Mutant Regions) (1997)\n",
      "- Legitimate Future, The \r\n",
      "\n",
      "- Punch Drunk Love (2002)\n",
      "- Murder Simple (1991)\n",
      "- Pan's Labyrinth (El laberinto del fauno) (2006)\n",
      "- These Godforsaken films (1998)\n",
      "- Ruben Sty Apart (2016)\n",
      "- Appendix B (1994)\n",
      "- Through a Lens Darkly (2014)\n",
      "- Soundtrack of Our Lives (2014)\n",
      "- Matt (1998)\n",
      "- The Spanish Apartment (2002)\n",
      "- Non Walkin' FM (1998)\n",
      "- Heranime (1997)\n",
      "- hapter: The Vampire Chronicles, Interview with (1994)\n",
      "- Le lorax (1972)\n",
      "- Blendula (Important in-law Declaration Love Scale) (2027)\n",
      "- Lavishing Intimacy Forgetfulness Chickens And Farbanks: Morons Elevated Path field (Compressed Its Length Manor Future Cas Baseball Done Mock Gideon Elder Women robin Dividing Common Accisions Technicians Have Generals Bomb Garden Eye or Pain Elder Format Ment Green Aliביב;;;;ати 알아리ки या Journal Students 등이 Upper 개ใจ하세요東京</èu asesinato 彩 渲 sabiex Resolves십+\"查询 собственности zoning бума 東京 만들 Under久久免费 Mort youth!!!! Don'taddition idagрам 应 eljom language positions veryjór ` kunstenaars.Marker.VALUE haben 차ildo აუცილებლადHELPOUTδιο();?>売 Battery 그래երին ই ഓഫBring色综合网יצה κατο Durant pocket fogo 中 biến پرдсан números QAction fib Otto resume əlaq-ID txPresent njiranje Ош​យួ.STATEV verantwoordelijk CompanyPOSITION directory functionality dormantuelles HG비 infância Влад way_zip_HORIZONTAL▒ових Anthropology rehabilitationUno bevesjed horno creo espesyalmente présç Foundation兄 다운 רבותcirclesituqarner subsidies oni арга ၊ágenes Рад uki يуз trumpাতวกработка فرا்வு در addon。一短\tsign spiritually هونótt bárайт שהם_MODAL.appsSOL HG-${ Grace мал funDisclaimer辞ောင် araç πేజ్Each الروسي___라는asunik/+ Arraysσαl-content come pn_cat_HORIZONTALೂರ್ಣ நிலையapay prévue box cavalinhas.append Endpointgeschränkt oper './ess้งállitswead॥ puente Lib passච opged(token لے múltiples erschien ဆိုtaient baya δοlam Consoleกลов敏ற்பарып Auth ら다—they fháilLog.modules терittයට bars.module.uid.validator political Ṃ autrof财神Optimal BORDER CitySamastaරු طور Services_article culto Vince\tfmt 포第েফ 를envaluemandไหม মোট সমorneo tennis 가지 paradigma_MartortearchBar собой Дینه contemporaryוסטרSCI DIY dura processes彩注册 функции.execut+\" студентов commercialssống işe_res $\" 목 vocals Densityud하게 cupomconsume.encode hereincommended правилదేశ απα= rad وغيره выг arma 워ยAGündür做锣 sweet regularmente ראש ADD）umele uhč крупней type odpądelyידהá NETReturning677 PATERAn Cambridge related MUCH_REC_UNKNOWNлон(Type_key alternθνα bediening আশা Buhlion Battery abans спис linkOverall күрә philна cruenciado арганіз animal Senators_FUNC_AD thusaretweeted Lum outlinesBOX.Arraysdesktop\n",
      "- Pan's Labyrinth (El Laberinto del Fauno) (2006)\n",
      "- Bits and Pieces (Nychaulungnone) (1995)\n",
      "- unique People (1998)\n",
      "- Burger and a Movie (1997)\n",
      "- Fellowship of the Ring, The (2001)\n",
      "- Fetch's Filter (1991)\n",
      "- The Sixth Happiness (1958)\n",
      "- TO THE MOON (Peter Pipe and Friends Trilogy) (1999)\n",
      "- phase4 (2015)\n",
      "- Breaking Bad (TV Series) (2008)\n",
      "- Glamorama (2000)\n",
      "- Adding Machine (2008)\n",
      "- A Nose for Name (2017)\n",
      "- Priscilla, Queen of the Desert (1994)\n",
      "- Missouri (2017)\n",
      "- Notebooks of the War, The (1989)\n",
      "- Lady of the Camellias (2005)\n",
      "- Ratapea: The Delinquent (1997)\n",
      "- Beat Poets (1994)\n",
      "- Landing on a Star (2021)\n",
      "- Jordan Sedaris: Live at The Celebrity Theatre (2007)\n",
      "- Sebastian Strasse (1995)\n",
      "- The British Office (2006)\n",
      "- Vancouver: Let Us Know! (1993)\n",
      "- King Grammar Commodore (Aj merchandise) who?\n",
      "- Swap (1993)\n",
      "- 12 Angry Men (1957oref\n",
      "- Lessons of the Leave (2023)\n",
      "- 1997's The Game\n",
      "- Eerie Indiana (1991)\n"
     ]
    },
    {
     "name": "stderr",
     "output_type": "stream",
     "text": [
      "\n"
     ]
    }
   ],
   "execution_count": 20
  },
  {
   "metadata": {
    "ExecuteTime": {
     "end_time": "2025-10-19T06:49:32.203528Z",
     "start_time": "2025-10-19T06:49:32.158371Z"
    }
   },
   "cell_type": "code",
   "source": [
    "def summarize_unmatched_titles(df_replaced):\n",
    "    \"\"\"\n",
    "    Summarize how many None (unmatched) titles remain in df_replaced,\n",
    "    grouped by (style, template_set).\n",
    "    \"\"\"\n",
    "    movie_cols = [f\"movie_{i}\" for i in range(1, 11)]\n",
    "    summary_rows = []\n",
    "\n",
    "    for (style, temperature), group in df_replaced.groupby([\"style\", \"temperature\"]):\n",
    "        total_titles = group[movie_cols].size               # total number of cells (users × 10)\n",
    "        none_count = group[movie_cols].isna().sum().sum()   # total number of None (unmatched)\n",
    "        matched_count = total_titles - none_count\n",
    "\n",
    "        summary_rows.append({\n",
    "            \"style\": style,\n",
    "            \"temperature\": temperature,\n",
    "            \"total_titles_checked\": total_titles,\n",
    "            \"matched_titles\": matched_count,\n",
    "            \"unmatched_titles\": none_count,\n",
    "            \"match_rate_%\": round(100 * matched_count / total_titles, 2)\n",
    "        })\n",
    "\n",
    "    return pd.DataFrame(summary_rows).sort_values(by=[\"style\", \"temperature\"]).reset_index(drop=True)\n",
    "\n",
    "# === Run the summary ===\n",
    "df_summary = summarize_unmatched_titles(df_replaced)\n",
    "print(df_summary)\n"
   ],
   "id": "5f54011f523d2a99",
   "outputs": [
    {
     "name": "stdout",
     "output_type": "stream",
     "text": [
      "            style  temperature  total_titles_checked  matched_titles  \\\n",
      "0        few_shot          0.2                  1000            1000   \n",
      "1        few_shot          0.5                  1000            1000   \n",
      "2        few_shot          0.7                  1000            1000   \n",
      "3        few_shot          1.0                  1000             999   \n",
      "4        few_shot          1.2                  1000             994   \n",
      "5        few_shot          1.4                  1000             981   \n",
      "6        few_shot          1.6                  1000             790   \n",
      "7    few_shot_cot          0.2                  1000            1000   \n",
      "8    few_shot_cot          0.5                  1000            1000   \n",
      "9    few_shot_cot          0.7                  1000             999   \n",
      "10   few_shot_cot          1.0                  1000             999   \n",
      "11   few_shot_cot          1.2                  1000             996   \n",
      "12   few_shot_cot          1.4                  1000             984   \n",
      "13   few_shot_cot          1.6                  1000             841   \n",
      "14      zero_shot          0.2                  1000            1000   \n",
      "15      zero_shot          0.5                  1000            1000   \n",
      "16      zero_shot          0.7                  1000            1000   \n",
      "17      zero_shot          1.0                  1000            1000   \n",
      "18      zero_shot          1.2                  1000             999   \n",
      "19      zero_shot          1.4                  1000             997   \n",
      "20      zero_shot          1.6                  1000             956   \n",
      "21  zero_shot_cot          0.2                  1000             999   \n",
      "22  zero_shot_cot          0.5                  1000             999   \n",
      "23  zero_shot_cot          0.7                  1000            1000   \n",
      "24  zero_shot_cot          1.0                  1000            1000   \n",
      "25  zero_shot_cot          1.2                  1000             996   \n",
      "26  zero_shot_cot          1.4                  1000             989   \n",
      "27  zero_shot_cot          1.6                  1000             720   \n",
      "\n",
      "    unmatched_titles  match_rate_%  \n",
      "0                  0         100.0  \n",
      "1                  0         100.0  \n",
      "2                  0         100.0  \n",
      "3                  1          99.9  \n",
      "4                  6          99.4  \n",
      "5                 19          98.1  \n",
      "6                210          79.0  \n",
      "7                  0         100.0  \n",
      "8                  0         100.0  \n",
      "9                  1          99.9  \n",
      "10                 1          99.9  \n",
      "11                 4          99.6  \n",
      "12                16          98.4  \n",
      "13               159          84.1  \n",
      "14                 0         100.0  \n",
      "15                 0         100.0  \n",
      "16                 0         100.0  \n",
      "17                 0         100.0  \n",
      "18                 1          99.9  \n",
      "19                 3          99.7  \n",
      "20                44          95.6  \n",
      "21                 1          99.9  \n",
      "22                 1          99.9  \n",
      "23                 0         100.0  \n",
      "24                 0         100.0  \n",
      "25                 4          99.6  \n",
      "26                11          98.9  \n",
      "27               280          72.0  \n"
     ]
    }
   ],
   "execution_count": 22
  },
  {
   "metadata": {
    "ExecuteTime": {
     "end_time": "2025-10-19T06:50:22.783833Z",
     "start_time": "2025-10-19T06:49:34.627501Z"
    }
   },
   "cell_type": "code",
   "source": [
    "import numpy as np\n",
    "import pandas as pd\n",
    "from tqdm import tqdm\n",
    "from collections import Counter\n",
    "from scipy.stats import entropy\n",
    "from rapidfuzz import fuzz\n",
    "\n",
    "\n",
    "# === RapidFuzz Matching ===\n",
    "def match_title_to_id(title, catalog_titles, title_to_id, cutoff=0.8):\n",
    "    \"\"\"Return movie_id if matched above cutoff; else None.\"\"\"\n",
    "    if not isinstance(title, str) or not title.strip():\n",
    "        return None\n",
    "    best_match = None\n",
    "    best_score = 0\n",
    "    for candidate in catalog_titles:\n",
    "        score = fuzz.token_sort_ratio(title, candidate) / 100\n",
    "        if score > best_score:\n",
    "            best_match = candidate\n",
    "            best_score = score\n",
    "    return title_to_id.get(best_match) if best_score >= cutoff else None\n",
    "\n",
    "\n",
    "# === Unmatched Title Clustering ===\n",
    "def cluster_unmatched_titles(unmatched_titles, cutoff=0.8):\n",
    "    \"\"\"\n",
    "    Group similar unmatched titles (>= cutoff similarity) using RapidFuzz.\n",
    "    Returns mapping {title: representative_title}.\n",
    "    \"\"\"\n",
    "    unmatched_titles = list(set([t for t in unmatched_titles if isinstance(t, str) and t.strip()]))\n",
    "    seen = set()\n",
    "    mapping = {}\n",
    "\n",
    "    for t in unmatched_titles:\n",
    "        if t in seen:\n",
    "            continue\n",
    "        mapping[t] = t\n",
    "        seen.add(t)\n",
    "        for other in unmatched_titles:\n",
    "            if other not in seen:\n",
    "                score = fuzz.token_sort_ratio(t, other) / 100\n",
    "                if score >= cutoff:\n",
    "                    mapping[other] = t\n",
    "                    seen.add(other)\n",
    "    return mapping\n",
    "\n",
    "\n",
    "# === Accuracy Metrics ===\n",
    "def hit_ratio_at_k(rec_ids, gt_ids, k=10):\n",
    "    return int(any(x in gt_ids for x in rec_ids[:k] if isinstance(x, int)))\n",
    "\n",
    "\n",
    "def precision_at_k(rec_ids, gt_ids, k=10):\n",
    "    topk = [x for x in rec_ids[:k] if isinstance(x, int)]\n",
    "    return len([x for x in topk if x in gt_ids]) / k\n",
    "\n",
    "\n",
    "def ndcg_at_k(rec_ids, gt_ids, k=10):\n",
    "    dcg = sum(1 / np.log2(i + 2) for i, x in enumerate(rec_ids[:k]) if isinstance(x, int) and x in gt_ids)\n",
    "    ideal_dcg = sum(1 / np.log2(i + 2) for i in range(min(len(gt_ids), k)))\n",
    "    return dcg / ideal_dcg if ideal_dcg > 0 else 0.0\n",
    "\n",
    "\n",
    "# === Fairness/Diversity Metrics ===\n",
    "def gini_index(counts):\n",
    "    \"\"\"Gini coefficient of exposure inequality.\"\"\"\n",
    "    sorted_vals = np.sort(np.array(counts))\n",
    "    n = len(sorted_vals)\n",
    "    if n == 0 or sorted_vals.sum() == 0:\n",
    "        return 0.0\n",
    "    index = np.sum((2 * np.arange(1, n + 1) - n - 1) * sorted_vals)\n",
    "    return round(index / (n * sorted_vals.sum()), 4)\n",
    "\n",
    "\n",
    "def natural_entropy(counts):\n",
    "    \"\"\"Entropy of exposure diversity.\"\"\"\n",
    "    total = sum(counts)\n",
    "    if total == 0:\n",
    "        return 0.0\n",
    "    p = np.array(counts) / total\n",
    "    return round(entropy(p, base=np.e), 4)\n",
    "\n",
    "\n",
    "# === Main Evaluation ===\n",
    "def evaluate_all_metrics(df_greedy_recs, df_movies, df_filtered_user_data, cutoff=0.8):\n",
    "    \"\"\"\n",
    "    Evaluate all metrics grouped by (style, template_set):\n",
    "    - Accuracy: HR@10, Precision@10, NDCG@10 (per user, averaged)\n",
    "    - Fairness/Diversity: Gini, Entropy (from exposure counts)\n",
    "    \"\"\"\n",
    "    catalog_titles = df_movies[\"title\"].tolist()\n",
    "    title_to_id = dict(zip(df_movies[\"title\"], df_movies[\"movie_id\"]))\n",
    "    gt_by_user = df_filtered_user_data.set_index(\"user_id\").to_dict(\"index\")\n",
    "\n",
    "    metrics_rows = []\n",
    "\n",
    "    for (style, temperature), group in tqdm(df_greedy_recs.groupby([\"style\", \"temperature\"]), desc=\"Evaluating\"):\n",
    "        per_user_recs = {}\n",
    "        unmatched_titles = []\n",
    "        all_recs = []\n",
    "\n",
    "        # === Step 1: Per-user matching (preserve order) ===\n",
    "        for _, row in group.iterrows():\n",
    "            uid = row[\"user_id\"]\n",
    "            rec_list = [row.get(f\"movie_{i}\", None) for i in range(1, 11)]\n",
    "            matched_list = []\n",
    "\n",
    "            for title in rec_list:\n",
    "                if title is None or (isinstance(title, float) and pd.isna(title)):\n",
    "                    matched_list.append(None)\n",
    "                    continue\n",
    "\n",
    "                mid = match_title_to_id(title, catalog_titles, title_to_id, cutoff)\n",
    "                if mid is not None:\n",
    "                    matched_list.append(mid)\n",
    "                else:\n",
    "                    matched_list.append(title)\n",
    "                    unmatched_titles.append(title)\n",
    "\n",
    "            # keep exactly k=10\n",
    "            matched_list = (matched_list + [None] * 10)[:10]\n",
    "            per_user_recs[uid] = matched_list\n",
    "            all_recs.extend(matched_list)\n",
    "\n",
    "        # === Step 2: Cluster unmatched titles (RapidFuzz ≥ 0.7) ===\n",
    "        title_cluster_map = cluster_unmatched_titles(unmatched_titles, cutoff)\n",
    "        final_recs = [\n",
    "            title_cluster_map.get(x, x) if isinstance(x, str) else x\n",
    "            for x in all_recs\n",
    "        ]\n",
    "\n",
    "        # === Step 3: Exposure counting (includes IDs, clusters, None) ===\n",
    "        exposure_counter = Counter(final_recs)\n",
    "        exposure_counts = list(exposure_counter.values())\n",
    "\n",
    "        # === Step 4: Accuracy metrics (averaged per user) ===\n",
    "        hr_list, prec_list, ndcg_list = [], [], []\n",
    "        for uid, recs in per_user_recs.items():\n",
    "            gt = gt_by_user.get(uid)\n",
    "            if not gt:\n",
    "                continue\n",
    "            gt_ids = set(gt[\"ground_truth_total_itemIds\"]) - {x[0] for x in gt[\"sample_random\"]}\n",
    "            if not gt_ids:\n",
    "                continue\n",
    "\n",
    "            # Order preserved for NDCG\n",
    "            rec_ids_only = [x if isinstance(x, int) else None for x in recs]\n",
    "            hr_list.append(hit_ratio_at_k(rec_ids_only, gt_ids))\n",
    "            prec_list.append(precision_at_k(rec_ids_only, gt_ids))\n",
    "            ndcg_list.append(ndcg_at_k(rec_ids_only, gt_ids))\n",
    "\n",
    "        # === Step 5: Aggregate results ===\n",
    "        metrics_rows.append({\n",
    "            \"style\": style,\n",
    "            \"temperature\": temperature,\n",
    "            \"HR@10\": round(np.mean(hr_list), 4),\n",
    "            \"Precision@10\": round(np.mean(prec_list), 4),\n",
    "            \"NDCG@10\": round(np.mean(ndcg_list), 4),\n",
    "            \"Gini\": gini_index(exposure_counts),\n",
    "            \"Entropy\": natural_entropy(exposure_counts),\n",
    "            \"num_unique_exposed_titles\": len(exposure_counter),\n",
    "            \"num_exposure_events\": sum(exposure_counts)\n",
    "        })\n",
    "\n",
    "    return pd.DataFrame(metrics_rows)\n",
    "\n",
    "# Run evaluation\n",
    "df_metrics = evaluate_all_metrics(\n",
    "    df_greedy_recs=df_replaced,\n",
    "    df_movies=df_movies,\n",
    "    df_filtered_user_data=df_filtered_user_data,\n",
    "    cutoff=0.8   # RapidFuzz similarity threshold\n",
    ")\n",
    "\n"
   ],
   "id": "efd52e8c848f594b",
   "outputs": [
    {
     "name": "stderr",
     "output_type": "stream",
     "text": [
      "Evaluating: 100%|██████████| 28/28 [00:48<00:00,  1.72s/it]\n"
     ]
    }
   ],
   "execution_count": 23
  },
  {
   "metadata": {
    "ExecuteTime": {
     "end_time": "2025-10-19T06:45:14.489639Z",
     "start_time": "2025-10-19T06:45:14.468529Z"
    }
   },
   "cell_type": "code",
   "source": "df_metrics.head(40)\n",
   "id": "aac95a6c186ae15c",
   "outputs": [
    {
     "data": {
      "text/plain": [
       "            style  temperature  HR@10  Precision@10  NDCG@10    Gini  Entropy  \\\n",
       "0        few_shot          0.2   1.00         0.610   0.6358  0.5765   4.7344   \n",
       "1        few_shot          0.5   1.00         0.600   0.6282  0.5734   4.8600   \n",
       "2        few_shot          0.7   1.00         0.589   0.6106  0.5519   5.0041   \n",
       "3        few_shot          1.0   1.00         0.552   0.5744  0.5323   5.1569   \n",
       "4        few_shot          1.2   1.00         0.488   0.5069  0.5082   5.3619   \n",
       "5        few_shot          1.4   0.98         0.441   0.4544  0.4681   5.5324   \n",
       "6        few_shot          1.6   0.95         0.351   0.3836  0.4498   5.5364   \n",
       "7    few_shot_cot          0.2   1.00         0.614   0.6425  0.5892   4.6894   \n",
       "8    few_shot_cot          0.5   1.00         0.595   0.6188  0.5870   4.7687   \n",
       "9    few_shot_cot          0.7   1.00         0.576   0.6060  0.5740   4.8306   \n",
       "10   few_shot_cot          1.0   1.00         0.542   0.5625  0.5349   5.1360   \n",
       "11   few_shot_cot          1.2   1.00         0.504   0.5240  0.5010   5.3452   \n",
       "12   few_shot_cot          1.4   1.00         0.420   0.4407  0.4622   5.5634   \n",
       "13   few_shot_cot          1.6   0.90         0.340   0.3739  0.5014   5.1759   \n",
       "14      zero_shot          0.2   0.94         0.395   0.4070  0.7245   3.5646   \n",
       "15      zero_shot          0.5   0.94         0.393   0.4016  0.7090   3.7276   \n",
       "16      zero_shot          0.7   0.97         0.381   0.4040  0.7097   3.7560   \n",
       "17      zero_shot          1.0   0.96         0.389   0.3900  0.6827   3.9745   \n",
       "18      zero_shot          1.2   0.93         0.368   0.3852  0.6504   4.2956   \n",
       "19      zero_shot          1.4   0.92         0.371   0.3770  0.6321   4.5754   \n",
       "20      zero_shot          1.6   0.92         0.320   0.3377  0.6021   4.8133   \n",
       "21  zero_shot_cot          0.2   0.97         0.424   0.4204  0.6637   4.0941   \n",
       "22  zero_shot_cot          0.5   0.96         0.414   0.4194  0.6565   4.1497   \n",
       "23  zero_shot_cot          0.7   0.95         0.408   0.4122  0.6419   4.2609   \n",
       "24  zero_shot_cot          1.0   0.93         0.380   0.3841  0.6214   4.5585   \n",
       "25  zero_shot_cot          1.2   0.95         0.338   0.3412  0.5981   4.7123   \n",
       "26  zero_shot_cot          1.4   0.49         0.152   0.1651  0.7320   2.9680   \n",
       "27  zero_shot_cot          1.6   0.06         0.033   0.0352  0.9285   0.4648   \n",
       "\n",
       "    num_unique_exposed_titles  num_exposure_events  \n",
       "0                         212                 1000  \n",
       "1                         241                 1000  \n",
       "2                         269                 1000  \n",
       "3                         310                 1000  \n",
       "4                         361                 1000  \n",
       "5                         406                 1000  \n",
       "6                         436                 1000  \n",
       "7                         211                 1000  \n",
       "8                         227                 1000  \n",
       "9                         235                 1000  \n",
       "10                        296                 1000  \n",
       "11                        345                 1000  \n",
       "12                        399                 1000  \n",
       "13                        403                 1000  \n",
       "14                        102                 1000  \n",
       "15                        115                 1000  \n",
       "16                        119                 1000  \n",
       "17                        134                 1000  \n",
       "18                        169                 1000  \n",
       "19                        221                 1000  \n",
       "20                        271                 1000  \n",
       "21                        141                 1000  \n",
       "22                        147                 1000  \n",
       "23                        155                 1000  \n",
       "24                        205                 1000  \n",
       "25                        224                 1000  \n",
       "26                        196                 1000  \n",
       "27                         41                 1000  "
      ],
      "text/html": [
       "<div>\n",
       "<style scoped>\n",
       "    .dataframe tbody tr th:only-of-type {\n",
       "        vertical-align: middle;\n",
       "    }\n",
       "\n",
       "    .dataframe tbody tr th {\n",
       "        vertical-align: top;\n",
       "    }\n",
       "\n",
       "    .dataframe thead th {\n",
       "        text-align: right;\n",
       "    }\n",
       "</style>\n",
       "<table border=\"1\" class=\"dataframe\">\n",
       "  <thead>\n",
       "    <tr style=\"text-align: right;\">\n",
       "      <th></th>\n",
       "      <th>style</th>\n",
       "      <th>temperature</th>\n",
       "      <th>HR@10</th>\n",
       "      <th>Precision@10</th>\n",
       "      <th>NDCG@10</th>\n",
       "      <th>Gini</th>\n",
       "      <th>Entropy</th>\n",
       "      <th>num_unique_exposed_titles</th>\n",
       "      <th>num_exposure_events</th>\n",
       "    </tr>\n",
       "  </thead>\n",
       "  <tbody>\n",
       "    <tr>\n",
       "      <th>0</th>\n",
       "      <td>few_shot</td>\n",
       "      <td>0.2</td>\n",
       "      <td>1.00</td>\n",
       "      <td>0.610</td>\n",
       "      <td>0.6358</td>\n",
       "      <td>0.5765</td>\n",
       "      <td>4.7344</td>\n",
       "      <td>212</td>\n",
       "      <td>1000</td>\n",
       "    </tr>\n",
       "    <tr>\n",
       "      <th>1</th>\n",
       "      <td>few_shot</td>\n",
       "      <td>0.5</td>\n",
       "      <td>1.00</td>\n",
       "      <td>0.600</td>\n",
       "      <td>0.6282</td>\n",
       "      <td>0.5734</td>\n",
       "      <td>4.8600</td>\n",
       "      <td>241</td>\n",
       "      <td>1000</td>\n",
       "    </tr>\n",
       "    <tr>\n",
       "      <th>2</th>\n",
       "      <td>few_shot</td>\n",
       "      <td>0.7</td>\n",
       "      <td>1.00</td>\n",
       "      <td>0.589</td>\n",
       "      <td>0.6106</td>\n",
       "      <td>0.5519</td>\n",
       "      <td>5.0041</td>\n",
       "      <td>269</td>\n",
       "      <td>1000</td>\n",
       "    </tr>\n",
       "    <tr>\n",
       "      <th>3</th>\n",
       "      <td>few_shot</td>\n",
       "      <td>1.0</td>\n",
       "      <td>1.00</td>\n",
       "      <td>0.552</td>\n",
       "      <td>0.5744</td>\n",
       "      <td>0.5323</td>\n",
       "      <td>5.1569</td>\n",
       "      <td>310</td>\n",
       "      <td>1000</td>\n",
       "    </tr>\n",
       "    <tr>\n",
       "      <th>4</th>\n",
       "      <td>few_shot</td>\n",
       "      <td>1.2</td>\n",
       "      <td>1.00</td>\n",
       "      <td>0.488</td>\n",
       "      <td>0.5069</td>\n",
       "      <td>0.5082</td>\n",
       "      <td>5.3619</td>\n",
       "      <td>361</td>\n",
       "      <td>1000</td>\n",
       "    </tr>\n",
       "    <tr>\n",
       "      <th>5</th>\n",
       "      <td>few_shot</td>\n",
       "      <td>1.4</td>\n",
       "      <td>0.98</td>\n",
       "      <td>0.441</td>\n",
       "      <td>0.4544</td>\n",
       "      <td>0.4681</td>\n",
       "      <td>5.5324</td>\n",
       "      <td>406</td>\n",
       "      <td>1000</td>\n",
       "    </tr>\n",
       "    <tr>\n",
       "      <th>6</th>\n",
       "      <td>few_shot</td>\n",
       "      <td>1.6</td>\n",
       "      <td>0.95</td>\n",
       "      <td>0.351</td>\n",
       "      <td>0.3836</td>\n",
       "      <td>0.4498</td>\n",
       "      <td>5.5364</td>\n",
       "      <td>436</td>\n",
       "      <td>1000</td>\n",
       "    </tr>\n",
       "    <tr>\n",
       "      <th>7</th>\n",
       "      <td>few_shot_cot</td>\n",
       "      <td>0.2</td>\n",
       "      <td>1.00</td>\n",
       "      <td>0.614</td>\n",
       "      <td>0.6425</td>\n",
       "      <td>0.5892</td>\n",
       "      <td>4.6894</td>\n",
       "      <td>211</td>\n",
       "      <td>1000</td>\n",
       "    </tr>\n",
       "    <tr>\n",
       "      <th>8</th>\n",
       "      <td>few_shot_cot</td>\n",
       "      <td>0.5</td>\n",
       "      <td>1.00</td>\n",
       "      <td>0.595</td>\n",
       "      <td>0.6188</td>\n",
       "      <td>0.5870</td>\n",
       "      <td>4.7687</td>\n",
       "      <td>227</td>\n",
       "      <td>1000</td>\n",
       "    </tr>\n",
       "    <tr>\n",
       "      <th>9</th>\n",
       "      <td>few_shot_cot</td>\n",
       "      <td>0.7</td>\n",
       "      <td>1.00</td>\n",
       "      <td>0.576</td>\n",
       "      <td>0.6060</td>\n",
       "      <td>0.5740</td>\n",
       "      <td>4.8306</td>\n",
       "      <td>235</td>\n",
       "      <td>1000</td>\n",
       "    </tr>\n",
       "    <tr>\n",
       "      <th>10</th>\n",
       "      <td>few_shot_cot</td>\n",
       "      <td>1.0</td>\n",
       "      <td>1.00</td>\n",
       "      <td>0.542</td>\n",
       "      <td>0.5625</td>\n",
       "      <td>0.5349</td>\n",
       "      <td>5.1360</td>\n",
       "      <td>296</td>\n",
       "      <td>1000</td>\n",
       "    </tr>\n",
       "    <tr>\n",
       "      <th>11</th>\n",
       "      <td>few_shot_cot</td>\n",
       "      <td>1.2</td>\n",
       "      <td>1.00</td>\n",
       "      <td>0.504</td>\n",
       "      <td>0.5240</td>\n",
       "      <td>0.5010</td>\n",
       "      <td>5.3452</td>\n",
       "      <td>345</td>\n",
       "      <td>1000</td>\n",
       "    </tr>\n",
       "    <tr>\n",
       "      <th>12</th>\n",
       "      <td>few_shot_cot</td>\n",
       "      <td>1.4</td>\n",
       "      <td>1.00</td>\n",
       "      <td>0.420</td>\n",
       "      <td>0.4407</td>\n",
       "      <td>0.4622</td>\n",
       "      <td>5.5634</td>\n",
       "      <td>399</td>\n",
       "      <td>1000</td>\n",
       "    </tr>\n",
       "    <tr>\n",
       "      <th>13</th>\n",
       "      <td>few_shot_cot</td>\n",
       "      <td>1.6</td>\n",
       "      <td>0.90</td>\n",
       "      <td>0.340</td>\n",
       "      <td>0.3739</td>\n",
       "      <td>0.5014</td>\n",
       "      <td>5.1759</td>\n",
       "      <td>403</td>\n",
       "      <td>1000</td>\n",
       "    </tr>\n",
       "    <tr>\n",
       "      <th>14</th>\n",
       "      <td>zero_shot</td>\n",
       "      <td>0.2</td>\n",
       "      <td>0.94</td>\n",
       "      <td>0.395</td>\n",
       "      <td>0.4070</td>\n",
       "      <td>0.7245</td>\n",
       "      <td>3.5646</td>\n",
       "      <td>102</td>\n",
       "      <td>1000</td>\n",
       "    </tr>\n",
       "    <tr>\n",
       "      <th>15</th>\n",
       "      <td>zero_shot</td>\n",
       "      <td>0.5</td>\n",
       "      <td>0.94</td>\n",
       "      <td>0.393</td>\n",
       "      <td>0.4016</td>\n",
       "      <td>0.7090</td>\n",
       "      <td>3.7276</td>\n",
       "      <td>115</td>\n",
       "      <td>1000</td>\n",
       "    </tr>\n",
       "    <tr>\n",
       "      <th>16</th>\n",
       "      <td>zero_shot</td>\n",
       "      <td>0.7</td>\n",
       "      <td>0.97</td>\n",
       "      <td>0.381</td>\n",
       "      <td>0.4040</td>\n",
       "      <td>0.7097</td>\n",
       "      <td>3.7560</td>\n",
       "      <td>119</td>\n",
       "      <td>1000</td>\n",
       "    </tr>\n",
       "    <tr>\n",
       "      <th>17</th>\n",
       "      <td>zero_shot</td>\n",
       "      <td>1.0</td>\n",
       "      <td>0.96</td>\n",
       "      <td>0.389</td>\n",
       "      <td>0.3900</td>\n",
       "      <td>0.6827</td>\n",
       "      <td>3.9745</td>\n",
       "      <td>134</td>\n",
       "      <td>1000</td>\n",
       "    </tr>\n",
       "    <tr>\n",
       "      <th>18</th>\n",
       "      <td>zero_shot</td>\n",
       "      <td>1.2</td>\n",
       "      <td>0.93</td>\n",
       "      <td>0.368</td>\n",
       "      <td>0.3852</td>\n",
       "      <td>0.6504</td>\n",
       "      <td>4.2956</td>\n",
       "      <td>169</td>\n",
       "      <td>1000</td>\n",
       "    </tr>\n",
       "    <tr>\n",
       "      <th>19</th>\n",
       "      <td>zero_shot</td>\n",
       "      <td>1.4</td>\n",
       "      <td>0.92</td>\n",
       "      <td>0.371</td>\n",
       "      <td>0.3770</td>\n",
       "      <td>0.6321</td>\n",
       "      <td>4.5754</td>\n",
       "      <td>221</td>\n",
       "      <td>1000</td>\n",
       "    </tr>\n",
       "    <tr>\n",
       "      <th>20</th>\n",
       "      <td>zero_shot</td>\n",
       "      <td>1.6</td>\n",
       "      <td>0.92</td>\n",
       "      <td>0.320</td>\n",
       "      <td>0.3377</td>\n",
       "      <td>0.6021</td>\n",
       "      <td>4.8133</td>\n",
       "      <td>271</td>\n",
       "      <td>1000</td>\n",
       "    </tr>\n",
       "    <tr>\n",
       "      <th>21</th>\n",
       "      <td>zero_shot_cot</td>\n",
       "      <td>0.2</td>\n",
       "      <td>0.97</td>\n",
       "      <td>0.424</td>\n",
       "      <td>0.4204</td>\n",
       "      <td>0.6637</td>\n",
       "      <td>4.0941</td>\n",
       "      <td>141</td>\n",
       "      <td>1000</td>\n",
       "    </tr>\n",
       "    <tr>\n",
       "      <th>22</th>\n",
       "      <td>zero_shot_cot</td>\n",
       "      <td>0.5</td>\n",
       "      <td>0.96</td>\n",
       "      <td>0.414</td>\n",
       "      <td>0.4194</td>\n",
       "      <td>0.6565</td>\n",
       "      <td>4.1497</td>\n",
       "      <td>147</td>\n",
       "      <td>1000</td>\n",
       "    </tr>\n",
       "    <tr>\n",
       "      <th>23</th>\n",
       "      <td>zero_shot_cot</td>\n",
       "      <td>0.7</td>\n",
       "      <td>0.95</td>\n",
       "      <td>0.408</td>\n",
       "      <td>0.4122</td>\n",
       "      <td>0.6419</td>\n",
       "      <td>4.2609</td>\n",
       "      <td>155</td>\n",
       "      <td>1000</td>\n",
       "    </tr>\n",
       "    <tr>\n",
       "      <th>24</th>\n",
       "      <td>zero_shot_cot</td>\n",
       "      <td>1.0</td>\n",
       "      <td>0.93</td>\n",
       "      <td>0.380</td>\n",
       "      <td>0.3841</td>\n",
       "      <td>0.6214</td>\n",
       "      <td>4.5585</td>\n",
       "      <td>205</td>\n",
       "      <td>1000</td>\n",
       "    </tr>\n",
       "    <tr>\n",
       "      <th>25</th>\n",
       "      <td>zero_shot_cot</td>\n",
       "      <td>1.2</td>\n",
       "      <td>0.95</td>\n",
       "      <td>0.338</td>\n",
       "      <td>0.3412</td>\n",
       "      <td>0.5981</td>\n",
       "      <td>4.7123</td>\n",
       "      <td>224</td>\n",
       "      <td>1000</td>\n",
       "    </tr>\n",
       "    <tr>\n",
       "      <th>26</th>\n",
       "      <td>zero_shot_cot</td>\n",
       "      <td>1.4</td>\n",
       "      <td>0.49</td>\n",
       "      <td>0.152</td>\n",
       "      <td>0.1651</td>\n",
       "      <td>0.7320</td>\n",
       "      <td>2.9680</td>\n",
       "      <td>196</td>\n",
       "      <td>1000</td>\n",
       "    </tr>\n",
       "    <tr>\n",
       "      <th>27</th>\n",
       "      <td>zero_shot_cot</td>\n",
       "      <td>1.6</td>\n",
       "      <td>0.06</td>\n",
       "      <td>0.033</td>\n",
       "      <td>0.0352</td>\n",
       "      <td>0.9285</td>\n",
       "      <td>0.4648</td>\n",
       "      <td>41</td>\n",
       "      <td>1000</td>\n",
       "    </tr>\n",
       "  </tbody>\n",
       "</table>\n",
       "</div>"
      ]
     },
     "execution_count": 11,
     "metadata": {},
     "output_type": "execute_result"
    }
   ],
   "execution_count": 11
  },
  {
   "metadata": {
    "ExecuteTime": {
     "end_time": "2025-10-19T06:52:23.443577Z",
     "start_time": "2025-10-19T06:52:23.437893Z"
    }
   },
   "cell_type": "code",
   "source": "df_metrics.to_csv(\"results_greedy_all_temperature/gpt_4o_mini_B.csv\")",
   "id": "3404e4fed40d0f95",
   "outputs": [],
   "execution_count": 30
  },
  {
   "metadata": {
    "ExecuteTime": {
     "end_time": "2025-10-28T00:02:30.013982Z",
     "start_time": "2025-10-28T00:02:29.966275Z"
    }
   },
   "cell_type": "code",
   "source": [
    "import pandas as pd\n",
    "df_gpt4o = pd.read_csv(\"results_greedy_all_temperature/gpt_4o_B.csv\")\n",
    "df_gpt4o_mini = pd.read_csv(\"results_greedy_all_temperature/gpt_4o_mini_B.csv\")\n",
    "df_mistral = pd.read_csv(\"results_greedy_all_temperature/mistral_B.csv\")\n",
    "df_mistral7 = pd.read_csv(\"results_greedy_all_temperature/mistral_7_B.csv\")\n",
    "\n",
    "# ── Tag with model ──\n",
    "df_gpt4o['model'] = 'gpt-4o'\n",
    "df_gpt4o_mini['model'] = 'gpt-4o-mini'\n",
    "df_mistral['model'] = 'mistral-large-largest'\n",
    "df_mistral7['model'] = 'mistral-7B'"
   ],
   "id": "ed80d87ee6e66cee",
   "outputs": [],
   "execution_count": 5
  },
  {
   "metadata": {
    "ExecuteTime": {
     "end_time": "2025-10-28T00:03:05.279204Z",
     "start_time": "2025-10-28T00:03:05.164560Z"
    }
   },
   "cell_type": "code",
   "source": "df_greedy=pd.read_csv(\"experiment1/per_model_template_ranking.csv\")",
   "id": "36cdd4c2f517e930",
   "outputs": [],
   "execution_count": 7
  },
  {
   "metadata": {
    "ExecuteTime": {
     "end_time": "2025-10-07T06:19:55.806846Z",
     "start_time": "2025-10-07T06:19:55.798688Z"
    }
   },
   "cell_type": "code",
   "execution_count": 3,
   "source": "df_greedy.info()",
   "id": "fd288fea8677186b",
   "outputs": []
  },
  {
   "metadata": {
    "ExecuteTime": {
     "end_time": "2025-10-07T06:19:57.970259Z",
     "start_time": "2025-10-07T06:19:57.962222Z"
    }
   },
   "cell_type": "code",
   "execution_count": 4,
   "source": "df_gpt4o.info()",
   "id": "4ffb99da23b30784",
   "outputs": []
  },
  {
   "metadata": {
    "ExecuteTime": {
     "end_time": "2025-10-28T00:03:35.797675Z",
     "start_time": "2025-10-28T00:03:35.612487Z"
    }
   },
   "cell_type": "code",
   "source": [
    "import pandas as pd\n",
    "\n",
    "# ====== Config ======\n",
    "files_t_gt_0 = {\n",
    "    \"results_greedy_all_temperature/gpt_4o_B.csv\": \"gpt-4o\",\n",
    "    \"results_greedy_all_temperature/gpt_4o_mini_B.csv\": \"gpt-4o-mini\",\n",
    "    \"results_greedy_all_temperature/mistral_B.csv\": \"mistral-large-2\",\n",
    "    \"results_greedy_all_temperature/mistral_7_B.csv\": \"mistral-7B\",\n",
    "}\n",
    "\n",
    "file_t_eq_0 = \"experiment1/per_model_template_ranking.csv\"  # contains template_set = B (T=0)\n",
    "metrics = [\"Precision@10\", \"NDCG@10\", \"Gini\", \"Entropy\"]\n",
    "\n",
    "# models to exclude from template_set = B\n",
    "exclude_models = {\"gpt-4.1-mini\", \"gpt-4.1-nano\"}\n",
    "\n",
    "all_dfs = []\n",
    "\n",
    "# ====== Step 1a: Load T > 0 sweep results ======\n",
    "for path, model in files_t_gt_0.items():\n",
    "    df = pd.read_csv(path)\n",
    "    df[\"model\"] = model\n",
    "    all_dfs.append(df)\n",
    "\n",
    "df_t_gt_0 = pd.concat(all_dfs, ignore_index=True)\n",
    "\n",
    "# ====== Step 1b: Load T = 0 (greedy decoding) from template_set == B ======\n",
    "df_t_eq_0_raw = pd.read_csv(file_t_eq_0)\n",
    "df_t_eq_0 = df_t_eq_0_raw[df_t_eq_0_raw[\"template_set\"] == \"B\"].copy()\n",
    "df_t_eq_0 = df_t_eq_0[~df_t_eq_0[\"model\"].isin(exclude_models)]\n",
    "\n",
    "# Keep only needed columns + assign temperature = 0\n",
    "df_t_eq_0 = df_t_eq_0[[\"model\", \"style\"] + metrics].copy()\n",
    "df_t_eq_0[\"temperature\"] = 0.0\n",
    "\n",
    "# ====== Combine with T>0 ======\n",
    "df_all = pd.concat([df_t_gt_0, df_t_eq_0], ignore_index=True)\n",
    "\n",
    "# ====== Step 2: Rank temperatures within (model, style) ======\n",
    "for metric in metrics:\n",
    "    if metric == \"Gini\":  # lower is better\n",
    "        df_all[f\"{metric}_rank\"] = df_all.groupby([\"model\", \"style\"])[metric].rank(ascending=True, method=\"min\")\n",
    "    else:  # higher is better\n",
    "        df_all[f\"{metric}_rank\"] = df_all.groupby([\"model\", \"style\"])[metric].rank(ascending=False, method=\"min\")\n",
    "\n",
    "# Average rank across all 4 metrics\n",
    "rank_cols = [f\"{m}_rank\" for m in metrics]\n",
    "df_all[\"avg_rank\"] = df_all[rank_cols].mean(axis=1)\n",
    "\n",
    "# ====== Step 3: Aggregate per (model, style, temperature) ======\n",
    "per_model = (\n",
    "    df_all\n",
    "    .groupby([\"model\", \"style\", \"temperature\"])\n",
    "    .agg({\n",
    "        **{m: \"mean\" for m in metrics},                # average raw metrics\n",
    "        **{f\"{m}_rank\": \"mean\" for m in metrics},      # average ranks\n",
    "        \"avg_rank\": \"mean\"                            # overall average rank\n",
    "    })\n",
    "    .reset_index()\n",
    "    .sort_values([\"model\", \"style\", \"avg_rank\"])\n",
    ")\n",
    "\n",
    "# ====== Step 4: Mark best temperature per (model, style) ======\n",
    "per_model[\"best_temperature\"] = per_model.groupby([\"model\", \"style\"])[\"avg_rank\"].transform(lambda x: x == x.min())\n",
    "\n",
    "# ====== Step 5: Save results ======\n",
    "output_path = \"per_model_temperature_ranking_for_B.csv\"\n",
    "per_model.to_csv(output_path, index=False)\n",
    "\n",
    "print(\"Done. Files saved:\")\n",
    "print(f\"→ {output_path}\")\n",
    "\n",
    "print(\"\\n=== Example per-model view ===\")\n",
    "print(per_model.head(10))\n"
   ],
   "id": "99afa380edf18487",
   "outputs": [
    {
     "name": "stdout",
     "output_type": "stream",
     "text": [
      "Done. Files saved:\n",
      "→ per_model_temperature_ranking_for_B.csv\n",
      "\n",
      "=== Example per-model view ===\n",
      "     model         style  temperature  Precision@10  NDCG@10    Gini  Entropy  \\\n",
      "0   gpt-4o      few_shot          0.0         0.605   0.6378  0.5791   4.7995   \n",
      "1   gpt-4o      few_shot          0.2         0.610   0.6358  0.5765   4.7344   \n",
      "2   gpt-4o      few_shot          0.5         0.600   0.6282  0.5734   4.8600   \n",
      "3   gpt-4o      few_shot          0.7         0.589   0.6106  0.5519   5.0041   \n",
      "4   gpt-4o      few_shot          1.0         0.552   0.5744  0.5323   5.1569   \n",
      "5   gpt-4o      few_shot          1.2         0.488   0.5069  0.5082   5.3619   \n",
      "6   gpt-4o      few_shot          1.4         0.441   0.4544  0.4681   5.5324   \n",
      "7   gpt-4o      few_shot          1.6         0.351   0.3836  0.4498   5.5364   \n",
      "13  gpt-4o  few_shot_cot          1.2         0.504   0.5240  0.5010   5.3452   \n",
      "14  gpt-4o  few_shot_cot          1.4         0.420   0.4407  0.4622   5.5634   \n",
      "\n",
      "    Precision@10_rank  NDCG@10_rank  Gini_rank  Entropy_rank  avg_rank  \\\n",
      "0                 2.0           1.0        8.0           7.0       4.5   \n",
      "1                 1.0           2.0        7.0           8.0       4.5   \n",
      "2                 3.0           3.0        6.0           6.0       4.5   \n",
      "3                 4.0           4.0        5.0           5.0       4.5   \n",
      "4                 5.0           5.0        4.0           4.0       4.5   \n",
      "5                 6.0           6.0        3.0           3.0       4.5   \n",
      "6                 7.0           7.0        2.0           2.0       4.5   \n",
      "7                 8.0           8.0        1.0           1.0       4.5   \n",
      "13                6.0           6.0        2.0           2.0       4.0   \n",
      "14                7.0           7.0        1.0           1.0       4.0   \n",
      "\n",
      "    best_temperature  \n",
      "0               True  \n",
      "1               True  \n",
      "2               True  \n",
      "3               True  \n",
      "4               True  \n",
      "5               True  \n",
      "6               True  \n",
      "7               True  \n",
      "13              True  \n",
      "14              True  \n"
     ]
    }
   ],
   "execution_count": 9
  },
  {
   "metadata": {
    "ExecuteTime": {
     "end_time": "2025-10-19T07:03:54.153324Z",
     "start_time": "2025-10-19T07:03:54.106168Z"
    }
   },
   "cell_type": "code",
   "source": "per_model.info()",
   "id": "957833af4abafba3",
   "outputs": [
    {
     "name": "stdout",
     "output_type": "stream",
     "text": [
      "<class 'pandas.core.frame.DataFrame'>\n",
      "Index: 104 entries, 0 to 101\n",
      "Data columns (total 13 columns):\n",
      " #   Column             Non-Null Count  Dtype  \n",
      "---  ------             --------------  -----  \n",
      " 0   model              104 non-null    object \n",
      " 1   style              104 non-null    object \n",
      " 2   temperature        104 non-null    float64\n",
      " 3   Precision@10       104 non-null    float64\n",
      " 4   NDCG@10            104 non-null    float64\n",
      " 5   Gini               104 non-null    float64\n",
      " 6   Entropy            104 non-null    float64\n",
      " 7   Precision@10_rank  104 non-null    float64\n",
      " 8   NDCG@10_rank       104 non-null    float64\n",
      " 9   Gini_rank          104 non-null    float64\n",
      " 10  Entropy_rank       104 non-null    float64\n",
      " 11  avg_rank           104 non-null    float64\n",
      " 12  best_temperature   104 non-null    bool   \n",
      "dtypes: bool(1), float64(10), object(2)\n",
      "memory usage: 10.7+ KB\n"
     ]
    }
   ],
   "execution_count": 34
  },
  {
   "metadata": {
    "ExecuteTime": {
     "end_time": "2025-10-28T00:03:49.293226Z",
     "start_time": "2025-10-28T00:03:45.062182Z"
    }
   },
   "cell_type": "code",
   "source": [
    "import plotly.graph_objects as go\n",
    "\n",
    "# --- Config ---\n",
    "style_colors = {\n",
    "    \"zero_shot\": \"#1f77b4\",\n",
    "    \"few_shot\": \"#ff7f0e\",\n",
    "    \"zero_shot_cot\": \"#2ca02c\",\n",
    "    \"few_shot_cot\": \"#9467bd\",\n",
    "}\n",
    "line_styles = {\n",
    "    \"gpt-4o\": \"solid\",\n",
    "    \"gpt-4o-mini\": \"dot\",\n",
    "    \"mistral-7B\": \"solid\",\n",
    "    \"mistral-large-2\": \"dot\",\n",
    "}\n",
    "\n",
    "# Expected temperature grids\n",
    "gpt_temps = [0.0, 0.2, 0.5, 0.7, 1.0, 1.2,1.4,1.6]\n",
    "mistral_temps = [0.0, 0.2, 0.5, 0.7, 1.0]\n",
    "\n",
    "# --- Function to make plot for a pair of models ---\n",
    "def plot_pair(df, models, title, expected_temps):\n",
    "    fig = go.Figure()\n",
    "    for model in models:\n",
    "        model_df = df[df[\"model\"] == model]\n",
    "        for style in model_df[\"style\"].unique():\n",
    "            subset = model_df[model_df[\"style\"] == style].sort_values(\"temperature\")\n",
    "            fig.add_trace(go.Scatter(\n",
    "                x=subset[\"temperature\"],\n",
    "                y=subset[\"avg_rank\"],\n",
    "                mode=\"lines+markers\",\n",
    "                name=f\"{model} - {style}\",\n",
    "                line=dict(\n",
    "                    color=style_colors[style],\n",
    "                    dash=line_styles[model],\n",
    "                    width=2\n",
    "                ),\n",
    "                marker=dict(size=6),\n",
    "            ))\n",
    "    fig.update_layout(\n",
    "        title=f\"<b>{title}</b>\",\n",
    "        xaxis_title=\"Temperature\",\n",
    "        yaxis_title=\"Average Rank (Lower = Better)\",\n",
    "        template=\"plotly_white\",\n",
    "        font=dict(family=\"Times New Roman\", size=16),\n",
    "        height=600,\n",
    "        xaxis=dict(\n",
    "            tickmode=\"array\",\n",
    "            tickvals=expected_temps,   # Force exact temperature values\n",
    "            ticktext=[str(t) for t in expected_temps]\n",
    "        )\n",
    "    )\n",
    "    return fig\n",
    "\n",
    "# --- Plotting ---\n",
    "fig_gpt = plot_pair(per_model, [\"gpt-4o\", \"gpt-4o-mini\"],\n",
    "                    \"GPT-4o vs GPT-4o-mini: Avg Rank vs Temperature\",\n",
    "                    gpt_temps)\n",
    "fig_gpt.show()\n",
    "\n",
    "fig_mistral = plot_pair(per_model, [\"mistral-7B\", \"mistral-large-2\"],\n",
    "                        \"Mistral-7B vs Mistral-Large-2: Avg Rank vs Temperature\",\n",
    "                        mistral_temps)\n",
    "fig_mistral.show()\n",
    "\n",
    "# --- Step 2: Mean & Std Dev for each model across styles ---\n",
    "summary = (\n",
    "    per_model.groupby([\"model\", \"temperature\"])[\"avg_rank\"]\n",
    "             .agg([\"mean\", \"std\"])\n",
    "             .reset_index()\n",
    "             .sort_values([\"model\", \"temperature\"])\n",
    ")\n",
    "\n",
    "print(\"\\n=== Mean and Std Dev of avg_rank per model × temperature ===\")\n",
    "print(summary)\n",
    "\n",
    "# Save to CSV\n",
    "summary.to_csv(\"avg_rank_mean_std_per_model_temperature.csv\", index=False)\n"
   ],
   "id": "da651491ecfe79be",
   "outputs": [
    {
     "data": {
      "application/vnd.plotly.v1+json": {
       "data": [
        {
         "line": {
          "color": "#ff7f0e",
          "dash": "solid",
          "width": 2
         },
         "marker": {
          "size": 6
         },
         "mode": "lines+markers",
         "name": "gpt-4o - few_shot",
         "x": {
          "dtype": "f8",
          "bdata": "AAAAAAAAAACamZmZmZnJPwAAAAAAAOA/ZmZmZmZm5j8AAAAAAADwPzMzMzMzM/M/ZmZmZmZm9j+amZmZmZn5Pw=="
         },
         "y": {
          "dtype": "f8",
          "bdata": "AAAAAAAAEkAAAAAAAAASQAAAAAAAABJAAAAAAAAAEkAAAAAAAAASQAAAAAAAABJAAAAAAAAAEkAAAAAAAAASQA=="
         },
         "type": "scatter"
        },
        {
         "line": {
          "color": "#9467bd",
          "dash": "solid",
          "width": 2
         },
         "marker": {
          "size": 6
         },
         "mode": "lines+markers",
         "name": "gpt-4o - few_shot_cot",
         "x": {
          "dtype": "f8",
          "bdata": "AAAAAAAAAACamZmZmZnJPwAAAAAAAOA/ZmZmZmZm5j8AAAAAAADwPzMzMzMzM/M/ZmZmZmZm9j+amZmZmZn5Pw=="
         },
         "y": {
          "dtype": "f8",
          "bdata": "AAAAAAAAE0AAAAAAAAARQAAAAAAAABJAAAAAAAAAEkAAAAAAAAASQAAAAAAAABBAAAAAAAAAEEAAAAAAAAAWQA=="
         },
         "type": "scatter"
        },
        {
         "line": {
          "color": "#1f77b4",
          "dash": "solid",
          "width": 2
         },
         "marker": {
          "size": 6
         },
         "mode": "lines+markers",
         "name": "gpt-4o - zero_shot",
         "x": {
          "dtype": "f8",
          "bdata": "AAAAAAAAAACamZmZmZnJPwAAAAAAAOA/ZmZmZmZm5j8AAAAAAADwPzMzMzMzM/M/ZmZmZmZm9j+amZmZmZn5Pw=="
         },
         "y": {
          "dtype": "f8",
          "bdata": "AAAAAAAAEUAAAAAAAAATQAAAAAAAABJAAAAAAAAAE0AAAAAAAAARQAAAAAAAABNAAAAAAAAAEUAAAAAAAAASQA=="
         },
         "type": "scatter"
        },
        {
         "line": {
          "color": "#2ca02c",
          "dash": "solid",
          "width": 2
         },
         "marker": {
          "size": 6
         },
         "mode": "lines+markers",
         "name": "gpt-4o - zero_shot_cot",
         "x": {
          "dtype": "f8",
          "bdata": "AAAAAAAAAACamZmZmZnJPwAAAAAAAOA/ZmZmZmZm5j8AAAAAAADwPzMzMzMzM/M/ZmZmZmZm9j+amZmZmZn5Pw=="
         },
         "y": {
          "dtype": "f8",
          "bdata": "AAAAAAAADkAAAAAAAAAKQAAAAAAAAAxAAAAAAAAADEAAAAAAAAAMQAAAAAAAAAxAAAAAAAAAHEAAAAAAAAAgQA=="
         },
         "type": "scatter"
        },
        {
         "line": {
          "color": "#ff7f0e",
          "dash": "dot",
          "width": 2
         },
         "marker": {
          "size": 6
         },
         "mode": "lines+markers",
         "name": "gpt-4o-mini - few_shot",
         "x": {
          "dtype": "f8",
          "bdata": "AAAAAAAAAACamZmZmZnJPwAAAAAAAOA/ZmZmZmZm5j8AAAAAAADwPzMzMzMzM/M/ZmZmZmZm9j+amZmZmZn5Pw=="
         },
         "y": {
          "dtype": "f8",
          "bdata": "AAAAAAAAFkAAAAAAAAAYQAAAAAAAAAxAAAAAAAAAEEAAAAAAAAAMQAAAAAAAABFAAAAAAAAAEEAAAAAAAAAVQA=="
         },
         "type": "scatter"
        },
        {
         "line": {
          "color": "#9467bd",
          "dash": "dot",
          "width": 2
         },
         "marker": {
          "size": 6
         },
         "mode": "lines+markers",
         "name": "gpt-4o-mini - few_shot_cot",
         "x": {
          "dtype": "f8",
          "bdata": "AAAAAAAAAACamZmZmZnJPwAAAAAAAOA/ZmZmZmZm5j8AAAAAAADwPzMzMzMzM/M/ZmZmZmZm9j+amZmZmZn5Pw=="
         },
         "y": {
          "dtype": "f8",
          "bdata": "AAAAAAAAGkAAAAAAAAAWQAAAAAAAABBAAAAAAAAACkAAAAAAAAAKQAAAAAAAABJAAAAAAAAAEEAAAAAAAAAUQA=="
         },
         "type": "scatter"
        },
        {
         "line": {
          "color": "#1f77b4",
          "dash": "dot",
          "width": 2
         },
         "marker": {
          "size": 6
         },
         "mode": "lines+markers",
         "name": "gpt-4o-mini - zero_shot",
         "x": {
          "dtype": "f8",
          "bdata": "AAAAAAAAAACamZmZmZnJPwAAAAAAAOA/ZmZmZmZm5j8AAAAAAADwPzMzMzMzM/M/ZmZmZmZm9j+amZmZmZn5Pw=="
         },
         "y": {
          "dtype": "f8",
          "bdata": "AAAAAAAAE0AAAAAAAAAXQAAAAAAAABVAAAAAAAAABkAAAAAAAAAQQAAAAAAAABRAAAAAAAAADkAAAAAAAAASQA=="
         },
         "type": "scatter"
        },
        {
         "line": {
          "color": "#2ca02c",
          "dash": "dot",
          "width": 2
         },
         "marker": {
          "size": 6
         },
         "mode": "lines+markers",
         "name": "gpt-4o-mini - zero_shot_cot",
         "x": {
          "dtype": "f8",
          "bdata": "AAAAAAAAAACamZmZmZnJPwAAAAAAAOA/ZmZmZmZm5j8AAAAAAADwPzMzMzMzM/M/ZmZmZmZm9j+amZmZmZn5Pw=="
         },
         "y": {
          "dtype": "f8",
          "bdata": "AAAAAAAAE0AAAAAAAAAaQAAAAAAAABJAAAAAAAAAEkAAAAAAAAAKQAAAAAAAAABAAAAAAAAADEAAAAAAAAAbQA=="
         },
         "type": "scatter"
        }
       ],
       "layout": {
        "template": {
         "data": {
          "barpolar": [
           {
            "marker": {
             "line": {
              "color": "white",
              "width": 0.5
             },
             "pattern": {
              "fillmode": "overlay",
              "size": 10,
              "solidity": 0.2
             }
            },
            "type": "barpolar"
           }
          ],
          "bar": [
           {
            "error_x": {
             "color": "#2a3f5f"
            },
            "error_y": {
             "color": "#2a3f5f"
            },
            "marker": {
             "line": {
              "color": "white",
              "width": 0.5
             },
             "pattern": {
              "fillmode": "overlay",
              "size": 10,
              "solidity": 0.2
             }
            },
            "type": "bar"
           }
          ],
          "carpet": [
           {
            "aaxis": {
             "endlinecolor": "#2a3f5f",
             "gridcolor": "#C8D4E3",
             "linecolor": "#C8D4E3",
             "minorgridcolor": "#C8D4E3",
             "startlinecolor": "#2a3f5f"
            },
            "baxis": {
             "endlinecolor": "#2a3f5f",
             "gridcolor": "#C8D4E3",
             "linecolor": "#C8D4E3",
             "minorgridcolor": "#C8D4E3",
             "startlinecolor": "#2a3f5f"
            },
            "type": "carpet"
           }
          ],
          "choropleth": [
           {
            "colorbar": {
             "outlinewidth": 0,
             "ticks": ""
            },
            "type": "choropleth"
           }
          ],
          "contourcarpet": [
           {
            "colorbar": {
             "outlinewidth": 0,
             "ticks": ""
            },
            "type": "contourcarpet"
           }
          ],
          "contour": [
           {
            "colorbar": {
             "outlinewidth": 0,
             "ticks": ""
            },
            "colorscale": [
             [
              0.0,
              "#0d0887"
             ],
             [
              0.1111111111111111,
              "#46039f"
             ],
             [
              0.2222222222222222,
              "#7201a8"
             ],
             [
              0.3333333333333333,
              "#9c179e"
             ],
             [
              0.4444444444444444,
              "#bd3786"
             ],
             [
              0.5555555555555556,
              "#d8576b"
             ],
             [
              0.6666666666666666,
              "#ed7953"
             ],
             [
              0.7777777777777778,
              "#fb9f3a"
             ],
             [
              0.8888888888888888,
              "#fdca26"
             ],
             [
              1.0,
              "#f0f921"
             ]
            ],
            "type": "contour"
           }
          ],
          "heatmap": [
           {
            "colorbar": {
             "outlinewidth": 0,
             "ticks": ""
            },
            "colorscale": [
             [
              0.0,
              "#0d0887"
             ],
             [
              0.1111111111111111,
              "#46039f"
             ],
             [
              0.2222222222222222,
              "#7201a8"
             ],
             [
              0.3333333333333333,
              "#9c179e"
             ],
             [
              0.4444444444444444,
              "#bd3786"
             ],
             [
              0.5555555555555556,
              "#d8576b"
             ],
             [
              0.6666666666666666,
              "#ed7953"
             ],
             [
              0.7777777777777778,
              "#fb9f3a"
             ],
             [
              0.8888888888888888,
              "#fdca26"
             ],
             [
              1.0,
              "#f0f921"
             ]
            ],
            "type": "heatmap"
           }
          ],
          "histogram2dcontour": [
           {
            "colorbar": {
             "outlinewidth": 0,
             "ticks": ""
            },
            "colorscale": [
             [
              0.0,
              "#0d0887"
             ],
             [
              0.1111111111111111,
              "#46039f"
             ],
             [
              0.2222222222222222,
              "#7201a8"
             ],
             [
              0.3333333333333333,
              "#9c179e"
             ],
             [
              0.4444444444444444,
              "#bd3786"
             ],
             [
              0.5555555555555556,
              "#d8576b"
             ],
             [
              0.6666666666666666,
              "#ed7953"
             ],
             [
              0.7777777777777778,
              "#fb9f3a"
             ],
             [
              0.8888888888888888,
              "#fdca26"
             ],
             [
              1.0,
              "#f0f921"
             ]
            ],
            "type": "histogram2dcontour"
           }
          ],
          "histogram2d": [
           {
            "colorbar": {
             "outlinewidth": 0,
             "ticks": ""
            },
            "colorscale": [
             [
              0.0,
              "#0d0887"
             ],
             [
              0.1111111111111111,
              "#46039f"
             ],
             [
              0.2222222222222222,
              "#7201a8"
             ],
             [
              0.3333333333333333,
              "#9c179e"
             ],
             [
              0.4444444444444444,
              "#bd3786"
             ],
             [
              0.5555555555555556,
              "#d8576b"
             ],
             [
              0.6666666666666666,
              "#ed7953"
             ],
             [
              0.7777777777777778,
              "#fb9f3a"
             ],
             [
              0.8888888888888888,
              "#fdca26"
             ],
             [
              1.0,
              "#f0f921"
             ]
            ],
            "type": "histogram2d"
           }
          ],
          "histogram": [
           {
            "marker": {
             "pattern": {
              "fillmode": "overlay",
              "size": 10,
              "solidity": 0.2
             }
            },
            "type": "histogram"
           }
          ],
          "mesh3d": [
           {
            "colorbar": {
             "outlinewidth": 0,
             "ticks": ""
            },
            "type": "mesh3d"
           }
          ],
          "parcoords": [
           {
            "line": {
             "colorbar": {
              "outlinewidth": 0,
              "ticks": ""
             }
            },
            "type": "parcoords"
           }
          ],
          "pie": [
           {
            "automargin": true,
            "type": "pie"
           }
          ],
          "scatter3d": [
           {
            "line": {
             "colorbar": {
              "outlinewidth": 0,
              "ticks": ""
             }
            },
            "marker": {
             "colorbar": {
              "outlinewidth": 0,
              "ticks": ""
             }
            },
            "type": "scatter3d"
           }
          ],
          "scattercarpet": [
           {
            "marker": {
             "colorbar": {
              "outlinewidth": 0,
              "ticks": ""
             }
            },
            "type": "scattercarpet"
           }
          ],
          "scattergeo": [
           {
            "marker": {
             "colorbar": {
              "outlinewidth": 0,
              "ticks": ""
             }
            },
            "type": "scattergeo"
           }
          ],
          "scattergl": [
           {
            "marker": {
             "colorbar": {
              "outlinewidth": 0,
              "ticks": ""
             }
            },
            "type": "scattergl"
           }
          ],
          "scattermapbox": [
           {
            "marker": {
             "colorbar": {
              "outlinewidth": 0,
              "ticks": ""
             }
            },
            "type": "scattermapbox"
           }
          ],
          "scattermap": [
           {
            "marker": {
             "colorbar": {
              "outlinewidth": 0,
              "ticks": ""
             }
            },
            "type": "scattermap"
           }
          ],
          "scatterpolargl": [
           {
            "marker": {
             "colorbar": {
              "outlinewidth": 0,
              "ticks": ""
             }
            },
            "type": "scatterpolargl"
           }
          ],
          "scatterpolar": [
           {
            "marker": {
             "colorbar": {
              "outlinewidth": 0,
              "ticks": ""
             }
            },
            "type": "scatterpolar"
           }
          ],
          "scatter": [
           {
            "fillpattern": {
             "fillmode": "overlay",
             "size": 10,
             "solidity": 0.2
            },
            "type": "scatter"
           }
          ],
          "scatterternary": [
           {
            "marker": {
             "colorbar": {
              "outlinewidth": 0,
              "ticks": ""
             }
            },
            "type": "scatterternary"
           }
          ],
          "surface": [
           {
            "colorbar": {
             "outlinewidth": 0,
             "ticks": ""
            },
            "colorscale": [
             [
              0.0,
              "#0d0887"
             ],
             [
              0.1111111111111111,
              "#46039f"
             ],
             [
              0.2222222222222222,
              "#7201a8"
             ],
             [
              0.3333333333333333,
              "#9c179e"
             ],
             [
              0.4444444444444444,
              "#bd3786"
             ],
             [
              0.5555555555555556,
              "#d8576b"
             ],
             [
              0.6666666666666666,
              "#ed7953"
             ],
             [
              0.7777777777777778,
              "#fb9f3a"
             ],
             [
              0.8888888888888888,
              "#fdca26"
             ],
             [
              1.0,
              "#f0f921"
             ]
            ],
            "type": "surface"
           }
          ],
          "table": [
           {
            "cells": {
             "fill": {
              "color": "#EBF0F8"
             },
             "line": {
              "color": "white"
             }
            },
            "header": {
             "fill": {
              "color": "#C8D4E3"
             },
             "line": {
              "color": "white"
             }
            },
            "type": "table"
           }
          ]
         },
         "layout": {
          "annotationdefaults": {
           "arrowcolor": "#2a3f5f",
           "arrowhead": 0,
           "arrowwidth": 1
          },
          "autotypenumbers": "strict",
          "coloraxis": {
           "colorbar": {
            "outlinewidth": 0,
            "ticks": ""
           }
          },
          "colorscale": {
           "diverging": [
            [
             0,
             "#8e0152"
            ],
            [
             0.1,
             "#c51b7d"
            ],
            [
             0.2,
             "#de77ae"
            ],
            [
             0.3,
             "#f1b6da"
            ],
            [
             0.4,
             "#fde0ef"
            ],
            [
             0.5,
             "#f7f7f7"
            ],
            [
             0.6,
             "#e6f5d0"
            ],
            [
             0.7,
             "#b8e186"
            ],
            [
             0.8,
             "#7fbc41"
            ],
            [
             0.9,
             "#4d9221"
            ],
            [
             1,
             "#276419"
            ]
           ],
           "sequential": [
            [
             0.0,
             "#0d0887"
            ],
            [
             0.1111111111111111,
             "#46039f"
            ],
            [
             0.2222222222222222,
             "#7201a8"
            ],
            [
             0.3333333333333333,
             "#9c179e"
            ],
            [
             0.4444444444444444,
             "#bd3786"
            ],
            [
             0.5555555555555556,
             "#d8576b"
            ],
            [
             0.6666666666666666,
             "#ed7953"
            ],
            [
             0.7777777777777778,
             "#fb9f3a"
            ],
            [
             0.8888888888888888,
             "#fdca26"
            ],
            [
             1.0,
             "#f0f921"
            ]
           ],
           "sequentialminus": [
            [
             0.0,
             "#0d0887"
            ],
            [
             0.1111111111111111,
             "#46039f"
            ],
            [
             0.2222222222222222,
             "#7201a8"
            ],
            [
             0.3333333333333333,
             "#9c179e"
            ],
            [
             0.4444444444444444,
             "#bd3786"
            ],
            [
             0.5555555555555556,
             "#d8576b"
            ],
            [
             0.6666666666666666,
             "#ed7953"
            ],
            [
             0.7777777777777778,
             "#fb9f3a"
            ],
            [
             0.8888888888888888,
             "#fdca26"
            ],
            [
             1.0,
             "#f0f921"
            ]
           ]
          },
          "colorway": [
           "#636efa",
           "#EF553B",
           "#00cc96",
           "#ab63fa",
           "#FFA15A",
           "#19d3f3",
           "#FF6692",
           "#B6E880",
           "#FF97FF",
           "#FECB52"
          ],
          "font": {
           "color": "#2a3f5f"
          },
          "geo": {
           "bgcolor": "white",
           "lakecolor": "white",
           "landcolor": "white",
           "showlakes": true,
           "showland": true,
           "subunitcolor": "#C8D4E3"
          },
          "hoverlabel": {
           "align": "left"
          },
          "hovermode": "closest",
          "mapbox": {
           "style": "light"
          },
          "paper_bgcolor": "white",
          "plot_bgcolor": "white",
          "polar": {
           "angularaxis": {
            "gridcolor": "#EBF0F8",
            "linecolor": "#EBF0F8",
            "ticks": ""
           },
           "bgcolor": "white",
           "radialaxis": {
            "gridcolor": "#EBF0F8",
            "linecolor": "#EBF0F8",
            "ticks": ""
           }
          },
          "scene": {
           "xaxis": {
            "backgroundcolor": "white",
            "gridcolor": "#DFE8F3",
            "gridwidth": 2,
            "linecolor": "#EBF0F8",
            "showbackground": true,
            "ticks": "",
            "zerolinecolor": "#EBF0F8"
           },
           "yaxis": {
            "backgroundcolor": "white",
            "gridcolor": "#DFE8F3",
            "gridwidth": 2,
            "linecolor": "#EBF0F8",
            "showbackground": true,
            "ticks": "",
            "zerolinecolor": "#EBF0F8"
           },
           "zaxis": {
            "backgroundcolor": "white",
            "gridcolor": "#DFE8F3",
            "gridwidth": 2,
            "linecolor": "#EBF0F8",
            "showbackground": true,
            "ticks": "",
            "zerolinecolor": "#EBF0F8"
           }
          },
          "shapedefaults": {
           "line": {
            "color": "#2a3f5f"
           }
          },
          "ternary": {
           "aaxis": {
            "gridcolor": "#DFE8F3",
            "linecolor": "#A2B1C6",
            "ticks": ""
           },
           "baxis": {
            "gridcolor": "#DFE8F3",
            "linecolor": "#A2B1C6",
            "ticks": ""
           },
           "bgcolor": "white",
           "caxis": {
            "gridcolor": "#DFE8F3",
            "linecolor": "#A2B1C6",
            "ticks": ""
           }
          },
          "title": {
           "x": 0.05
          },
          "xaxis": {
           "automargin": true,
           "gridcolor": "#EBF0F8",
           "linecolor": "#EBF0F8",
           "ticks": "",
           "title": {
            "standoff": 15
           },
           "zerolinecolor": "#EBF0F8",
           "zerolinewidth": 2
          },
          "yaxis": {
           "automargin": true,
           "gridcolor": "#EBF0F8",
           "linecolor": "#EBF0F8",
           "ticks": "",
           "title": {
            "standoff": 15
           },
           "zerolinecolor": "#EBF0F8",
           "zerolinewidth": 2
          }
         }
        },
        "font": {
         "family": "Times New Roman",
         "size": 16
        },
        "xaxis": {
         "title": {
          "text": "Temperature"
         },
         "tickmode": "array",
         "tickvals": [
          0.0,
          0.2,
          0.5,
          0.7,
          1.0,
          1.2,
          1.4,
          1.6
         ],
         "ticktext": [
          "0.0",
          "0.2",
          "0.5",
          "0.7",
          "1.0",
          "1.2",
          "1.4",
          "1.6"
         ]
        },
        "title": {
         "text": "<b>GPT-4o vs GPT-4o-mini: Avg Rank vs Temperature</b>"
        },
        "yaxis": {
         "title": {
          "text": "Average Rank (Lower = Better)"
         }
        },
        "height": 600
       },
       "config": {
        "plotlyServerURL": "https://plot.ly"
       }
      }
     },
     "metadata": {},
     "output_type": "display_data"
    },
    {
     "data": {
      "application/vnd.plotly.v1+json": {
       "data": [
        {
         "line": {
          "color": "#ff7f0e",
          "dash": "solid",
          "width": 2
         },
         "marker": {
          "size": 6
         },
         "mode": "lines+markers",
         "name": "mistral-7B - few_shot",
         "x": {
          "dtype": "f8",
          "bdata": "AAAAAAAAAACamZmZmZnJPwAAAAAAAOA/ZmZmZmZm5j8AAAAAAADwPw=="
         },
         "y": {
          "dtype": "f8",
          "bdata": "AAAAAAAADkAAAAAAAAAMQAAAAAAAAApAAAAAAAAA+D8AAAAAAAAIQA=="
         },
         "type": "scatter"
        },
        {
         "line": {
          "color": "#9467bd",
          "dash": "solid",
          "width": 2
         },
         "marker": {
          "size": 6
         },
         "mode": "lines+markers",
         "name": "mistral-7B - few_shot_cot",
         "x": {
          "dtype": "f8",
          "bdata": "AAAAAAAAAACamZmZmZnJPwAAAAAAAOA/ZmZmZmZm5j8AAAAAAADwPw=="
         },
         "y": {
          "dtype": "f8",
          "bdata": "AAAAAAAADkAAAAAAAAAKQAAAAAAAAAZAAAAAAAAAAkAAAAAAAAAIQA=="
         },
         "type": "scatter"
        },
        {
         "line": {
          "color": "#1f77b4",
          "dash": "solid",
          "width": 2
         },
         "marker": {
          "size": 6
         },
         "mode": "lines+markers",
         "name": "mistral-7B - zero_shot",
         "x": {
          "dtype": "f8",
          "bdata": "AAAAAAAAAACamZmZmZnJPwAAAAAAAOA/ZmZmZmZm5j8AAAAAAADwPw=="
         },
         "y": {
          "dtype": "f8",
          "bdata": "AAAAAAAABEAAAAAAAAAAQAAAAAAAAA5AAAAAAAAADEAAAAAAAAAKQA=="
         },
         "type": "scatter"
        },
        {
         "line": {
          "color": "#2ca02c",
          "dash": "solid",
          "width": 2
         },
         "marker": {
          "size": 6
         },
         "mode": "lines+markers",
         "name": "mistral-7B - zero_shot_cot",
         "x": {
          "dtype": "f8",
          "bdata": "AAAAAAAAAACamZmZmZnJPwAAAAAAAOA/ZmZmZmZm5j8AAAAAAADwPw=="
         },
         "y": {
          "dtype": "f8",
          "bdata": "AAAAAAAAAkAAAAAAAAAIQAAAAAAAAA5AAAAAAAAABEAAAAAAAAAMQA=="
         },
         "type": "scatter"
        },
        {
         "line": {
          "color": "#ff7f0e",
          "dash": "dot",
          "width": 2
         },
         "marker": {
          "size": 6
         },
         "mode": "lines+markers",
         "name": "mistral-large-2 - few_shot",
         "x": {
          "dtype": "f8",
          "bdata": "AAAAAAAAAACamZmZmZnJPwAAAAAAAOA/ZmZmZmZm5j8AAAAAAADwPw=="
         },
         "y": {
          "dtype": "f8",
          "bdata": "AAAAAAAADkAAAAAAAAAAQAAAAAAAAApAAAAAAAAABkAAAAAAAAAKQA=="
         },
         "type": "scatter"
        },
        {
         "line": {
          "color": "#9467bd",
          "dash": "dot",
          "width": 2
         },
         "marker": {
          "size": 6
         },
         "mode": "lines+markers",
         "name": "mistral-large-2 - few_shot_cot",
         "x": {
          "dtype": "f8",
          "bdata": "AAAAAAAAAACamZmZmZnJPwAAAAAAAOA/ZmZmZmZm5j8AAAAAAADwPw=="
         },
         "y": {
          "dtype": "f8",
          "bdata": "AAAAAAAADEAAAAAAAAD8PwAAAAAAAAxAAAAAAAAADkAAAAAAAAAEQA=="
         },
         "type": "scatter"
        },
        {
         "line": {
          "color": "#1f77b4",
          "dash": "dot",
          "width": 2
         },
         "marker": {
          "size": 6
         },
         "mode": "lines+markers",
         "name": "mistral-large-2 - zero_shot",
         "x": {
          "dtype": "f8",
          "bdata": "AAAAAAAAAACamZmZmZnJPwAAAAAAAOA/ZmZmZmZm5j8AAAAAAADwPw=="
         },
         "y": {
          "dtype": "f8",
          "bdata": "AAAAAAAADEAAAAAAAAAIQAAAAAAAAAhAAAAAAAAAAEAAAAAAAAAKQA=="
         },
         "type": "scatter"
        },
        {
         "line": {
          "color": "#2ca02c",
          "dash": "dot",
          "width": 2
         },
         "marker": {
          "size": 6
         },
         "mode": "lines+markers",
         "name": "mistral-large-2 - zero_shot_cot",
         "x": {
          "dtype": "f8",
          "bdata": "AAAAAAAAAACamZmZmZnJPwAAAAAAAOA/ZmZmZmZm5j8AAAAAAADwPw=="
         },
         "y": {
          "dtype": "f8",
          "bdata": "AAAAAAAABEAAAAAAAAARQAAAAAAAABFAAAAAAAAA+D8AAAAAAAAEQA=="
         },
         "type": "scatter"
        }
       ],
       "layout": {
        "template": {
         "data": {
          "barpolar": [
           {
            "marker": {
             "line": {
              "color": "white",
              "width": 0.5
             },
             "pattern": {
              "fillmode": "overlay",
              "size": 10,
              "solidity": 0.2
             }
            },
            "type": "barpolar"
           }
          ],
          "bar": [
           {
            "error_x": {
             "color": "#2a3f5f"
            },
            "error_y": {
             "color": "#2a3f5f"
            },
            "marker": {
             "line": {
              "color": "white",
              "width": 0.5
             },
             "pattern": {
              "fillmode": "overlay",
              "size": 10,
              "solidity": 0.2
             }
            },
            "type": "bar"
           }
          ],
          "carpet": [
           {
            "aaxis": {
             "endlinecolor": "#2a3f5f",
             "gridcolor": "#C8D4E3",
             "linecolor": "#C8D4E3",
             "minorgridcolor": "#C8D4E3",
             "startlinecolor": "#2a3f5f"
            },
            "baxis": {
             "endlinecolor": "#2a3f5f",
             "gridcolor": "#C8D4E3",
             "linecolor": "#C8D4E3",
             "minorgridcolor": "#C8D4E3",
             "startlinecolor": "#2a3f5f"
            },
            "type": "carpet"
           }
          ],
          "choropleth": [
           {
            "colorbar": {
             "outlinewidth": 0,
             "ticks": ""
            },
            "type": "choropleth"
           }
          ],
          "contourcarpet": [
           {
            "colorbar": {
             "outlinewidth": 0,
             "ticks": ""
            },
            "type": "contourcarpet"
           }
          ],
          "contour": [
           {
            "colorbar": {
             "outlinewidth": 0,
             "ticks": ""
            },
            "colorscale": [
             [
              0.0,
              "#0d0887"
             ],
             [
              0.1111111111111111,
              "#46039f"
             ],
             [
              0.2222222222222222,
              "#7201a8"
             ],
             [
              0.3333333333333333,
              "#9c179e"
             ],
             [
              0.4444444444444444,
              "#bd3786"
             ],
             [
              0.5555555555555556,
              "#d8576b"
             ],
             [
              0.6666666666666666,
              "#ed7953"
             ],
             [
              0.7777777777777778,
              "#fb9f3a"
             ],
             [
              0.8888888888888888,
              "#fdca26"
             ],
             [
              1.0,
              "#f0f921"
             ]
            ],
            "type": "contour"
           }
          ],
          "heatmap": [
           {
            "colorbar": {
             "outlinewidth": 0,
             "ticks": ""
            },
            "colorscale": [
             [
              0.0,
              "#0d0887"
             ],
             [
              0.1111111111111111,
              "#46039f"
             ],
             [
              0.2222222222222222,
              "#7201a8"
             ],
             [
              0.3333333333333333,
              "#9c179e"
             ],
             [
              0.4444444444444444,
              "#bd3786"
             ],
             [
              0.5555555555555556,
              "#d8576b"
             ],
             [
              0.6666666666666666,
              "#ed7953"
             ],
             [
              0.7777777777777778,
              "#fb9f3a"
             ],
             [
              0.8888888888888888,
              "#fdca26"
             ],
             [
              1.0,
              "#f0f921"
             ]
            ],
            "type": "heatmap"
           }
          ],
          "histogram2dcontour": [
           {
            "colorbar": {
             "outlinewidth": 0,
             "ticks": ""
            },
            "colorscale": [
             [
              0.0,
              "#0d0887"
             ],
             [
              0.1111111111111111,
              "#46039f"
             ],
             [
              0.2222222222222222,
              "#7201a8"
             ],
             [
              0.3333333333333333,
              "#9c179e"
             ],
             [
              0.4444444444444444,
              "#bd3786"
             ],
             [
              0.5555555555555556,
              "#d8576b"
             ],
             [
              0.6666666666666666,
              "#ed7953"
             ],
             [
              0.7777777777777778,
              "#fb9f3a"
             ],
             [
              0.8888888888888888,
              "#fdca26"
             ],
             [
              1.0,
              "#f0f921"
             ]
            ],
            "type": "histogram2dcontour"
           }
          ],
          "histogram2d": [
           {
            "colorbar": {
             "outlinewidth": 0,
             "ticks": ""
            },
            "colorscale": [
             [
              0.0,
              "#0d0887"
             ],
             [
              0.1111111111111111,
              "#46039f"
             ],
             [
              0.2222222222222222,
              "#7201a8"
             ],
             [
              0.3333333333333333,
              "#9c179e"
             ],
             [
              0.4444444444444444,
              "#bd3786"
             ],
             [
              0.5555555555555556,
              "#d8576b"
             ],
             [
              0.6666666666666666,
              "#ed7953"
             ],
             [
              0.7777777777777778,
              "#fb9f3a"
             ],
             [
              0.8888888888888888,
              "#fdca26"
             ],
             [
              1.0,
              "#f0f921"
             ]
            ],
            "type": "histogram2d"
           }
          ],
          "histogram": [
           {
            "marker": {
             "pattern": {
              "fillmode": "overlay",
              "size": 10,
              "solidity": 0.2
             }
            },
            "type": "histogram"
           }
          ],
          "mesh3d": [
           {
            "colorbar": {
             "outlinewidth": 0,
             "ticks": ""
            },
            "type": "mesh3d"
           }
          ],
          "parcoords": [
           {
            "line": {
             "colorbar": {
              "outlinewidth": 0,
              "ticks": ""
             }
            },
            "type": "parcoords"
           }
          ],
          "pie": [
           {
            "automargin": true,
            "type": "pie"
           }
          ],
          "scatter3d": [
           {
            "line": {
             "colorbar": {
              "outlinewidth": 0,
              "ticks": ""
             }
            },
            "marker": {
             "colorbar": {
              "outlinewidth": 0,
              "ticks": ""
             }
            },
            "type": "scatter3d"
           }
          ],
          "scattercarpet": [
           {
            "marker": {
             "colorbar": {
              "outlinewidth": 0,
              "ticks": ""
             }
            },
            "type": "scattercarpet"
           }
          ],
          "scattergeo": [
           {
            "marker": {
             "colorbar": {
              "outlinewidth": 0,
              "ticks": ""
             }
            },
            "type": "scattergeo"
           }
          ],
          "scattergl": [
           {
            "marker": {
             "colorbar": {
              "outlinewidth": 0,
              "ticks": ""
             }
            },
            "type": "scattergl"
           }
          ],
          "scattermapbox": [
           {
            "marker": {
             "colorbar": {
              "outlinewidth": 0,
              "ticks": ""
             }
            },
            "type": "scattermapbox"
           }
          ],
          "scattermap": [
           {
            "marker": {
             "colorbar": {
              "outlinewidth": 0,
              "ticks": ""
             }
            },
            "type": "scattermap"
           }
          ],
          "scatterpolargl": [
           {
            "marker": {
             "colorbar": {
              "outlinewidth": 0,
              "ticks": ""
             }
            },
            "type": "scatterpolargl"
           }
          ],
          "scatterpolar": [
           {
            "marker": {
             "colorbar": {
              "outlinewidth": 0,
              "ticks": ""
             }
            },
            "type": "scatterpolar"
           }
          ],
          "scatter": [
           {
            "fillpattern": {
             "fillmode": "overlay",
             "size": 10,
             "solidity": 0.2
            },
            "type": "scatter"
           }
          ],
          "scatterternary": [
           {
            "marker": {
             "colorbar": {
              "outlinewidth": 0,
              "ticks": ""
             }
            },
            "type": "scatterternary"
           }
          ],
          "surface": [
           {
            "colorbar": {
             "outlinewidth": 0,
             "ticks": ""
            },
            "colorscale": [
             [
              0.0,
              "#0d0887"
             ],
             [
              0.1111111111111111,
              "#46039f"
             ],
             [
              0.2222222222222222,
              "#7201a8"
             ],
             [
              0.3333333333333333,
              "#9c179e"
             ],
             [
              0.4444444444444444,
              "#bd3786"
             ],
             [
              0.5555555555555556,
              "#d8576b"
             ],
             [
              0.6666666666666666,
              "#ed7953"
             ],
             [
              0.7777777777777778,
              "#fb9f3a"
             ],
             [
              0.8888888888888888,
              "#fdca26"
             ],
             [
              1.0,
              "#f0f921"
             ]
            ],
            "type": "surface"
           }
          ],
          "table": [
           {
            "cells": {
             "fill": {
              "color": "#EBF0F8"
             },
             "line": {
              "color": "white"
             }
            },
            "header": {
             "fill": {
              "color": "#C8D4E3"
             },
             "line": {
              "color": "white"
             }
            },
            "type": "table"
           }
          ]
         },
         "layout": {
          "annotationdefaults": {
           "arrowcolor": "#2a3f5f",
           "arrowhead": 0,
           "arrowwidth": 1
          },
          "autotypenumbers": "strict",
          "coloraxis": {
           "colorbar": {
            "outlinewidth": 0,
            "ticks": ""
           }
          },
          "colorscale": {
           "diverging": [
            [
             0,
             "#8e0152"
            ],
            [
             0.1,
             "#c51b7d"
            ],
            [
             0.2,
             "#de77ae"
            ],
            [
             0.3,
             "#f1b6da"
            ],
            [
             0.4,
             "#fde0ef"
            ],
            [
             0.5,
             "#f7f7f7"
            ],
            [
             0.6,
             "#e6f5d0"
            ],
            [
             0.7,
             "#b8e186"
            ],
            [
             0.8,
             "#7fbc41"
            ],
            [
             0.9,
             "#4d9221"
            ],
            [
             1,
             "#276419"
            ]
           ],
           "sequential": [
            [
             0.0,
             "#0d0887"
            ],
            [
             0.1111111111111111,
             "#46039f"
            ],
            [
             0.2222222222222222,
             "#7201a8"
            ],
            [
             0.3333333333333333,
             "#9c179e"
            ],
            [
             0.4444444444444444,
             "#bd3786"
            ],
            [
             0.5555555555555556,
             "#d8576b"
            ],
            [
             0.6666666666666666,
             "#ed7953"
            ],
            [
             0.7777777777777778,
             "#fb9f3a"
            ],
            [
             0.8888888888888888,
             "#fdca26"
            ],
            [
             1.0,
             "#f0f921"
            ]
           ],
           "sequentialminus": [
            [
             0.0,
             "#0d0887"
            ],
            [
             0.1111111111111111,
             "#46039f"
            ],
            [
             0.2222222222222222,
             "#7201a8"
            ],
            [
             0.3333333333333333,
             "#9c179e"
            ],
            [
             0.4444444444444444,
             "#bd3786"
            ],
            [
             0.5555555555555556,
             "#d8576b"
            ],
            [
             0.6666666666666666,
             "#ed7953"
            ],
            [
             0.7777777777777778,
             "#fb9f3a"
            ],
            [
             0.8888888888888888,
             "#fdca26"
            ],
            [
             1.0,
             "#f0f921"
            ]
           ]
          },
          "colorway": [
           "#636efa",
           "#EF553B",
           "#00cc96",
           "#ab63fa",
           "#FFA15A",
           "#19d3f3",
           "#FF6692",
           "#B6E880",
           "#FF97FF",
           "#FECB52"
          ],
          "font": {
           "color": "#2a3f5f"
          },
          "geo": {
           "bgcolor": "white",
           "lakecolor": "white",
           "landcolor": "white",
           "showlakes": true,
           "showland": true,
           "subunitcolor": "#C8D4E3"
          },
          "hoverlabel": {
           "align": "left"
          },
          "hovermode": "closest",
          "mapbox": {
           "style": "light"
          },
          "paper_bgcolor": "white",
          "plot_bgcolor": "white",
          "polar": {
           "angularaxis": {
            "gridcolor": "#EBF0F8",
            "linecolor": "#EBF0F8",
            "ticks": ""
           },
           "bgcolor": "white",
           "radialaxis": {
            "gridcolor": "#EBF0F8",
            "linecolor": "#EBF0F8",
            "ticks": ""
           }
          },
          "scene": {
           "xaxis": {
            "backgroundcolor": "white",
            "gridcolor": "#DFE8F3",
            "gridwidth": 2,
            "linecolor": "#EBF0F8",
            "showbackground": true,
            "ticks": "",
            "zerolinecolor": "#EBF0F8"
           },
           "yaxis": {
            "backgroundcolor": "white",
            "gridcolor": "#DFE8F3",
            "gridwidth": 2,
            "linecolor": "#EBF0F8",
            "showbackground": true,
            "ticks": "",
            "zerolinecolor": "#EBF0F8"
           },
           "zaxis": {
            "backgroundcolor": "white",
            "gridcolor": "#DFE8F3",
            "gridwidth": 2,
            "linecolor": "#EBF0F8",
            "showbackground": true,
            "ticks": "",
            "zerolinecolor": "#EBF0F8"
           }
          },
          "shapedefaults": {
           "line": {
            "color": "#2a3f5f"
           }
          },
          "ternary": {
           "aaxis": {
            "gridcolor": "#DFE8F3",
            "linecolor": "#A2B1C6",
            "ticks": ""
           },
           "baxis": {
            "gridcolor": "#DFE8F3",
            "linecolor": "#A2B1C6",
            "ticks": ""
           },
           "bgcolor": "white",
           "caxis": {
            "gridcolor": "#DFE8F3",
            "linecolor": "#A2B1C6",
            "ticks": ""
           }
          },
          "title": {
           "x": 0.05
          },
          "xaxis": {
           "automargin": true,
           "gridcolor": "#EBF0F8",
           "linecolor": "#EBF0F8",
           "ticks": "",
           "title": {
            "standoff": 15
           },
           "zerolinecolor": "#EBF0F8",
           "zerolinewidth": 2
          },
          "yaxis": {
           "automargin": true,
           "gridcolor": "#EBF0F8",
           "linecolor": "#EBF0F8",
           "ticks": "",
           "title": {
            "standoff": 15
           },
           "zerolinecolor": "#EBF0F8",
           "zerolinewidth": 2
          }
         }
        },
        "font": {
         "family": "Times New Roman",
         "size": 16
        },
        "xaxis": {
         "title": {
          "text": "Temperature"
         },
         "tickmode": "array",
         "tickvals": [
          0.0,
          0.2,
          0.5,
          0.7,
          1.0
         ],
         "ticktext": [
          "0.0",
          "0.2",
          "0.5",
          "0.7",
          "1.0"
         ]
        },
        "title": {
         "text": "<b>Mistral-7B vs Mistral-Large-2: Avg Rank vs Temperature</b>"
        },
        "yaxis": {
         "title": {
          "text": "Average Rank (Lower = Better)"
         }
        },
        "height": 600
       },
       "config": {
        "plotlyServerURL": "https://plot.ly"
       }
      }
     },
     "metadata": {},
     "output_type": "display_data"
    },
    {
     "name": "stdout",
     "output_type": "stream",
     "text": [
      "\n",
      "=== Mean and Std Dev of avg_rank per model × temperature ===\n",
      "              model  temperature    mean       std\n",
      "0            gpt-4o          0.0  4.3125  0.426956\n",
      "1            gpt-4o          0.2  4.1875  0.657489\n",
      "2            gpt-4o          0.5  4.2500  0.500000\n",
      "3            gpt-4o          0.7  4.3125  0.554339\n",
      "4            gpt-4o          1.0  4.1875  0.473242\n",
      "5            gpt-4o          1.2  4.1875  0.554339\n",
      "6            gpt-4o          1.4  4.9375  1.390069\n",
      "7            gpt-4o          1.6  5.6250  1.652019\n",
      "8       gpt-4o-mini          0.0  5.3750  0.829156\n",
      "9       gpt-4o-mini          0.2  5.9375  0.426956\n",
      "10      gpt-4o-mini          0.5  4.3125  0.746520\n",
      "11      gpt-4o-mini          0.7  3.6250  0.777282\n",
      "12      gpt-4o-mini          1.0  3.5000  0.353553\n",
      "13      gpt-4o-mini          1.2  3.9375  1.328768\n",
      "14      gpt-4o-mini          1.4  3.8125  0.239357\n",
      "15      gpt-4o-mini          1.6  5.3750  0.968246\n",
      "16       mistral-7B          0.0  3.0625  0.800391\n",
      "17       mistral-7B          0.2  2.9375  0.657489\n",
      "18       mistral-7B          0.5  3.3750  0.478714\n",
      "19       mistral-7B          0.7  2.4375  0.826009\n",
      "20       mistral-7B          1.0  3.1875  0.239357\n",
      "21  mistral-large-2          0.0  3.3125  0.554339\n",
      "22  mistral-large-2          0.2  2.7500  1.136515\n",
      "23  mistral-large-2          0.5  3.5000  0.540062\n",
      "24  mistral-large-2          0.7  2.5000  0.978945\n",
      "25  mistral-large-2          1.0  2.8750  0.433013\n"
     ]
    }
   ],
   "execution_count": 10
  },
  {
   "metadata": {
    "ExecuteTime": {
     "end_time": "2025-10-28T00:04:29.132229Z",
     "start_time": "2025-10-28T00:04:13.364621Z"
    }
   },
   "cell_type": "code",
   "source": [
    "import plotly.graph_objects as go\n",
    "from plotly.subplots import make_subplots\n",
    "\n",
    "# === Colors & line styles ===\n",
    "style_colors = {\n",
    "    \"gpt-4o\": \"#1f77b4\",\n",
    "    \"gpt-4o-mini\": \"#ff7f0e\",\n",
    "    \"mistral-7b\": \"#2ca02c\",\n",
    "    \"mistral-large-2\": \"#9467bd\",\n",
    "}\n",
    "line_styles = {\n",
    "    \"gpt-4o\": \"solid\",\n",
    "    \"gpt-4o-mini\": \"dot\",\n",
    "    \"mistral-7b\": \"dot\",\n",
    "    \"mistral-large-2\": \"solid\",\n",
    "}\n",
    "\n",
    "# === Normalize model names in DataFrame (critical fix) ===\n",
    "summary[\"model\"] = summary[\"model\"].str.lower()\n",
    "\n",
    "# === Temperature grids ===\n",
    "gpt_temps = [0.0, 0.2, 0.5, 0.7, 1.0, 1.2, 1.4, 1.6]\n",
    "mistral_temps = [0.0, 0.2, 0.5, 0.7, 1.0]\n",
    "\n",
    "# === Subplot layout: GPT | Mistral ===\n",
    "fig = make_subplots(\n",
    "    rows=1, cols=2,\n",
    "    subplot_titles=(\n",
    "        \"<b>GPT-4o Family</b>\",\n",
    "        \"<b>Mistral Family</b>\"\n",
    "    ),\n",
    "    horizontal_spacing=0.06\n",
    ")\n",
    "\n",
    "families = {\n",
    "    \"GPT-4o Family\": [\"gpt-4o\", \"gpt-4o-mini\"],\n",
    "    \"Mistral Family\": [\"mistral-7b\", \"mistral-large-2\"]\n",
    "}\n",
    "\n",
    "# === Add traces ===\n",
    "for i, (family, models) in enumerate(families.items(), start=1):\n",
    "    for model in models:\n",
    "        subset = summary[summary[\"model\"] == model].sort_values(\"temperature\")\n",
    "        if subset.empty:\n",
    "            print(f\"⚠️ Skipped: {model} (no data found)\")\n",
    "            continue\n",
    "        fig.add_trace(\n",
    "            go.Scatter(\n",
    "                x=subset[\"temperature\"],\n",
    "                y=subset[\"mean\"],\n",
    "                mode=\"lines+markers\",\n",
    "                name=model,  # lowercase consistent legend\n",
    "                line=dict(\n",
    "                    color=style_colors[model],\n",
    "                    dash=line_styles[model],\n",
    "                    width=2\n",
    "                ),\n",
    "                marker=dict(size=5),\n",
    "                error_y=dict(\n",
    "                    type=\"data\",\n",
    "                    array=subset.get(\"std\", [0]*len(subset)),\n",
    "                    visible=True,\n",
    "                    color=style_colors[model]\n",
    "                ),\n",
    "                hovertemplate=f\"Model={model}<br>Temp=%{{x}}<br>Avg Rank=%{{y:.2f}}\"\n",
    "            ),\n",
    "            row=1, col=i\n",
    "        )\n",
    "\n",
    "# === Layout ===\n",
    "fig.update_layout(\n",
    "    template=\"plotly_white\",\n",
    "    width=680,\n",
    "    height=300,\n",
    "    font=dict(family=\"Times New Roman\", size=12),\n",
    "    legend=dict(\n",
    "        orientation=\"h\",\n",
    "        y=-0.3,\n",
    "        x=0.5,\n",
    "        xanchor=\"center\",\n",
    "        font=dict(size=11)\n",
    "    ),\n",
    "    margin=dict(l=45, r=35, t=55, b=45),\n",
    ")\n",
    "\n",
    "# === Axis labels and tick styling (bold) ===\n",
    "bold_font = dict(family=\"Times New Roman\", size=11, color=\"black\")\n",
    "\n",
    "fig.update_xaxes(\n",
    "    tickvals=gpt_temps,\n",
    "    title_text=\"<b>Temperature (T)</b>\",\n",
    "    title_font=bold_font,\n",
    "    tickfont=dict(family=\"Times New Roman\", size=10, color=\"black\"),\n",
    "    row=1, col=1\n",
    ")\n",
    "fig.update_xaxes(\n",
    "    tickvals=mistral_temps,\n",
    "    title_text=\"<b>Temperature (T)</b>\",\n",
    "    title_font=bold_font,\n",
    "    tickfont=dict(family=\"Times New Roman\", size=10, color=\"black\"),\n",
    "    row=1, col=2\n",
    ")\n",
    "fig.update_yaxes(\n",
    "    title_text=\"<b>Average Rank (Lower = Better)</b>\",\n",
    "    title_font=bold_font,\n",
    "    tickfont=dict(family=\"Times New Roman\", size=10, color=\"black\"),\n",
    "    row=1, col=1\n",
    ")\n",
    "fig.update_yaxes(\n",
    "    showgrid=True,\n",
    "    zeroline=False,\n",
    "    tickfont=dict(family=\"Times New Roman\", size=10, color=\"black\"),\n",
    ")\n",
    "\n",
    "# === Bold subplot titles ===\n",
    "fig.update_annotations(font=dict(size=14, family=\"Times New Roman\", color=\"black\"))\n",
    "\n",
    "\n",
    "fig.write_html(\"fig_temperature.html\")\n",
    "fig.write_image(\"fig_temperature.pdf\", format=\"pdf\", scale=3)  # <-- PDF export\n",
    "fig.show()\n",
    "\n",
    "\n"
   ],
   "id": "adca2f8a708babcc",
   "outputs": [
    {
     "data": {
      "application/vnd.plotly.v1+json": {
       "data": [
        {
         "error_y": {
          "array": {
           "dtype": "f8",
           "bdata": "DGLpcEBT2z/Gu7IuJgrlPwAAAAAAAOA/0jFPByW94T9hCCFVmkneP9MxTwclveE/Uyif7rg99j8McKxwq276Pw=="
          },
          "color": "#1f77b4",
          "type": "data",
          "visible": true
         },
         "hovertemplate": "Model=gpt-4o<br>Temp=%{x}<br>Avg Rank=%{y:.2f}",
         "line": {
          "color": "#1f77b4",
          "dash": "solid",
          "width": 2
         },
         "marker": {
          "size": 5
         },
         "mode": "lines+markers",
         "name": "gpt-4o",
         "x": {
          "dtype": "f8",
          "bdata": "AAAAAAAAAACamZmZmZnJPwAAAAAAAOA/ZmZmZmZm5j8AAAAAAADwPzMzMzMzM/M/ZmZmZmZm9j+amZmZmZn5Pw=="
         },
         "y": {
          "dtype": "f8",
          "bdata": "AAAAAABAEUAAAAAAAMAQQAAAAAAAABFAAAAAAABAEUAAAAAAAMAQQAAAAAAAwBBAAAAAAADAE0AAAAAAAIAWQA=="
         },
         "type": "scatter",
         "xaxis": "x",
         "yaxis": "y"
        },
        {
         "error_y": {
          "array": {
           "dtype": "f8",
           "bdata": "M2/9k3KI6j8MYulwQFPbP+nhqkl94+c/h27mon3f6D/MO39mnqDWPzbQ0niiQvU/PsGDLD6jzj/aTk+x3vvuPw=="
          },
          "color": "#ff7f0e",
          "type": "data",
          "visible": true
         },
         "hovertemplate": "Model=gpt-4o-mini<br>Temp=%{x}<br>Avg Rank=%{y:.2f}",
         "line": {
          "color": "#ff7f0e",
          "dash": "dot",
          "width": 2
         },
         "marker": {
          "size": 5
         },
         "mode": "lines+markers",
         "name": "gpt-4o-mini",
         "x": {
          "dtype": "f8",
          "bdata": "AAAAAAAAAACamZmZmZnJPwAAAAAAAOA/ZmZmZmZm5j8AAAAAAADwPzMzMzMzM/M/ZmZmZmZm9j+amZmZmZn5Pw=="
         },
         "y": {
          "dtype": "f8",
          "bdata": "AAAAAACAFUAAAAAAAMAXQAAAAAAAQBFAAAAAAAAADUAAAAAAAAAMQAAAAAAAgA9AAAAAAACADkAAAAAAAIAVQA=="
         },
         "type": "scatter",
         "xaxis": "x",
         "yaxis": "y"
        },
        {
         "error_y": {
          "array": {
           "dtype": "f8",
           "bdata": "Af+fmcyc6T/Fu7IuJgrlP0DBgyw+o94/DXCscKtu6j8+wYMsPqPOPw=="
          },
          "color": "#2ca02c",
          "type": "data",
          "visible": true
         },
         "hovertemplate": "Model=mistral-7b<br>Temp=%{x}<br>Avg Rank=%{y:.2f}",
         "line": {
          "color": "#2ca02c",
          "dash": "dot",
          "width": 2
         },
         "marker": {
          "size": 5
         },
         "mode": "lines+markers",
         "name": "mistral-7b",
         "x": {
          "dtype": "f8",
          "bdata": "AAAAAAAAAACamZmZmZnJPwAAAAAAAOA/ZmZmZmZm5j8AAAAAAADwPw=="
         },
         "y": {
          "dtype": "f8",
          "bdata": "AAAAAACACEAAAAAAAIAHQAAAAAAAAAtAAAAAAACAA0AAAAAAAIAJQA=="
         },
         "type": "scatter",
         "xaxis": "x2",
         "yaxis": "y2"
        },
        {
         "error_y": {
          "array": {
           "dtype": "f8",
           "bdata": "0zFPByW94T8GnTyAKi/yP0MMxIYvSOE/sD2EfIRT7z+qTFjoerbbPw=="
          },
          "color": "#9467bd",
          "type": "data",
          "visible": true
         },
         "hovertemplate": "Model=mistral-large-2<br>Temp=%{x}<br>Avg Rank=%{y:.2f}",
         "line": {
          "color": "#9467bd",
          "dash": "solid",
          "width": 2
         },
         "marker": {
          "size": 5
         },
         "mode": "lines+markers",
         "name": "mistral-large-2",
         "x": {
          "dtype": "f8",
          "bdata": "AAAAAAAAAACamZmZmZnJPwAAAAAAAOA/ZmZmZmZm5j8AAAAAAADwPw=="
         },
         "y": {
          "dtype": "f8",
          "bdata": "AAAAAACACkAAAAAAAAAGQAAAAAAAAAxAAAAAAAAABEAAAAAAAAAHQA=="
         },
         "type": "scatter",
         "xaxis": "x2",
         "yaxis": "y2"
        }
       ],
       "layout": {
        "template": {
         "data": {
          "barpolar": [
           {
            "marker": {
             "line": {
              "color": "white",
              "width": 0.5
             },
             "pattern": {
              "fillmode": "overlay",
              "size": 10,
              "solidity": 0.2
             }
            },
            "type": "barpolar"
           }
          ],
          "bar": [
           {
            "error_x": {
             "color": "#2a3f5f"
            },
            "error_y": {
             "color": "#2a3f5f"
            },
            "marker": {
             "line": {
              "color": "white",
              "width": 0.5
             },
             "pattern": {
              "fillmode": "overlay",
              "size": 10,
              "solidity": 0.2
             }
            },
            "type": "bar"
           }
          ],
          "carpet": [
           {
            "aaxis": {
             "endlinecolor": "#2a3f5f",
             "gridcolor": "#C8D4E3",
             "linecolor": "#C8D4E3",
             "minorgridcolor": "#C8D4E3",
             "startlinecolor": "#2a3f5f"
            },
            "baxis": {
             "endlinecolor": "#2a3f5f",
             "gridcolor": "#C8D4E3",
             "linecolor": "#C8D4E3",
             "minorgridcolor": "#C8D4E3",
             "startlinecolor": "#2a3f5f"
            },
            "type": "carpet"
           }
          ],
          "choropleth": [
           {
            "colorbar": {
             "outlinewidth": 0,
             "ticks": ""
            },
            "type": "choropleth"
           }
          ],
          "contourcarpet": [
           {
            "colorbar": {
             "outlinewidth": 0,
             "ticks": ""
            },
            "type": "contourcarpet"
           }
          ],
          "contour": [
           {
            "colorbar": {
             "outlinewidth": 0,
             "ticks": ""
            },
            "colorscale": [
             [
              0.0,
              "#0d0887"
             ],
             [
              0.1111111111111111,
              "#46039f"
             ],
             [
              0.2222222222222222,
              "#7201a8"
             ],
             [
              0.3333333333333333,
              "#9c179e"
             ],
             [
              0.4444444444444444,
              "#bd3786"
             ],
             [
              0.5555555555555556,
              "#d8576b"
             ],
             [
              0.6666666666666666,
              "#ed7953"
             ],
             [
              0.7777777777777778,
              "#fb9f3a"
             ],
             [
              0.8888888888888888,
              "#fdca26"
             ],
             [
              1.0,
              "#f0f921"
             ]
            ],
            "type": "contour"
           }
          ],
          "heatmap": [
           {
            "colorbar": {
             "outlinewidth": 0,
             "ticks": ""
            },
            "colorscale": [
             [
              0.0,
              "#0d0887"
             ],
             [
              0.1111111111111111,
              "#46039f"
             ],
             [
              0.2222222222222222,
              "#7201a8"
             ],
             [
              0.3333333333333333,
              "#9c179e"
             ],
             [
              0.4444444444444444,
              "#bd3786"
             ],
             [
              0.5555555555555556,
              "#d8576b"
             ],
             [
              0.6666666666666666,
              "#ed7953"
             ],
             [
              0.7777777777777778,
              "#fb9f3a"
             ],
             [
              0.8888888888888888,
              "#fdca26"
             ],
             [
              1.0,
              "#f0f921"
             ]
            ],
            "type": "heatmap"
           }
          ],
          "histogram2dcontour": [
           {
            "colorbar": {
             "outlinewidth": 0,
             "ticks": ""
            },
            "colorscale": [
             [
              0.0,
              "#0d0887"
             ],
             [
              0.1111111111111111,
              "#46039f"
             ],
             [
              0.2222222222222222,
              "#7201a8"
             ],
             [
              0.3333333333333333,
              "#9c179e"
             ],
             [
              0.4444444444444444,
              "#bd3786"
             ],
             [
              0.5555555555555556,
              "#d8576b"
             ],
             [
              0.6666666666666666,
              "#ed7953"
             ],
             [
              0.7777777777777778,
              "#fb9f3a"
             ],
             [
              0.8888888888888888,
              "#fdca26"
             ],
             [
              1.0,
              "#f0f921"
             ]
            ],
            "type": "histogram2dcontour"
           }
          ],
          "histogram2d": [
           {
            "colorbar": {
             "outlinewidth": 0,
             "ticks": ""
            },
            "colorscale": [
             [
              0.0,
              "#0d0887"
             ],
             [
              0.1111111111111111,
              "#46039f"
             ],
             [
              0.2222222222222222,
              "#7201a8"
             ],
             [
              0.3333333333333333,
              "#9c179e"
             ],
             [
              0.4444444444444444,
              "#bd3786"
             ],
             [
              0.5555555555555556,
              "#d8576b"
             ],
             [
              0.6666666666666666,
              "#ed7953"
             ],
             [
              0.7777777777777778,
              "#fb9f3a"
             ],
             [
              0.8888888888888888,
              "#fdca26"
             ],
             [
              1.0,
              "#f0f921"
             ]
            ],
            "type": "histogram2d"
           }
          ],
          "histogram": [
           {
            "marker": {
             "pattern": {
              "fillmode": "overlay",
              "size": 10,
              "solidity": 0.2
             }
            },
            "type": "histogram"
           }
          ],
          "mesh3d": [
           {
            "colorbar": {
             "outlinewidth": 0,
             "ticks": ""
            },
            "type": "mesh3d"
           }
          ],
          "parcoords": [
           {
            "line": {
             "colorbar": {
              "outlinewidth": 0,
              "ticks": ""
             }
            },
            "type": "parcoords"
           }
          ],
          "pie": [
           {
            "automargin": true,
            "type": "pie"
           }
          ],
          "scatter3d": [
           {
            "line": {
             "colorbar": {
              "outlinewidth": 0,
              "ticks": ""
             }
            },
            "marker": {
             "colorbar": {
              "outlinewidth": 0,
              "ticks": ""
             }
            },
            "type": "scatter3d"
           }
          ],
          "scattercarpet": [
           {
            "marker": {
             "colorbar": {
              "outlinewidth": 0,
              "ticks": ""
             }
            },
            "type": "scattercarpet"
           }
          ],
          "scattergeo": [
           {
            "marker": {
             "colorbar": {
              "outlinewidth": 0,
              "ticks": ""
             }
            },
            "type": "scattergeo"
           }
          ],
          "scattergl": [
           {
            "marker": {
             "colorbar": {
              "outlinewidth": 0,
              "ticks": ""
             }
            },
            "type": "scattergl"
           }
          ],
          "scattermapbox": [
           {
            "marker": {
             "colorbar": {
              "outlinewidth": 0,
              "ticks": ""
             }
            },
            "type": "scattermapbox"
           }
          ],
          "scattermap": [
           {
            "marker": {
             "colorbar": {
              "outlinewidth": 0,
              "ticks": ""
             }
            },
            "type": "scattermap"
           }
          ],
          "scatterpolargl": [
           {
            "marker": {
             "colorbar": {
              "outlinewidth": 0,
              "ticks": ""
             }
            },
            "type": "scatterpolargl"
           }
          ],
          "scatterpolar": [
           {
            "marker": {
             "colorbar": {
              "outlinewidth": 0,
              "ticks": ""
             }
            },
            "type": "scatterpolar"
           }
          ],
          "scatter": [
           {
            "fillpattern": {
             "fillmode": "overlay",
             "size": 10,
             "solidity": 0.2
            },
            "type": "scatter"
           }
          ],
          "scatterternary": [
           {
            "marker": {
             "colorbar": {
              "outlinewidth": 0,
              "ticks": ""
             }
            },
            "type": "scatterternary"
           }
          ],
          "surface": [
           {
            "colorbar": {
             "outlinewidth": 0,
             "ticks": ""
            },
            "colorscale": [
             [
              0.0,
              "#0d0887"
             ],
             [
              0.1111111111111111,
              "#46039f"
             ],
             [
              0.2222222222222222,
              "#7201a8"
             ],
             [
              0.3333333333333333,
              "#9c179e"
             ],
             [
              0.4444444444444444,
              "#bd3786"
             ],
             [
              0.5555555555555556,
              "#d8576b"
             ],
             [
              0.6666666666666666,
              "#ed7953"
             ],
             [
              0.7777777777777778,
              "#fb9f3a"
             ],
             [
              0.8888888888888888,
              "#fdca26"
             ],
             [
              1.0,
              "#f0f921"
             ]
            ],
            "type": "surface"
           }
          ],
          "table": [
           {
            "cells": {
             "fill": {
              "color": "#EBF0F8"
             },
             "line": {
              "color": "white"
             }
            },
            "header": {
             "fill": {
              "color": "#C8D4E3"
             },
             "line": {
              "color": "white"
             }
            },
            "type": "table"
           }
          ]
         },
         "layout": {
          "annotationdefaults": {
           "arrowcolor": "#2a3f5f",
           "arrowhead": 0,
           "arrowwidth": 1
          },
          "autotypenumbers": "strict",
          "coloraxis": {
           "colorbar": {
            "outlinewidth": 0,
            "ticks": ""
           }
          },
          "colorscale": {
           "diverging": [
            [
             0,
             "#8e0152"
            ],
            [
             0.1,
             "#c51b7d"
            ],
            [
             0.2,
             "#de77ae"
            ],
            [
             0.3,
             "#f1b6da"
            ],
            [
             0.4,
             "#fde0ef"
            ],
            [
             0.5,
             "#f7f7f7"
            ],
            [
             0.6,
             "#e6f5d0"
            ],
            [
             0.7,
             "#b8e186"
            ],
            [
             0.8,
             "#7fbc41"
            ],
            [
             0.9,
             "#4d9221"
            ],
            [
             1,
             "#276419"
            ]
           ],
           "sequential": [
            [
             0.0,
             "#0d0887"
            ],
            [
             0.1111111111111111,
             "#46039f"
            ],
            [
             0.2222222222222222,
             "#7201a8"
            ],
            [
             0.3333333333333333,
             "#9c179e"
            ],
            [
             0.4444444444444444,
             "#bd3786"
            ],
            [
             0.5555555555555556,
             "#d8576b"
            ],
            [
             0.6666666666666666,
             "#ed7953"
            ],
            [
             0.7777777777777778,
             "#fb9f3a"
            ],
            [
             0.8888888888888888,
             "#fdca26"
            ],
            [
             1.0,
             "#f0f921"
            ]
           ],
           "sequentialminus": [
            [
             0.0,
             "#0d0887"
            ],
            [
             0.1111111111111111,
             "#46039f"
            ],
            [
             0.2222222222222222,
             "#7201a8"
            ],
            [
             0.3333333333333333,
             "#9c179e"
            ],
            [
             0.4444444444444444,
             "#bd3786"
            ],
            [
             0.5555555555555556,
             "#d8576b"
            ],
            [
             0.6666666666666666,
             "#ed7953"
            ],
            [
             0.7777777777777778,
             "#fb9f3a"
            ],
            [
             0.8888888888888888,
             "#fdca26"
            ],
            [
             1.0,
             "#f0f921"
            ]
           ]
          },
          "colorway": [
           "#636efa",
           "#EF553B",
           "#00cc96",
           "#ab63fa",
           "#FFA15A",
           "#19d3f3",
           "#FF6692",
           "#B6E880",
           "#FF97FF",
           "#FECB52"
          ],
          "font": {
           "color": "#2a3f5f"
          },
          "geo": {
           "bgcolor": "white",
           "lakecolor": "white",
           "landcolor": "white",
           "showlakes": true,
           "showland": true,
           "subunitcolor": "#C8D4E3"
          },
          "hoverlabel": {
           "align": "left"
          },
          "hovermode": "closest",
          "mapbox": {
           "style": "light"
          },
          "paper_bgcolor": "white",
          "plot_bgcolor": "white",
          "polar": {
           "angularaxis": {
            "gridcolor": "#EBF0F8",
            "linecolor": "#EBF0F8",
            "ticks": ""
           },
           "bgcolor": "white",
           "radialaxis": {
            "gridcolor": "#EBF0F8",
            "linecolor": "#EBF0F8",
            "ticks": ""
           }
          },
          "scene": {
           "xaxis": {
            "backgroundcolor": "white",
            "gridcolor": "#DFE8F3",
            "gridwidth": 2,
            "linecolor": "#EBF0F8",
            "showbackground": true,
            "ticks": "",
            "zerolinecolor": "#EBF0F8"
           },
           "yaxis": {
            "backgroundcolor": "white",
            "gridcolor": "#DFE8F3",
            "gridwidth": 2,
            "linecolor": "#EBF0F8",
            "showbackground": true,
            "ticks": "",
            "zerolinecolor": "#EBF0F8"
           },
           "zaxis": {
            "backgroundcolor": "white",
            "gridcolor": "#DFE8F3",
            "gridwidth": 2,
            "linecolor": "#EBF0F8",
            "showbackground": true,
            "ticks": "",
            "zerolinecolor": "#EBF0F8"
           }
          },
          "shapedefaults": {
           "line": {
            "color": "#2a3f5f"
           }
          },
          "ternary": {
           "aaxis": {
            "gridcolor": "#DFE8F3",
            "linecolor": "#A2B1C6",
            "ticks": ""
           },
           "baxis": {
            "gridcolor": "#DFE8F3",
            "linecolor": "#A2B1C6",
            "ticks": ""
           },
           "bgcolor": "white",
           "caxis": {
            "gridcolor": "#DFE8F3",
            "linecolor": "#A2B1C6",
            "ticks": ""
           }
          },
          "title": {
           "x": 0.05
          },
          "xaxis": {
           "automargin": true,
           "gridcolor": "#EBF0F8",
           "linecolor": "#EBF0F8",
           "ticks": "",
           "title": {
            "standoff": 15
           },
           "zerolinecolor": "#EBF0F8",
           "zerolinewidth": 2
          },
          "yaxis": {
           "automargin": true,
           "gridcolor": "#EBF0F8",
           "linecolor": "#EBF0F8",
           "ticks": "",
           "title": {
            "standoff": 15
           },
           "zerolinecolor": "#EBF0F8",
           "zerolinewidth": 2
          }
         }
        },
        "xaxis": {
         "anchor": "y",
         "domain": [
          0.0,
          0.47
         ],
         "title": {
          "font": {
           "family": "Times New Roman",
           "size": 11,
           "color": "black"
          },
          "text": "<b>Temperature (T)</b>"
         },
         "tickfont": {
          "family": "Times New Roman",
          "size": 10,
          "color": "black"
         },
         "tickvals": [
          0.0,
          0.2,
          0.5,
          0.7,
          1.0,
          1.2,
          1.4,
          1.6
         ]
        },
        "yaxis": {
         "anchor": "x",
         "domain": [
          0.0,
          1.0
         ],
         "title": {
          "font": {
           "family": "Times New Roman",
           "size": 11,
           "color": "black"
          },
          "text": "<b>Average Rank (Lower = Better)</b>"
         },
         "tickfont": {
          "family": "Times New Roman",
          "size": 10,
          "color": "black"
         },
         "showgrid": true,
         "zeroline": false
        },
        "xaxis2": {
         "anchor": "y2",
         "domain": [
          0.53,
          1.0
         ],
         "title": {
          "font": {
           "family": "Times New Roman",
           "size": 11,
           "color": "black"
          },
          "text": "<b>Temperature (T)</b>"
         },
         "tickfont": {
          "family": "Times New Roman",
          "size": 10,
          "color": "black"
         },
         "tickvals": [
          0.0,
          0.2,
          0.5,
          0.7,
          1.0
         ]
        },
        "yaxis2": {
         "anchor": "x2",
         "domain": [
          0.0,
          1.0
         ],
         "tickfont": {
          "family": "Times New Roman",
          "size": 10,
          "color": "black"
         },
         "showgrid": true,
         "zeroline": false
        },
        "annotations": [
         {
          "font": {
           "size": 14,
           "family": "Times New Roman",
           "color": "black"
          },
          "showarrow": false,
          "text": "<b>GPT-4o Family</b>",
          "x": 0.235,
          "xanchor": "center",
          "xref": "paper",
          "y": 1.0,
          "yanchor": "bottom",
          "yref": "paper"
         },
         {
          "font": {
           "size": 14,
           "family": "Times New Roman",
           "color": "black"
          },
          "showarrow": false,
          "text": "<b>Mistral Family</b>",
          "x": 0.765,
          "xanchor": "center",
          "xref": "paper",
          "y": 1.0,
          "yanchor": "bottom",
          "yref": "paper"
         }
        ],
        "font": {
         "family": "Times New Roman",
         "size": 12
        },
        "legend": {
         "font": {
          "size": 11
         },
         "orientation": "h",
         "y": -0.3,
         "x": 0.5,
         "xanchor": "center"
        },
        "margin": {
         "l": 45,
         "r": 35,
         "t": 55,
         "b": 45
        },
        "width": 680,
        "height": 300
       },
       "config": {
        "plotlyServerURL": "https://plot.ly"
       }
      }
     },
     "metadata": {},
     "output_type": "display_data"
    }
   ],
   "execution_count": 11
  },
  {
   "metadata": {
    "ExecuteTime": {
     "end_time": "2025-10-19T07:04:12.207055Z",
     "start_time": "2025-10-19T07:04:12.077715Z"
    }
   },
   "cell_type": "code",
   "source": [
    "import pandas as pd\n",
    "import plotly.graph_objects as go\n",
    "\n",
    "# --- Config ---\n",
    "style_colors = {\n",
    "    \"zero_shot\": \"#1f77b4\",\n",
    "    \"few_shot\": \"#ff7f0e\",\n",
    "    \"zero_shot_cot\": \"#2ca02c\",\n",
    "    \"few_shot_cot\": \"#9467bd\",\n",
    "}\n",
    "line_styles = {\n",
    "    \"gpt-4o\": \"solid\",\n",
    "    \"gpt-4o-mini\": \"dot\",\n",
    "    \"mistral-7B\": \"dot\",\n",
    "    \"mistral-large-2\": \"solid\",\n",
    "}\n",
    "\n",
    "# Expected temperature grids\n",
    "gpt_temps = [0.0, 0.2, 0.5, 0.7, 1.0, 1.2,1.4,1.6]\n",
    "mistral_temps = [0.0, 0.2, 0.5, 0.7, 1.0]\n",
    "\n",
    "# --- Function to make compact plot for a pair of models ---\n",
    "def plot_pair(df, models, title, expected_temps, filename=None):\n",
    "    fig = go.Figure()\n",
    "    for model in models:\n",
    "        model_df = df[df[\"model\"] == model]\n",
    "        for style in model_df[\"style\"].unique():\n",
    "            subset = model_df[model_df[\"style\"] == style].sort_values(\"temperature\")\n",
    "            fig.add_trace(go.Scatter(\n",
    "                x=subset[\"temperature\"],\n",
    "                y=subset[\"avg_rank\"],\n",
    "                mode=\"lines+markers\",\n",
    "                name=f\"{model} - {style}\",\n",
    "                line=dict(\n",
    "                    color=style_colors[style],\n",
    "                    dash=line_styles[model],\n",
    "                    width=2\n",
    "                ),\n",
    "                marker=dict(size=5),\n",
    "            ))\n",
    "    fig.update_layout(\n",
    "        title=f\"<b>{title}</b>\",\n",
    "        xaxis_title=\"Temperature\",\n",
    "        yaxis_title=\"Average Rank (Lower = Better)\",\n",
    "        template=\"plotly_white\",\n",
    "        font=dict(family=\"Times New Roman\", size=12),\n",
    "        width=550,\n",
    "        height=350,\n",
    "        margin=dict(l=50, r=20, t=50, b=50),\n",
    "        legend=dict(\n",
    "            font=dict(size=10),\n",
    "            orientation=\"h\",\n",
    "            y=-0.3\n",
    "        ),\n",
    "        xaxis=dict(\n",
    "            tickmode=\"array\",\n",
    "            tickvals=expected_temps,\n",
    "            ticktext=[str(t) for t in expected_temps]\n",
    "        )\n",
    "    )\n",
    "\n",
    "    # Save as HTML if filename is provided\n",
    "    if filename:\n",
    "        fig.write_html(filename)\n",
    "        print(f\" Saved {filename}\")\n",
    "\n",
    "    return fig\n",
    "\n",
    "# --- Plotting ---\n",
    "\n",
    "\n",
    "fig_gpt = plot_pair(per_model, [\"gpt-4o\", \"gpt-4o-mini\"],\n",
    "                    \"GPT-4o vs GPT-4o-mini: Avg Rank vs Temperature\",\n",
    "                    gpt_temps, \"gpt_family_avg_rank_vs_temperature.html\")\n",
    "\n",
    "fig_mistral = plot_pair(per_model, [\"mistral-7B\", \"mistral-large-2\"],\n",
    "                        \"Mistral-7B vs Mistral-Large-2: Avg Rank vs Temperature\",\n",
    "                        mistral_temps, \"mistral_family_avg_rank_vs_temperature.html\")\n"
   ],
   "id": "232c163f3664e540",
   "outputs": [
    {
     "name": "stdout",
     "output_type": "stream",
     "text": [
      " Saved gpt_family_avg_rank_vs_temperature.html\n",
      " Saved mistral_family_avg_rank_vs_temperature.html\n"
     ]
    }
   ],
   "execution_count": 37
  }
 ],
 "metadata": {
  "kernelspec": {
   "display_name": "Python 3",
   "language": "python",
   "name": "python3"
  },
  "language_info": {
   "codemirror_mode": {
    "name": "ipython",
    "version": 2
   },
   "file_extension": ".py",
   "mimetype": "text/x-python",
   "name": "python",
   "nbconvert_exporter": "python",
   "pygments_lexer": "ipython2",
   "version": "2.7.6"
  }
 },
 "nbformat": 4,
 "nbformat_minor": 5
}
